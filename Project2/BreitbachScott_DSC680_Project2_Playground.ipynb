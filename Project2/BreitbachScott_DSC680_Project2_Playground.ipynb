{
  "nbformat": 4,
  "nbformat_minor": 0,
  "metadata": {
    "colab": {
      "name": "BreitbachScott_DSC680_Project2_Playground.ipynb",
      "provenance": [],
      "collapsed_sections": [],
      "toc_visible": true
    },
    "kernelspec": {
      "name": "python3",
      "display_name": "Python 3"
    },
    "language_info": {
      "name": "python"
    },
    "gpuClass": "standard"
  },
  "cells": [
    {
      "cell_type": "markdown",
      "source": [
        "# Scott Breitbach\n",
        "## Project 2: Stroke Prediction\n",
        "## DSC680, Weeks 5-7\n",
        "## 05-July-2022"
      ],
      "metadata": {
        "id": "3WutY5_8Rpx0"
      }
    },
    {
      "cell_type": "code",
      "execution_count": null,
      "metadata": {
        "id": "kIHCwDUkRh5N"
      },
      "outputs": [],
      "source": [
        "## Load Libraries\n",
        "import pandas as pd\n",
        "import numpy as np\n",
        "from sklearn.model_selection import train_test_split\n",
        "# plotting:\n",
        "import matplotlib.pyplot as plt\n",
        "import seaborn as sns\n",
        "# balancing data\n",
        "from imblearn.over_sampling import RandomOverSampler"
      ]
    },
    {
      "cell_type": "markdown",
      "source": [
        "# Load Data"
      ],
      "metadata": {
        "id": "j36xKyMyR5Xp"
      }
    },
    {
      "cell_type": "code",
      "source": [
        "# import files to colab\n",
        "from google.colab import files\n",
        "\n",
        "uploaded = files.upload()\n",
        "\n",
        "for fn in uploaded.keys():\n",
        "  print('User uploaded file \"{name}\" with length {length} bytes'.format(\n",
        "      name=fn, length=len(uploaded[fn])))"
      ],
      "metadata": {
        "colab": {
          "resources": {
            "http://localhost:8080/nbextensions/google.colab/files.js": {
              "data": "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",
              "ok": true,
              "headers": [
                [
                  "content-type",
                  "application/javascript"
                ]
              ],
              "status": 200,
              "status_text": ""
            }
          },
          "base_uri": "https://localhost:8080/",
          "height": 90
        },
        "id": "uSA0XvuzR1fh",
        "outputId": "9513dfbc-2ef2-468d-95c4-602cb3fa18d6"
      },
      "execution_count": null,
      "outputs": [
        {
          "output_type": "display_data",
          "data": {
            "text/plain": [
              "<IPython.core.display.HTML object>"
            ],
            "text/html": [
              "\n",
              "     <input type=\"file\" id=\"files-f1dc63ba-b422-4e81-951c-e865c465de51\" name=\"files[]\" multiple disabled\n",
              "        style=\"border:none\" />\n",
              "     <output id=\"result-f1dc63ba-b422-4e81-951c-e865c465de51\">\n",
              "      Upload widget is only available when the cell has been executed in the\n",
              "      current browser session. Please rerun this cell to enable.\n",
              "      </output>\n",
              "      <script src=\"/nbextensions/google.colab/files.js\"></script> "
            ]
          },
          "metadata": {}
        },
        {
          "output_type": "stream",
          "name": "stdout",
          "text": [
            "Saving train_strokes.csv to train_strokes (1).csv\n",
            "User uploaded file \"train_strokes.csv\" with length 2635787 bytes\n"
          ]
        }
      ]
    },
    {
      "cell_type": "code",
      "source": [
        "def load_dataframe(path):\n",
        "  # load dataset as pandas DataFrame\n",
        "  DF = pd.read_csv(path, index_col=0)\n",
        "  return DF"
      ],
      "metadata": {
        "id": "mvjOUs6QR7zT"
      },
      "execution_count": null,
      "outputs": []
    },
    {
      "cell_type": "code",
      "source": [
        "# load the dataframe\n",
        "strokeDF = load_dataframe('/content/train_strokes.csv')"
      ],
      "metadata": {
        "id": "jklfUNO3SNO7"
      },
      "execution_count": null,
      "outputs": []
    },
    {
      "cell_type": "code",
      "source": [
        "len(strokeDF[strokeDF['age'] <= 30])"
      ],
      "metadata": {
        "colab": {
          "base_uri": "https://localhost:8080/"
        },
        "id": "1ygeUc6Qm5V4",
        "outputId": "ad3813e8-67b1-42fe-8b2b-d9df82393651"
      },
      "execution_count": null,
      "outputs": [
        {
          "output_type": "execute_result",
          "data": {
            "text/plain": [
              "14236"
            ]
          },
          "metadata": {},
          "execution_count": 11
        }
      ]
    },
    {
      "cell_type": "code",
      "source": [
        "14236/len(strokeDF)"
      ],
      "metadata": {
        "colab": {
          "base_uri": "https://localhost:8080/"
        },
        "id": "s341ufKCnDz6",
        "outputId": "b4f7e551-c563-485f-d5d8-fc69928edd64"
      },
      "execution_count": null,
      "outputs": [
        {
          "output_type": "execute_result",
          "data": {
            "text/plain": [
              "0.3280184331797235"
            ]
          },
          "metadata": {},
          "execution_count": 12
        }
      ]
    },
    {
      "cell_type": "code",
      "source": [
        "strokeDF.stroke.sum()"
      ],
      "metadata": {
        "colab": {
          "base_uri": "https://localhost:8080/"
        },
        "id": "BDFX_UhlnIuj",
        "outputId": "a01399f5-f264-4d70-a87e-c3cf8b540b78"
      },
      "execution_count": null,
      "outputs": [
        {
          "output_type": "execute_result",
          "data": {
            "text/plain": [
              "783"
            ]
          },
          "metadata": {},
          "execution_count": 13
        }
      ]
    },
    {
      "cell_type": "code",
      "source": [
        "4/783"
      ],
      "metadata": {
        "id": "ARTqAcIrnMdB",
        "outputId": "dadcfa41-09dc-45b1-d53f-76adc38d5806",
        "colab": {
          "base_uri": "https://localhost:8080/"
        }
      },
      "execution_count": null,
      "outputs": [
        {
          "output_type": "execute_result",
          "data": {
            "text/plain": [
              "0.005108556832694764"
            ]
          },
          "metadata": {},
          "execution_count": 14
        }
      ]
    },
    {
      "cell_type": "markdown",
      "source": [
        "# Look at data"
      ],
      "metadata": {
        "id": "LjfthnDrbvyQ"
      }
    },
    {
      "cell_type": "code",
      "source": [
        "# look at dataframe\n",
        "strokeDF.head()"
      ],
      "metadata": {
        "colab": {
          "base_uri": "https://localhost:8080/",
          "height": 238
        },
        "id": "rdfRhl_-Scyb",
        "outputId": "4f6e2dc1-25dd-4cd6-b0bf-2e6bd489ff7e"
      },
      "execution_count": null,
      "outputs": [
        {
          "output_type": "execute_result",
          "data": {
            "text/plain": [
              "       gender   age  hypertension  heart_disease ever_married     work_type  \\\n",
              "id                                                                            \n",
              "30669    Male   3.0             0              0           No      children   \n",
              "30468    Male  58.0             1              0          Yes       Private   \n",
              "16523  Female   8.0             0              0           No       Private   \n",
              "56543  Female  70.0             0              0          Yes       Private   \n",
              "46136    Male  14.0             0              0           No  Never_worked   \n",
              "\n",
              "      Residence_type  avg_glucose_level   bmi   smoking_status  stroke  \n",
              "id                                                                      \n",
              "30669          Rural              95.12  18.0              NaN       0  \n",
              "30468          Urban              87.96  39.2     never smoked       0  \n",
              "16523          Urban             110.89  17.6              NaN       0  \n",
              "56543          Rural              69.04  35.9  formerly smoked       0  \n",
              "46136          Rural             161.28  19.1              NaN       0  "
            ],
            "text/html": [
              "\n",
              "  <div id=\"df-fac2d83d-4ca3-470f-a0b3-72fbbc2eaea6\">\n",
              "    <div class=\"colab-df-container\">\n",
              "      <div>\n",
              "<style scoped>\n",
              "    .dataframe tbody tr th:only-of-type {\n",
              "        vertical-align: middle;\n",
              "    }\n",
              "\n",
              "    .dataframe tbody tr th {\n",
              "        vertical-align: top;\n",
              "    }\n",
              "\n",
              "    .dataframe thead th {\n",
              "        text-align: right;\n",
              "    }\n",
              "</style>\n",
              "<table border=\"1\" class=\"dataframe\">\n",
              "  <thead>\n",
              "    <tr style=\"text-align: right;\">\n",
              "      <th></th>\n",
              "      <th>gender</th>\n",
              "      <th>age</th>\n",
              "      <th>hypertension</th>\n",
              "      <th>heart_disease</th>\n",
              "      <th>ever_married</th>\n",
              "      <th>work_type</th>\n",
              "      <th>Residence_type</th>\n",
              "      <th>avg_glucose_level</th>\n",
              "      <th>bmi</th>\n",
              "      <th>smoking_status</th>\n",
              "      <th>stroke</th>\n",
              "    </tr>\n",
              "    <tr>\n",
              "      <th>id</th>\n",
              "      <th></th>\n",
              "      <th></th>\n",
              "      <th></th>\n",
              "      <th></th>\n",
              "      <th></th>\n",
              "      <th></th>\n",
              "      <th></th>\n",
              "      <th></th>\n",
              "      <th></th>\n",
              "      <th></th>\n",
              "      <th></th>\n",
              "    </tr>\n",
              "  </thead>\n",
              "  <tbody>\n",
              "    <tr>\n",
              "      <th>30669</th>\n",
              "      <td>Male</td>\n",
              "      <td>3.0</td>\n",
              "      <td>0</td>\n",
              "      <td>0</td>\n",
              "      <td>No</td>\n",
              "      <td>children</td>\n",
              "      <td>Rural</td>\n",
              "      <td>95.12</td>\n",
              "      <td>18.0</td>\n",
              "      <td>NaN</td>\n",
              "      <td>0</td>\n",
              "    </tr>\n",
              "    <tr>\n",
              "      <th>30468</th>\n",
              "      <td>Male</td>\n",
              "      <td>58.0</td>\n",
              "      <td>1</td>\n",
              "      <td>0</td>\n",
              "      <td>Yes</td>\n",
              "      <td>Private</td>\n",
              "      <td>Urban</td>\n",
              "      <td>87.96</td>\n",
              "      <td>39.2</td>\n",
              "      <td>never smoked</td>\n",
              "      <td>0</td>\n",
              "    </tr>\n",
              "    <tr>\n",
              "      <th>16523</th>\n",
              "      <td>Female</td>\n",
              "      <td>8.0</td>\n",
              "      <td>0</td>\n",
              "      <td>0</td>\n",
              "      <td>No</td>\n",
              "      <td>Private</td>\n",
              "      <td>Urban</td>\n",
              "      <td>110.89</td>\n",
              "      <td>17.6</td>\n",
              "      <td>NaN</td>\n",
              "      <td>0</td>\n",
              "    </tr>\n",
              "    <tr>\n",
              "      <th>56543</th>\n",
              "      <td>Female</td>\n",
              "      <td>70.0</td>\n",
              "      <td>0</td>\n",
              "      <td>0</td>\n",
              "      <td>Yes</td>\n",
              "      <td>Private</td>\n",
              "      <td>Rural</td>\n",
              "      <td>69.04</td>\n",
              "      <td>35.9</td>\n",
              "      <td>formerly smoked</td>\n",
              "      <td>0</td>\n",
              "    </tr>\n",
              "    <tr>\n",
              "      <th>46136</th>\n",
              "      <td>Male</td>\n",
              "      <td>14.0</td>\n",
              "      <td>0</td>\n",
              "      <td>0</td>\n",
              "      <td>No</td>\n",
              "      <td>Never_worked</td>\n",
              "      <td>Rural</td>\n",
              "      <td>161.28</td>\n",
              "      <td>19.1</td>\n",
              "      <td>NaN</td>\n",
              "      <td>0</td>\n",
              "    </tr>\n",
              "  </tbody>\n",
              "</table>\n",
              "</div>\n",
              "      <button class=\"colab-df-convert\" onclick=\"convertToInteractive('df-fac2d83d-4ca3-470f-a0b3-72fbbc2eaea6')\"\n",
              "              title=\"Convert this dataframe to an interactive table.\"\n",
              "              style=\"display:none;\">\n",
              "        \n",
              "  <svg xmlns=\"http://www.w3.org/2000/svg\" height=\"24px\"viewBox=\"0 0 24 24\"\n",
              "       width=\"24px\">\n",
              "    <path d=\"M0 0h24v24H0V0z\" fill=\"none\"/>\n",
              "    <path d=\"M18.56 5.44l.94 2.06.94-2.06 2.06-.94-2.06-.94-.94-2.06-.94 2.06-2.06.94zm-11 1L8.5 8.5l.94-2.06 2.06-.94-2.06-.94L8.5 2.5l-.94 2.06-2.06.94zm10 10l.94 2.06.94-2.06 2.06-.94-2.06-.94-.94-2.06-.94 2.06-2.06.94z\"/><path d=\"M17.41 7.96l-1.37-1.37c-.4-.4-.92-.59-1.43-.59-.52 0-1.04.2-1.43.59L10.3 9.45l-7.72 7.72c-.78.78-.78 2.05 0 2.83L4 21.41c.39.39.9.59 1.41.59.51 0 1.02-.2 1.41-.59l7.78-7.78 2.81-2.81c.8-.78.8-2.07 0-2.86zM5.41 20L4 18.59l7.72-7.72 1.47 1.35L5.41 20z\"/>\n",
              "  </svg>\n",
              "      </button>\n",
              "      \n",
              "  <style>\n",
              "    .colab-df-container {\n",
              "      display:flex;\n",
              "      flex-wrap:wrap;\n",
              "      gap: 12px;\n",
              "    }\n",
              "\n",
              "    .colab-df-convert {\n",
              "      background-color: #E8F0FE;\n",
              "      border: none;\n",
              "      border-radius: 50%;\n",
              "      cursor: pointer;\n",
              "      display: none;\n",
              "      fill: #1967D2;\n",
              "      height: 32px;\n",
              "      padding: 0 0 0 0;\n",
              "      width: 32px;\n",
              "    }\n",
              "\n",
              "    .colab-df-convert:hover {\n",
              "      background-color: #E2EBFA;\n",
              "      box-shadow: 0px 1px 2px rgba(60, 64, 67, 0.3), 0px 1px 3px 1px rgba(60, 64, 67, 0.15);\n",
              "      fill: #174EA6;\n",
              "    }\n",
              "\n",
              "    [theme=dark] .colab-df-convert {\n",
              "      background-color: #3B4455;\n",
              "      fill: #D2E3FC;\n",
              "    }\n",
              "\n",
              "    [theme=dark] .colab-df-convert:hover {\n",
              "      background-color: #434B5C;\n",
              "      box-shadow: 0px 1px 3px 1px rgba(0, 0, 0, 0.15);\n",
              "      filter: drop-shadow(0px 1px 2px rgba(0, 0, 0, 0.3));\n",
              "      fill: #FFFFFF;\n",
              "    }\n",
              "  </style>\n",
              "\n",
              "      <script>\n",
              "        const buttonEl =\n",
              "          document.querySelector('#df-fac2d83d-4ca3-470f-a0b3-72fbbc2eaea6 button.colab-df-convert');\n",
              "        buttonEl.style.display =\n",
              "          google.colab.kernel.accessAllowed ? 'block' : 'none';\n",
              "\n",
              "        async function convertToInteractive(key) {\n",
              "          const element = document.querySelector('#df-fac2d83d-4ca3-470f-a0b3-72fbbc2eaea6');\n",
              "          const dataTable =\n",
              "            await google.colab.kernel.invokeFunction('convertToInteractive',\n",
              "                                                     [key], {});\n",
              "          if (!dataTable) return;\n",
              "\n",
              "          const docLinkHtml = 'Like what you see? Visit the ' +\n",
              "            '<a target=\"_blank\" href=https://colab.research.google.com/notebooks/data_table.ipynb>data table notebook</a>'\n",
              "            + ' to learn more about interactive tables.';\n",
              "          element.innerHTML = '';\n",
              "          dataTable['output_type'] = 'display_data';\n",
              "          await google.colab.output.renderOutput(dataTable, element);\n",
              "          const docLink = document.createElement('div');\n",
              "          docLink.innerHTML = docLinkHtml;\n",
              "          element.appendChild(docLink);\n",
              "        }\n",
              "      </script>\n",
              "    </div>\n",
              "  </div>\n",
              "  "
            ]
          },
          "metadata": {},
          "execution_count": 15
        }
      ]
    },
    {
      "cell_type": "code",
      "source": [
        "# display object types\n",
        "strokeDF.info()"
      ],
      "metadata": {
        "colab": {
          "base_uri": "https://localhost:8080/"
        },
        "id": "mxbWZgA9Sqv8",
        "outputId": "d4a978dc-2dd8-4589-9ed5-f25cc9bd91f9"
      },
      "execution_count": null,
      "outputs": [
        {
          "output_type": "stream",
          "name": "stdout",
          "text": [
            "<class 'pandas.core.frame.DataFrame'>\n",
            "Int64Index: 43400 entries, 30669 to 36271\n",
            "Data columns (total 11 columns):\n",
            " #   Column             Non-Null Count  Dtype  \n",
            "---  ------             --------------  -----  \n",
            " 0   gender             43400 non-null  object \n",
            " 1   age                43400 non-null  float64\n",
            " 2   hypertension       43400 non-null  int64  \n",
            " 3   heart_disease      43400 non-null  int64  \n",
            " 4   ever_married       43400 non-null  object \n",
            " 5   work_type          43400 non-null  object \n",
            " 6   Residence_type     43400 non-null  object \n",
            " 7   avg_glucose_level  43400 non-null  float64\n",
            " 8   bmi                41938 non-null  float64\n",
            " 9   smoking_status     30108 non-null  object \n",
            " 10  stroke             43400 non-null  int64  \n",
            "dtypes: float64(3), int64(3), object(5)\n",
            "memory usage: 4.0+ MB\n"
          ]
        }
      ]
    },
    {
      "cell_type": "code",
      "source": [
        "# summarize numerical data\n",
        "strokeDF.describe().T"
      ],
      "metadata": {
        "colab": {
          "base_uri": "https://localhost:8080/",
          "height": 238
        },
        "id": "h9tgjC4ySiF7",
        "outputId": "0a6a5d8a-d32d-433b-bb36-d68b5b0c60ff"
      },
      "execution_count": null,
      "outputs": [
        {
          "output_type": "execute_result",
          "data": {
            "text/plain": [
              "                     count        mean        std    min    25%    50%  \\\n",
              "age                43400.0   42.217894  22.519649   0.08  24.00  44.00   \n",
              "hypertension       43400.0    0.093571   0.291235   0.00   0.00   0.00   \n",
              "heart_disease      43400.0    0.047512   0.212733   0.00   0.00   0.00   \n",
              "avg_glucose_level  43400.0  104.482750  43.111751  55.00  77.54  91.58   \n",
              "bmi                41938.0   28.605038   7.770020  10.10  23.20  27.70   \n",
              "stroke             43400.0    0.018041   0.133103   0.00   0.00   0.00   \n",
              "\n",
              "                      75%     max  \n",
              "age                 60.00   82.00  \n",
              "hypertension         0.00    1.00  \n",
              "heart_disease        0.00    1.00  \n",
              "avg_glucose_level  112.07  291.05  \n",
              "bmi                 32.90   97.60  \n",
              "stroke               0.00    1.00  "
            ],
            "text/html": [
              "\n",
              "  <div id=\"df-aada3d3d-fe3a-47af-97c2-d1bf721ac9c5\">\n",
              "    <div class=\"colab-df-container\">\n",
              "      <div>\n",
              "<style scoped>\n",
              "    .dataframe tbody tr th:only-of-type {\n",
              "        vertical-align: middle;\n",
              "    }\n",
              "\n",
              "    .dataframe tbody tr th {\n",
              "        vertical-align: top;\n",
              "    }\n",
              "\n",
              "    .dataframe thead th {\n",
              "        text-align: right;\n",
              "    }\n",
              "</style>\n",
              "<table border=\"1\" class=\"dataframe\">\n",
              "  <thead>\n",
              "    <tr style=\"text-align: right;\">\n",
              "      <th></th>\n",
              "      <th>count</th>\n",
              "      <th>mean</th>\n",
              "      <th>std</th>\n",
              "      <th>min</th>\n",
              "      <th>25%</th>\n",
              "      <th>50%</th>\n",
              "      <th>75%</th>\n",
              "      <th>max</th>\n",
              "    </tr>\n",
              "  </thead>\n",
              "  <tbody>\n",
              "    <tr>\n",
              "      <th>age</th>\n",
              "      <td>43400.0</td>\n",
              "      <td>42.217894</td>\n",
              "      <td>22.519649</td>\n",
              "      <td>0.08</td>\n",
              "      <td>24.00</td>\n",
              "      <td>44.00</td>\n",
              "      <td>60.00</td>\n",
              "      <td>82.00</td>\n",
              "    </tr>\n",
              "    <tr>\n",
              "      <th>hypertension</th>\n",
              "      <td>43400.0</td>\n",
              "      <td>0.093571</td>\n",
              "      <td>0.291235</td>\n",
              "      <td>0.00</td>\n",
              "      <td>0.00</td>\n",
              "      <td>0.00</td>\n",
              "      <td>0.00</td>\n",
              "      <td>1.00</td>\n",
              "    </tr>\n",
              "    <tr>\n",
              "      <th>heart_disease</th>\n",
              "      <td>43400.0</td>\n",
              "      <td>0.047512</td>\n",
              "      <td>0.212733</td>\n",
              "      <td>0.00</td>\n",
              "      <td>0.00</td>\n",
              "      <td>0.00</td>\n",
              "      <td>0.00</td>\n",
              "      <td>1.00</td>\n",
              "    </tr>\n",
              "    <tr>\n",
              "      <th>avg_glucose_level</th>\n",
              "      <td>43400.0</td>\n",
              "      <td>104.482750</td>\n",
              "      <td>43.111751</td>\n",
              "      <td>55.00</td>\n",
              "      <td>77.54</td>\n",
              "      <td>91.58</td>\n",
              "      <td>112.07</td>\n",
              "      <td>291.05</td>\n",
              "    </tr>\n",
              "    <tr>\n",
              "      <th>bmi</th>\n",
              "      <td>41938.0</td>\n",
              "      <td>28.605038</td>\n",
              "      <td>7.770020</td>\n",
              "      <td>10.10</td>\n",
              "      <td>23.20</td>\n",
              "      <td>27.70</td>\n",
              "      <td>32.90</td>\n",
              "      <td>97.60</td>\n",
              "    </tr>\n",
              "    <tr>\n",
              "      <th>stroke</th>\n",
              "      <td>43400.0</td>\n",
              "      <td>0.018041</td>\n",
              "      <td>0.133103</td>\n",
              "      <td>0.00</td>\n",
              "      <td>0.00</td>\n",
              "      <td>0.00</td>\n",
              "      <td>0.00</td>\n",
              "      <td>1.00</td>\n",
              "    </tr>\n",
              "  </tbody>\n",
              "</table>\n",
              "</div>\n",
              "      <button class=\"colab-df-convert\" onclick=\"convertToInteractive('df-aada3d3d-fe3a-47af-97c2-d1bf721ac9c5')\"\n",
              "              title=\"Convert this dataframe to an interactive table.\"\n",
              "              style=\"display:none;\">\n",
              "        \n",
              "  <svg xmlns=\"http://www.w3.org/2000/svg\" height=\"24px\"viewBox=\"0 0 24 24\"\n",
              "       width=\"24px\">\n",
              "    <path d=\"M0 0h24v24H0V0z\" fill=\"none\"/>\n",
              "    <path d=\"M18.56 5.44l.94 2.06.94-2.06 2.06-.94-2.06-.94-.94-2.06-.94 2.06-2.06.94zm-11 1L8.5 8.5l.94-2.06 2.06-.94-2.06-.94L8.5 2.5l-.94 2.06-2.06.94zm10 10l.94 2.06.94-2.06 2.06-.94-2.06-.94-.94-2.06-.94 2.06-2.06.94z\"/><path d=\"M17.41 7.96l-1.37-1.37c-.4-.4-.92-.59-1.43-.59-.52 0-1.04.2-1.43.59L10.3 9.45l-7.72 7.72c-.78.78-.78 2.05 0 2.83L4 21.41c.39.39.9.59 1.41.59.51 0 1.02-.2 1.41-.59l7.78-7.78 2.81-2.81c.8-.78.8-2.07 0-2.86zM5.41 20L4 18.59l7.72-7.72 1.47 1.35L5.41 20z\"/>\n",
              "  </svg>\n",
              "      </button>\n",
              "      \n",
              "  <style>\n",
              "    .colab-df-container {\n",
              "      display:flex;\n",
              "      flex-wrap:wrap;\n",
              "      gap: 12px;\n",
              "    }\n",
              "\n",
              "    .colab-df-convert {\n",
              "      background-color: #E8F0FE;\n",
              "      border: none;\n",
              "      border-radius: 50%;\n",
              "      cursor: pointer;\n",
              "      display: none;\n",
              "      fill: #1967D2;\n",
              "      height: 32px;\n",
              "      padding: 0 0 0 0;\n",
              "      width: 32px;\n",
              "    }\n",
              "\n",
              "    .colab-df-convert:hover {\n",
              "      background-color: #E2EBFA;\n",
              "      box-shadow: 0px 1px 2px rgba(60, 64, 67, 0.3), 0px 1px 3px 1px rgba(60, 64, 67, 0.15);\n",
              "      fill: #174EA6;\n",
              "    }\n",
              "\n",
              "    [theme=dark] .colab-df-convert {\n",
              "      background-color: #3B4455;\n",
              "      fill: #D2E3FC;\n",
              "    }\n",
              "\n",
              "    [theme=dark] .colab-df-convert:hover {\n",
              "      background-color: #434B5C;\n",
              "      box-shadow: 0px 1px 3px 1px rgba(0, 0, 0, 0.15);\n",
              "      filter: drop-shadow(0px 1px 2px rgba(0, 0, 0, 0.3));\n",
              "      fill: #FFFFFF;\n",
              "    }\n",
              "  </style>\n",
              "\n",
              "      <script>\n",
              "        const buttonEl =\n",
              "          document.querySelector('#df-aada3d3d-fe3a-47af-97c2-d1bf721ac9c5 button.colab-df-convert');\n",
              "        buttonEl.style.display =\n",
              "          google.colab.kernel.accessAllowed ? 'block' : 'none';\n",
              "\n",
              "        async function convertToInteractive(key) {\n",
              "          const element = document.querySelector('#df-aada3d3d-fe3a-47af-97c2-d1bf721ac9c5');\n",
              "          const dataTable =\n",
              "            await google.colab.kernel.invokeFunction('convertToInteractive',\n",
              "                                                     [key], {});\n",
              "          if (!dataTable) return;\n",
              "\n",
              "          const docLinkHtml = 'Like what you see? Visit the ' +\n",
              "            '<a target=\"_blank\" href=https://colab.research.google.com/notebooks/data_table.ipynb>data table notebook</a>'\n",
              "            + ' to learn more about interactive tables.';\n",
              "          element.innerHTML = '';\n",
              "          dataTable['output_type'] = 'display_data';\n",
              "          await google.colab.output.renderOutput(dataTable, element);\n",
              "          const docLink = document.createElement('div');\n",
              "          docLink.innerHTML = docLinkHtml;\n",
              "          element.appendChild(docLink);\n",
              "        }\n",
              "      </script>\n",
              "    </div>\n",
              "  </div>\n",
              "  "
            ]
          },
          "metadata": {},
          "execution_count": 17
        }
      ]
    },
    {
      "cell_type": "markdown",
      "source": [
        "* Minimum `age` of 0.08 years (1 month) is unlikely to be correct. Will need to look at distribution and establish a cutoff.\n",
        "\n",
        "* `hypertension` and `heart_disease` appear to already be scaled 0-1, which is probably fine.\n",
        "\n",
        "* `avg_glucose_level` Note: \"A blood sugar level less than 140 mg/dL (7.8 mmol/L) is normal. A reading of more than 200 mg/dL (11.1 mmol/L) after two hours indicates diabetes. A reading between 140 and 199 mg/dL (7.8 mmol/L and 11.0 mmol/L) indicates prediabetes.\" per [Mayo Clinic](https://www.mayoclinic.org/diseases-conditions/diabetes/diagnosis-treatment/drc-20371451)\n",
        "\n",
        "* A minimum `bmi` of [10.10 is not entirely unreasonable](https://www.ennonline.net/fex/15/limits)."
      ],
      "metadata": {
        "id": "M0fzZPmfTbmm"
      }
    },
    {
      "cell_type": "code",
      "source": [
        "# summarize categorical data\n",
        "strokeDF.describe(exclude=['float', 'int']).T"
      ],
      "metadata": {
        "colab": {
          "base_uri": "https://localhost:8080/",
          "height": 206
        },
        "id": "okok8fS0UbGL",
        "outputId": "cbcc87bd-e5cf-459d-ab70-ce6977ead291"
      },
      "execution_count": null,
      "outputs": [
        {
          "output_type": "execute_result",
          "data": {
            "text/plain": [
              "                count unique           top   freq\n",
              "gender          43400      3        Female  25665\n",
              "ever_married    43400      2           Yes  27938\n",
              "work_type       43400      5       Private  24834\n",
              "Residence_type  43400      2         Urban  21756\n",
              "smoking_status  30108      3  never smoked  16053"
            ],
            "text/html": [
              "\n",
              "  <div id=\"df-c5564aa5-ac75-4795-bbd0-12ad7221f7ba\">\n",
              "    <div class=\"colab-df-container\">\n",
              "      <div>\n",
              "<style scoped>\n",
              "    .dataframe tbody tr th:only-of-type {\n",
              "        vertical-align: middle;\n",
              "    }\n",
              "\n",
              "    .dataframe tbody tr th {\n",
              "        vertical-align: top;\n",
              "    }\n",
              "\n",
              "    .dataframe thead th {\n",
              "        text-align: right;\n",
              "    }\n",
              "</style>\n",
              "<table border=\"1\" class=\"dataframe\">\n",
              "  <thead>\n",
              "    <tr style=\"text-align: right;\">\n",
              "      <th></th>\n",
              "      <th>count</th>\n",
              "      <th>unique</th>\n",
              "      <th>top</th>\n",
              "      <th>freq</th>\n",
              "    </tr>\n",
              "  </thead>\n",
              "  <tbody>\n",
              "    <tr>\n",
              "      <th>gender</th>\n",
              "      <td>43400</td>\n",
              "      <td>3</td>\n",
              "      <td>Female</td>\n",
              "      <td>25665</td>\n",
              "    </tr>\n",
              "    <tr>\n",
              "      <th>ever_married</th>\n",
              "      <td>43400</td>\n",
              "      <td>2</td>\n",
              "      <td>Yes</td>\n",
              "      <td>27938</td>\n",
              "    </tr>\n",
              "    <tr>\n",
              "      <th>work_type</th>\n",
              "      <td>43400</td>\n",
              "      <td>5</td>\n",
              "      <td>Private</td>\n",
              "      <td>24834</td>\n",
              "    </tr>\n",
              "    <tr>\n",
              "      <th>Residence_type</th>\n",
              "      <td>43400</td>\n",
              "      <td>2</td>\n",
              "      <td>Urban</td>\n",
              "      <td>21756</td>\n",
              "    </tr>\n",
              "    <tr>\n",
              "      <th>smoking_status</th>\n",
              "      <td>30108</td>\n",
              "      <td>3</td>\n",
              "      <td>never smoked</td>\n",
              "      <td>16053</td>\n",
              "    </tr>\n",
              "  </tbody>\n",
              "</table>\n",
              "</div>\n",
              "      <button class=\"colab-df-convert\" onclick=\"convertToInteractive('df-c5564aa5-ac75-4795-bbd0-12ad7221f7ba')\"\n",
              "              title=\"Convert this dataframe to an interactive table.\"\n",
              "              style=\"display:none;\">\n",
              "        \n",
              "  <svg xmlns=\"http://www.w3.org/2000/svg\" height=\"24px\"viewBox=\"0 0 24 24\"\n",
              "       width=\"24px\">\n",
              "    <path d=\"M0 0h24v24H0V0z\" fill=\"none\"/>\n",
              "    <path d=\"M18.56 5.44l.94 2.06.94-2.06 2.06-.94-2.06-.94-.94-2.06-.94 2.06-2.06.94zm-11 1L8.5 8.5l.94-2.06 2.06-.94-2.06-.94L8.5 2.5l-.94 2.06-2.06.94zm10 10l.94 2.06.94-2.06 2.06-.94-2.06-.94-.94-2.06-.94 2.06-2.06.94z\"/><path d=\"M17.41 7.96l-1.37-1.37c-.4-.4-.92-.59-1.43-.59-.52 0-1.04.2-1.43.59L10.3 9.45l-7.72 7.72c-.78.78-.78 2.05 0 2.83L4 21.41c.39.39.9.59 1.41.59.51 0 1.02-.2 1.41-.59l7.78-7.78 2.81-2.81c.8-.78.8-2.07 0-2.86zM5.41 20L4 18.59l7.72-7.72 1.47 1.35L5.41 20z\"/>\n",
              "  </svg>\n",
              "      </button>\n",
              "      \n",
              "  <style>\n",
              "    .colab-df-container {\n",
              "      display:flex;\n",
              "      flex-wrap:wrap;\n",
              "      gap: 12px;\n",
              "    }\n",
              "\n",
              "    .colab-df-convert {\n",
              "      background-color: #E8F0FE;\n",
              "      border: none;\n",
              "      border-radius: 50%;\n",
              "      cursor: pointer;\n",
              "      display: none;\n",
              "      fill: #1967D2;\n",
              "      height: 32px;\n",
              "      padding: 0 0 0 0;\n",
              "      width: 32px;\n",
              "    }\n",
              "\n",
              "    .colab-df-convert:hover {\n",
              "      background-color: #E2EBFA;\n",
              "      box-shadow: 0px 1px 2px rgba(60, 64, 67, 0.3), 0px 1px 3px 1px rgba(60, 64, 67, 0.15);\n",
              "      fill: #174EA6;\n",
              "    }\n",
              "\n",
              "    [theme=dark] .colab-df-convert {\n",
              "      background-color: #3B4455;\n",
              "      fill: #D2E3FC;\n",
              "    }\n",
              "\n",
              "    [theme=dark] .colab-df-convert:hover {\n",
              "      background-color: #434B5C;\n",
              "      box-shadow: 0px 1px 3px 1px rgba(0, 0, 0, 0.15);\n",
              "      filter: drop-shadow(0px 1px 2px rgba(0, 0, 0, 0.3));\n",
              "      fill: #FFFFFF;\n",
              "    }\n",
              "  </style>\n",
              "\n",
              "      <script>\n",
              "        const buttonEl =\n",
              "          document.querySelector('#df-c5564aa5-ac75-4795-bbd0-12ad7221f7ba button.colab-df-convert');\n",
              "        buttonEl.style.display =\n",
              "          google.colab.kernel.accessAllowed ? 'block' : 'none';\n",
              "\n",
              "        async function convertToInteractive(key) {\n",
              "          const element = document.querySelector('#df-c5564aa5-ac75-4795-bbd0-12ad7221f7ba');\n",
              "          const dataTable =\n",
              "            await google.colab.kernel.invokeFunction('convertToInteractive',\n",
              "                                                     [key], {});\n",
              "          if (!dataTable) return;\n",
              "\n",
              "          const docLinkHtml = 'Like what you see? Visit the ' +\n",
              "            '<a target=\"_blank\" href=https://colab.research.google.com/notebooks/data_table.ipynb>data table notebook</a>'\n",
              "            + ' to learn more about interactive tables.';\n",
              "          element.innerHTML = '';\n",
              "          dataTable['output_type'] = 'display_data';\n",
              "          await google.colab.output.renderOutput(dataTable, element);\n",
              "          const docLink = document.createElement('div');\n",
              "          docLink.innerHTML = docLinkHtml;\n",
              "          element.appendChild(docLink);\n",
              "        }\n",
              "      </script>\n",
              "    </div>\n",
              "  </div>\n",
              "  "
            ]
          },
          "metadata": {},
          "execution_count": 18
        }
      ]
    },
    {
      "cell_type": "code",
      "source": [
        "# show categories for each categorical column\n",
        "for i in strokeDF.columns:\n",
        "  if strokeDF[i].dtype == 'O':\n",
        "    print(f'\\n* {i}:')\n",
        "    print(strokeDF[i].value_counts())"
      ],
      "metadata": {
        "colab": {
          "base_uri": "https://localhost:8080/"
        },
        "id": "nOuvmoFIVyWR",
        "outputId": "e391d066-e7e2-4470-df3c-87f4e43cb0bd"
      },
      "execution_count": null,
      "outputs": [
        {
          "output_type": "stream",
          "name": "stdout",
          "text": [
            "\n",
            "* gender:\n",
            "Female    25665\n",
            "Male      17724\n",
            "Other        11\n",
            "Name: gender, dtype: int64\n",
            "\n",
            "* ever_married:\n",
            "Yes    27938\n",
            "No     15462\n",
            "Name: ever_married, dtype: int64\n",
            "\n",
            "* work_type:\n",
            "Private          24834\n",
            "Self-employed     6793\n",
            "children          6156\n",
            "Govt_job          5440\n",
            "Never_worked       177\n",
            "Name: work_type, dtype: int64\n",
            "\n",
            "* Residence_type:\n",
            "Urban    21756\n",
            "Rural    21644\n",
            "Name: Residence_type, dtype: int64\n",
            "\n",
            "* smoking_status:\n",
            "never smoked       16053\n",
            "formerly smoked     7493\n",
            "smokes              6562\n",
            "Name: smoking_status, dtype: int64\n"
          ]
        }
      ]
    },
    {
      "cell_type": "code",
      "source": [
        "# Count null values in each column\n",
        "strokeDF.isna().sum()"
      ],
      "metadata": {
        "colab": {
          "base_uri": "https://localhost:8080/"
        },
        "id": "BPW4uhrNXJe0",
        "outputId": "0d01bc76-c9f7-40e5-bfb5-0ef7d4aaec88"
      },
      "execution_count": null,
      "outputs": [
        {
          "output_type": "execute_result",
          "data": {
            "text/plain": [
              "gender                   0\n",
              "age                      0\n",
              "hypertension             0\n",
              "heart_disease            0\n",
              "ever_married             0\n",
              "work_type                0\n",
              "Residence_type           0\n",
              "avg_glucose_level        0\n",
              "bmi                   1462\n",
              "smoking_status       13292\n",
              "stroke                   0\n",
              "dtype: int64"
            ]
          },
          "metadata": {},
          "execution_count": 20
        }
      ]
    },
    {
      "cell_type": "code",
      "source": [
        "# how much of the data is Null\n",
        "num = round(strokeDF.bmi.isna().sum() / len(strokeDF) * 100, 1)\n",
        "print(f'{num}% of bmi data is Null')\n",
        "\n",
        "num = round(strokeDF.smoking_status.isna().sum() / len(strokeDF) * 100, 1)\n",
        "print(f'{num}% of smoking_status data is Null')"
      ],
      "metadata": {
        "colab": {
          "base_uri": "https://localhost:8080/"
        },
        "id": "rEuFmBfpbJUO",
        "outputId": "4f8e6c79-48f8-45ef-9915-982014302f0a"
      },
      "execution_count": null,
      "outputs": [
        {
          "output_type": "stream",
          "name": "stdout",
          "text": [
            "3.4% of bmi data is Null\n",
            "30.6% of smoking_status data is Null\n"
          ]
        }
      ]
    },
    {
      "cell_type": "markdown",
      "source": [
        "# Clean data"
      ],
      "metadata": {
        "id": "jMdv5QNFmgbb"
      }
    },
    {
      "cell_type": "markdown",
      "source": [
        "## Impute Null values in `smoking_status` to 'unknown'"
      ],
      "metadata": {
        "id": "H8eilYhKcQLY"
      }
    },
    {
      "cell_type": "code",
      "source": [
        "strokeDF.smoking_status.value_counts()"
      ],
      "metadata": {
        "colab": {
          "base_uri": "https://localhost:8080/"
        },
        "id": "7Gg66p3znPv_",
        "outputId": "df125507-1928-4d61-b25a-ce1c3a216ddb"
      },
      "execution_count": null,
      "outputs": [
        {
          "output_type": "execute_result",
          "data": {
            "text/plain": [
              "never smoked       16053\n",
              "formerly smoked     7493\n",
              "smokes              6562\n",
              "Name: smoking_status, dtype: int64"
            ]
          },
          "metadata": {},
          "execution_count": 22
        }
      ]
    },
    {
      "cell_type": "code",
      "source": [
        "# impute null smoking values to class 'unknown'\n",
        "strokeDF['smoking_status'] = strokeDF['smoking_status'].fillna('unknown')"
      ],
      "metadata": {
        "id": "x40ctcHdmItX"
      },
      "execution_count": null,
      "outputs": []
    },
    {
      "cell_type": "code",
      "source": [
        "round(11/len(strokeDF)*100,2)"
      ],
      "metadata": {
        "colab": {
          "base_uri": "https://localhost:8080/"
        },
        "id": "IrC_BZ8HbP00",
        "outputId": "a72438f1-36fe-48bd-dde3-701892776f17"
      },
      "execution_count": null,
      "outputs": [
        {
          "output_type": "execute_result",
          "data": {
            "text/plain": [
              "0.03"
            ]
          },
          "metadata": {},
          "execution_count": 24
        }
      ]
    },
    {
      "cell_type": "code",
      "source": [
        "# testDF = strokeDF.copy()\n",
        "# testDF.isna().sum()"
      ],
      "metadata": {
        "id": "ldASkNbWhSzK"
      },
      "execution_count": null,
      "outputs": []
    },
    {
      "cell_type": "code",
      "source": [
        "# # updated_df['Age']=updated_df['Age'].fillna(updated_df['Age'].mean())\n",
        "# testDF['smoking_status'] = testDF['smoking_status'].fillna('unk') #'unknown'"
      ],
      "metadata": {
        "id": "F0UpQdWikuwv"
      },
      "execution_count": null,
      "outputs": []
    },
    {
      "cell_type": "code",
      "source": [
        "# testDF.isna().sum()"
      ],
      "metadata": {
        "id": "jia2-3Bnk-1f"
      },
      "execution_count": null,
      "outputs": []
    },
    {
      "cell_type": "code",
      "source": [
        "# testDF.smoking_status.value_counts()"
      ],
      "metadata": {
        "id": "qz74r7SOlAt6"
      },
      "execution_count": null,
      "outputs": []
    },
    {
      "cell_type": "code",
      "source": [
        "# testDF['smoking_status'].replace('never smoked', 'never', inplace=True)\n",
        "# testDF['smoking_status'].replace('formerly smoked', 'former', inplace=True)\n",
        "# testDF['smoking_status'].replace('smokes', 'smoker', inplace=True)"
      ],
      "metadata": {
        "id": "V9zRVKvDlEQZ"
      },
      "execution_count": null,
      "outputs": []
    },
    {
      "cell_type": "code",
      "source": [
        "# testDF.smoking_status.value_counts()"
      ],
      "metadata": {
        "id": "nu819iPklaiF"
      },
      "execution_count": null,
      "outputs": []
    },
    {
      "cell_type": "markdown",
      "source": [
        "## Convert `smoking_status` categories to single word descriptors"
      ],
      "metadata": {
        "id": "XME5K_mdlwID"
      }
    },
    {
      "cell_type": "code",
      "source": [
        "# # swap out to simpler smoking descriptions\n",
        "# strokeDF['smoking_status'].replace('never smoked', 'never', inplace=True)\n",
        "# strokeDF['smoking_status'].replace('formerly smoked', 'former', inplace=True)\n",
        "# strokeDF['smoking_status'].replace('smokes', 'smoker', inplace=True)"
      ],
      "metadata": {
        "id": "CJsHNrvFlcV_"
      },
      "execution_count": null,
      "outputs": []
    },
    {
      "cell_type": "markdown",
      "source": [
        "...better:"
      ],
      "metadata": {
        "id": "Wvz1VRICXQdq"
      }
    },
    {
      "cell_type": "code",
      "source": [
        "# swap out to simpler smoking descriptions\n",
        "strokeDF['smoking_status'].replace(['never smoked', 'formerly smoked', 'smokes'],\n",
        "                                   ['never', 'former', 'smoker'], inplace=True)"
      ],
      "metadata": {
        "id": "4zhQIChCXUaj"
      },
      "execution_count": null,
      "outputs": []
    },
    {
      "cell_type": "markdown",
      "source": [
        "## Impute Null values in `bmi` using LogReg?"
      ],
      "metadata": {
        "id": "Vcyxvvatocdg"
      }
    },
    {
      "cell_type": "code",
      "source": [
        "strokeDF.isna().sum()"
      ],
      "metadata": {
        "colab": {
          "base_uri": "https://localhost:8080/"
        },
        "id": "pIpCHIavmaKH",
        "outputId": "e40d50f5-2e9c-46a7-ee92-e38d7a831290"
      },
      "execution_count": null,
      "outputs": [
        {
          "output_type": "execute_result",
          "data": {
            "text/plain": [
              "gender                  0\n",
              "age                     0\n",
              "hypertension            0\n",
              "heart_disease           0\n",
              "ever_married            0\n",
              "work_type               0\n",
              "Residence_type          0\n",
              "avg_glucose_level       0\n",
              "bmi                  1462\n",
              "smoking_status          0\n",
              "stroke                  0\n",
              "dtype: int64"
            ]
          },
          "metadata": {},
          "execution_count": 33
        }
      ]
    },
    {
      "cell_type": "code",
      "source": [
        "strokeDF.info()"
      ],
      "metadata": {
        "colab": {
          "base_uri": "https://localhost:8080/"
        },
        "id": "T7FA8EeVsglP",
        "outputId": "affbb7b5-4411-4873-c18c-3820064e4800"
      },
      "execution_count": null,
      "outputs": [
        {
          "output_type": "stream",
          "name": "stdout",
          "text": [
            "<class 'pandas.core.frame.DataFrame'>\n",
            "Int64Index: 43400 entries, 30669 to 36271\n",
            "Data columns (total 11 columns):\n",
            " #   Column             Non-Null Count  Dtype  \n",
            "---  ------             --------------  -----  \n",
            " 0   gender             43400 non-null  object \n",
            " 1   age                43400 non-null  float64\n",
            " 2   hypertension       43400 non-null  int64  \n",
            " 3   heart_disease      43400 non-null  int64  \n",
            " 4   ever_married       43400 non-null  object \n",
            " 5   work_type          43400 non-null  object \n",
            " 6   Residence_type     43400 non-null  object \n",
            " 7   avg_glucose_level  43400 non-null  float64\n",
            " 8   bmi                41938 non-null  float64\n",
            " 9   smoking_status     43400 non-null  object \n",
            " 10  stroke             43400 non-null  int64  \n",
            "dtypes: float64(3), int64(3), object(5)\n",
            "memory usage: 4.0+ MB\n"
          ]
        }
      ]
    },
    {
      "cell_type": "code",
      "source": [
        "df = strokeDF.copy()\n",
        "# encode Yes/No to 1/0\n",
        "df.ever_married.replace(['Yes', 'No'], [1, 0], inplace=True)"
      ],
      "metadata": {
        "id": "cJJhqKS-tMKD"
      },
      "execution_count": null,
      "outputs": []
    },
    {
      "cell_type": "code",
      "source": [
        "from sklearn.preprocessing import OneHotEncoder\n",
        "from sklearn.compose import make_column_transformer\n",
        "\n",
        "transformer = make_column_transformer(\n",
        "    (OneHotEncoder(), ['gender', 'work_type', \n",
        "                       'Residence_type', 'smoking_status']), \n",
        "    remainder='passthrough')\n",
        "\n",
        "transformed = transformer.fit_transform(df)\n",
        "transformed_df = pd.DataFrame(transformed, \n",
        "                              columns=transformer.get_feature_names_out())"
      ],
      "metadata": {
        "id": "LBxrs_eIuPrG"
      },
      "execution_count": null,
      "outputs": []
    },
    {
      "cell_type": "code",
      "source": [
        "# transformed_df.info()"
      ],
      "metadata": {
        "id": "jMaER1RQwzpG"
      },
      "execution_count": null,
      "outputs": []
    },
    {
      "cell_type": "code",
      "source": [
        "# transformed_df.index"
      ],
      "metadata": {
        "id": "8EM-MgfK6Zve"
      },
      "execution_count": null,
      "outputs": []
    },
    {
      "cell_type": "code",
      "source": [
        "# len(transformed_df)"
      ],
      "metadata": {
        "id": "ZderG1Vg6nCS"
      },
      "execution_count": null,
      "outputs": []
    },
    {
      "cell_type": "code",
      "source": [
        "# df.index"
      ],
      "metadata": {
        "id": "EZFQlCII6c3Q"
      },
      "execution_count": null,
      "outputs": []
    },
    {
      "cell_type": "code",
      "source": [
        "# len(df)"
      ],
      "metadata": {
        "id": "q8U5TtKx6pQS"
      },
      "execution_count": null,
      "outputs": []
    },
    {
      "cell_type": "code",
      "source": [
        "# transformed_df.index = df.index"
      ],
      "metadata": {
        "id": "c7xBPsJw6shd"
      },
      "execution_count": null,
      "outputs": []
    },
    {
      "cell_type": "code",
      "source": [
        "# transformed_df.index"
      ],
      "metadata": {
        "id": "JbTHYuFI6wWe"
      },
      "execution_count": null,
      "outputs": []
    },
    {
      "cell_type": "code",
      "source": [
        "# df = transformed_df.copy()\n",
        "# z = df.stroke"
      ],
      "metadata": {
        "id": "woyd3e2MxCin"
      },
      "execution_count": null,
      "outputs": []
    },
    {
      "cell_type": "code",
      "source": [
        "# from sklearn.linear_model import LinearRegression\n",
        "# lr = LinearRegression()\n",
        "# # df = strokeDF.copy()\n",
        "# df.drop('stroke', axis=1, inplace=True)\n",
        "# # df.head()\n",
        "# testdf = df[df['bmi'].isnull()==True]\n",
        "# traindf = df[df['bmi'].isnull()==False]\n",
        "# y = traindf['bmi']\n",
        "# traindf.drop(\"bmi\",axis=1,inplace=True)\n",
        "# lr.fit(traindf,y)\n",
        "# testdf.drop(\"bmi\",axis=1,inplace=True)\n",
        "# pred = lr.predict(testdf)\n",
        "# testdf['bmi']= pred"
      ],
      "metadata": {
        "id": "TvKwcuD_oaPa"
      },
      "execution_count": null,
      "outputs": []
    },
    {
      "cell_type": "code",
      "source": [
        "# testdf.bmi.describe()"
      ],
      "metadata": {
        "id": "umlFUtOBrZrG"
      },
      "execution_count": null,
      "outputs": []
    },
    {
      "cell_type": "code",
      "source": [
        "df.bmi.describe()"
      ],
      "metadata": {
        "colab": {
          "base_uri": "https://localhost:8080/"
        },
        "id": "s4c1g8_Lxe3d",
        "outputId": "181e0281-967a-4193-ccb1-19919e4d8ec3"
      },
      "execution_count": null,
      "outputs": [
        {
          "output_type": "execute_result",
          "data": {
            "text/plain": [
              "count    41938.000000\n",
              "mean        28.605038\n",
              "std          7.770020\n",
              "min         10.100000\n",
              "25%         23.200000\n",
              "50%         27.700000\n",
              "75%         32.900000\n",
              "max         97.600000\n",
              "Name: bmi, dtype: float64"
            ]
          },
          "metadata": {},
          "execution_count": 47
        }
      ]
    },
    {
      "cell_type": "code",
      "source": [
        "df.bmi.hist()"
      ],
      "metadata": {
        "colab": {
          "base_uri": "https://localhost:8080/",
          "height": 282
        },
        "id": "YTFQfNxnxoCU",
        "outputId": "953a7b82-8416-4154-abe3-a1caeb26b1a6"
      },
      "execution_count": null,
      "outputs": [
        {
          "output_type": "execute_result",
          "data": {
            "text/plain": [
              "<matplotlib.axes._subplots.AxesSubplot at 0x7eff17952a10>"
            ]
          },
          "metadata": {},
          "execution_count": 48
        },
        {
          "output_type": "display_data",
          "data": {
            "text/plain": [
              "<Figure size 432x288 with 1 Axes>"
            ],
            "image/png": "[encoded data removed]"
          },
          "metadata": {
            "needs_background": "light"
          }
        }
      ]
    },
    {
      "cell_type": "code",
      "source": [
        "df.bmi.plot.box()"
      ],
      "metadata": {
        "colab": {
          "base_uri": "https://localhost:8080/",
          "height": 282
        },
        "id": "esMa46sWx1zj",
        "outputId": "374066c4-a142-4f82-df37-15eec1899a85"
      },
      "execution_count": null,
      "outputs": [
        {
          "output_type": "execute_result",
          "data": {
            "text/plain": [
              "<matplotlib.axes._subplots.AxesSubplot at 0x7eff178d40d0>"
            ]
          },
          "metadata": {},
          "execution_count": 49
        },
        {
          "output_type": "display_data",
          "data": {
            "text/plain": [
              "<Figure size 432x288 with 1 Axes>"
            ],
            "image/png": "[encoded data removed]"
          },
          "metadata": {
            "needs_background": "light"
          }
        }
      ]
    },
    {
      "cell_type": "code",
      "source": [
        "# testdf.shape"
      ],
      "metadata": {
        "id": "jAh3_orux8ks"
      },
      "execution_count": null,
      "outputs": []
    },
    {
      "cell_type": "code",
      "source": [
        "# traindf.shape # note 'bmi' is missing"
      ],
      "metadata": {
        "id": "-X5LHY13zkp0"
      },
      "execution_count": null,
      "outputs": []
    },
    {
      "cell_type": "code",
      "source": [
        "# testdf.info()"
      ],
      "metadata": {
        "id": "NXTVjDYs3jo-"
      },
      "execution_count": null,
      "outputs": []
    },
    {
      "cell_type": "code",
      "source": [
        "# transformed_df.info()"
      ],
      "metadata": {
        "id": "rNO-3KwV0cwY"
      },
      "execution_count": null,
      "outputs": []
    },
    {
      "cell_type": "code",
      "source": [
        "# predBMIdf = transformed_df.copy()"
      ],
      "metadata": {
        "id": "5QH0NVcc0v0Y"
      },
      "execution_count": null,
      "outputs": []
    },
    {
      "cell_type": "code",
      "source": [
        "# transformed_df['id'] = transformed_df.index"
      ],
      "metadata": {
        "id": "L17RSrbe8KdV"
      },
      "execution_count": null,
      "outputs": []
    },
    {
      "cell_type": "code",
      "source": [
        "# transformed_df.drop('id', axis=1, inplace=True)"
      ],
      "metadata": {
        "id": "ZP0Gk2Bn8pjM"
      },
      "execution_count": null,
      "outputs": []
    },
    {
      "cell_type": "code",
      "source": [
        "# testdf['id'] = testdf.index"
      ],
      "metadata": {
        "id": "SzjXMWii8Myu"
      },
      "execution_count": null,
      "outputs": []
    },
    {
      "cell_type": "code",
      "source": [
        "# testdf.drop('id', axis=1, inplace=True)"
      ],
      "metadata": {
        "id": "s6stUdxG8yaQ"
      },
      "execution_count": null,
      "outputs": []
    },
    {
      "cell_type": "code",
      "source": [
        "# predBMIdf = pd.merge(transformed_df, testdf, how='outer', on='id')\n",
        "#                      #, how='left')#how='right')#  left_index=True, right_index=True)"
      ],
      "metadata": {
        "id": "c1a7o7Zp1c5F"
      },
      "execution_count": null,
      "outputs": []
    },
    {
      "cell_type": "code",
      "source": [
        "# transformed_df.shape"
      ],
      "metadata": {
        "id": "uri-mlxU4j27"
      },
      "execution_count": null,
      "outputs": []
    },
    {
      "cell_type": "code",
      "source": [
        "# testdf.shape"
      ],
      "metadata": {
        "id": "vN9adYux9Xuq"
      },
      "execution_count": null,
      "outputs": []
    },
    {
      "cell_type": "code",
      "source": [
        "# strokeDF.shape"
      ],
      "metadata": {
        "id": "XQKIuad941O-"
      },
      "execution_count": null,
      "outputs": []
    },
    {
      "cell_type": "code",
      "source": [
        "# predBMIdf.shape"
      ],
      "metadata": {
        "id": "BUi-kZzR1oh6"
      },
      "execution_count": null,
      "outputs": []
    },
    {
      "cell_type": "code",
      "source": [
        "# predBMIdf.info()"
      ],
      "metadata": {
        "id": "CeaBKXFT2EfI"
      },
      "execution_count": null,
      "outputs": []
    },
    {
      "cell_type": "code",
      "source": [
        "# transformed_df.info()"
      ],
      "metadata": {
        "id": "NkprmhbA8UAK"
      },
      "execution_count": null,
      "outputs": []
    },
    {
      "cell_type": "code",
      "source": [
        "# 43400-41938"
      ],
      "metadata": {
        "id": "3kXFW1xV8i7g"
      },
      "execution_count": null,
      "outputs": []
    },
    {
      "cell_type": "code",
      "source": [
        "# testdf.index"
      ],
      "metadata": {
        "id": "yYmTprQA3Ll4"
      },
      "execution_count": null,
      "outputs": []
    },
    {
      "cell_type": "code",
      "source": [
        "# transformed_df.index"
      ],
      "metadata": {
        "id": "1FYV1_Q76BKe"
      },
      "execution_count": null,
      "outputs": []
    },
    {
      "cell_type": "code",
      "source": [
        "# df.index"
      ],
      "metadata": {
        "id": "-QB5DCXc6FMz"
      },
      "execution_count": null,
      "outputs": []
    },
    {
      "cell_type": "markdown",
      "source": [
        "Welp, there's the [simple solution](https://stackoverflow.com/questions/29357379/pandas-fill-missing-values-in-dataframe-from-another-dataframe)! 🤦"
      ],
      "metadata": {
        "id": "rhcsMsdOAFlw"
      }
    },
    {
      "cell_type": "code",
      "source": [
        "# bmiFill = transformed_df.copy()\n",
        "# bmiFill.update(testdf)\n",
        "# bmiFill.info()"
      ],
      "metadata": {
        "id": "6e35tqwG90m8"
      },
      "execution_count": null,
      "outputs": []
    },
    {
      "cell_type": "code",
      "source": [
        "# transformed_df.info()"
      ],
      "metadata": {
        "id": "Hvv5fNjRAtDV"
      },
      "execution_count": null,
      "outputs": []
    },
    {
      "cell_type": "code",
      "source": [
        "round((43400-41938)/43400*100, 2)/20"
      ],
      "metadata": {
        "colab": {
          "base_uri": "https://localhost:8080/"
        },
        "id": "R0Z34TqOIk-P",
        "outputId": "9f62a059-10bc-45f1-cffa-9eebbe4cc1a8"
      },
      "execution_count": null,
      "outputs": [
        {
          "output_type": "execute_result",
          "data": {
            "text/plain": [
              "0.1685"
            ]
          },
          "metadata": {},
          "execution_count": 72
        }
      ]
    },
    {
      "cell_type": "code",
      "source": [
        "# bmiAvg = transformed_df.copy()\n",
        "# bmiAvg.bmi = bmiAvg.bmi.fillna(bmiAvg.bmi.mean())\n",
        "# bmiAvg.info()"
      ],
      "metadata": {
        "id": "nayZDSq0FpiF"
      },
      "execution_count": null,
      "outputs": []
    },
    {
      "cell_type": "code",
      "source": [
        "def load_dataset(DF):\n",
        "  # retrieve numpy array\n",
        "  dataset = DF.values\n",
        "  # split into input (X) and output (y) variables\n",
        "  X, y = dataset[:, :-1], dataset[:,-1]\n",
        "  # ensure inputs are floats and output is an integer label\n",
        "  X = X.astype('float64')\n",
        "  return X, y"
      ],
      "metadata": {
        "id": "Br3zoP_uEWV7"
      },
      "execution_count": null,
      "outputs": []
    },
    {
      "cell_type": "code",
      "source": [
        "# # load the dataset\n",
        "# X, y = load_dataset(bmiAvg)\n",
        "\n",
        "# from sklearn.model_selection import train_test_split\n",
        "# X_train, X_test, y_train, y_test = train_test_split(\n",
        "#     X, y, test_size=0.33, random_state=42)\n",
        "\n",
        "# from sklearn.linear_model import LogisticRegression\n",
        "# lr = LogisticRegression(solver='liblinear')\n",
        "# lr.fit(X_train, y_train)\n",
        "\n",
        "# pred = lr.predict(X_test)\n",
        "# from sklearn import metrics\n",
        "# print(metrics.accuracy_score(pred, y_test))"
      ],
      "metadata": {
        "id": "E5HZmc-7DoFh"
      },
      "execution_count": null,
      "outputs": []
    },
    {
      "cell_type": "code",
      "source": [
        "# # load the dataset\n",
        "# X, y = load_dataset(bmiFill)\n",
        "\n",
        "# from sklearn.model_selection import train_test_split\n",
        "# X_train, X_test, y_train, y_test = train_test_split(\n",
        "#     X, y, test_size=0.33, random_state=42)\n",
        "\n",
        "# from sklearn.linear_model import LogisticRegression\n",
        "# lr = LogisticRegression(solver='liblinear')\n",
        "# lr.fit(X_train, y_train)\n",
        "\n",
        "# pred = lr.predict(X_test)\n",
        "# from sklearn import metrics\n",
        "# print(metrics.accuracy_score(pred, y_test))"
      ],
      "metadata": {
        "id": "1h-SLRzPE9Ak"
      },
      "execution_count": null,
      "outputs": []
    },
    {
      "cell_type": "markdown",
      "source": [
        "Weird. Identical results for both filling w/LogReg and filling w/mean.  \n",
        "Ope, not weird ...imbalanced."
      ],
      "metadata": {
        "id": "DWDXM4ehN_7U"
      }
    },
    {
      "cell_type": "code",
      "source": [
        "# # load the dataset\n",
        "# X, y = load_dataset(bmiAvg)\n",
        "\n",
        "# # load the dataset\n",
        "# X2, y2 = load_dataset(bmiFill)"
      ],
      "metadata": {
        "id": "55H1qWzHFfoA"
      },
      "execution_count": null,
      "outputs": []
    },
    {
      "cell_type": "code",
      "source": [
        "# sum(X==X2)"
      ],
      "metadata": {
        "id": "-EbrB-UmJEVB"
      },
      "execution_count": null,
      "outputs": []
    },
    {
      "cell_type": "code",
      "source": [
        "# bmiAvg.equals(bmiFill)"
      ],
      "metadata": {
        "id": "vbeWq4vRHlBv"
      },
      "execution_count": null,
      "outputs": []
    },
    {
      "cell_type": "code",
      "source": [
        "# for i in bmiAvg.columns:\n",
        "#   print(f'{i}: {bmiAvg[i].equals(bmiFill[i])}')"
      ],
      "metadata": {
        "id": "O8xMiYqDHrFP"
      },
      "execution_count": null,
      "outputs": []
    },
    {
      "cell_type": "markdown",
      "source": [
        "## Look at data distribution"
      ],
      "metadata": {
        "id": "uk6HoYtpN4SY"
      }
    },
    {
      "cell_type": "code",
      "source": [
        "%%time\n",
        "# Look at histograms by variable\n",
        "plt.figure(figsize=(15, 20))\n",
        "for i, col in enumerate(strokeDF.columns[:-1], 1):\n",
        "  plt.subplot(6, 4, i)\n",
        "  plt.title(f'Distribution of {col} Data')\n",
        "  sns.histplot(data=strokeDF, x=col, kde=True, hue='stroke', legend=False)\n",
        "  plt.tight_layout()\n",
        "  plt.plot()\n",
        "plt.show()"
      ],
      "metadata": {
        "colab": {
          "base_uri": "https://localhost:8080/",
          "height": 785
        },
        "id": "_Y3Ymh7LIMdq",
        "outputId": "496ca314-2b2a-4306-8d1e-160e861f90ab"
      },
      "execution_count": null,
      "outputs": [
        {
          "output_type": "display_data",
          "data": {
            "text/plain": [
              "<Figure size 1080x1440 with 10 Axes>"
            ],
            "image/png": "[encoded data removed]"
          },
          "metadata": {
            "needs_background": "light"
          }
        },
        {
          "output_type": "stream",
          "name": "stdout",
          "text": [
            "CPU times: user 11 s, sys: 700 ms, total: 11.7 s\n",
            "Wall time: 17.5 s\n"
          ]
        }
      ]
    },
    {
      "cell_type": "markdown",
      "source": [
        "### Things to fix:\n",
        "* Remove 'Other' gender? Maybe not, idk\n",
        "* Fix 'age' outliers: too many near 0; huge jump around 80?\n",
        "* 'avg_glucose_level' and 'bmi' are skewed\n",
        "* Huge imbalance in target variable 'stroke' (difficult to compare stroke vs non-stroke distributions)"
      ],
      "metadata": {
        "id": "95kmgyX2O2Ga"
      }
    },
    {
      "cell_type": "markdown",
      "source": [
        "Compare distribution using balanced dataset"
      ],
      "metadata": {
        "id": "s4WpmtPMOdmi"
      }
    },
    {
      "cell_type": "code",
      "source": [
        "# X, y = strokeDF.iloc[:,:-1], strokeDF.iloc[:,-1]\n",
        "y = strokeDF.stroke\n",
        "\n",
        "## BALANCE BASED ON TARGET (STROKE)\n",
        "# define oversampling strategy\n",
        "oversample = RandomOverSampler(sampling_strategy='minority', random_state=42)\n",
        "# fit and apply the transform\n",
        "X, y = oversample.fit_resample(strokeDF, y)\n",
        "\n",
        "\n",
        "# Look at histograms by variable\n",
        "plt.figure(figsize=(15, 20))\n",
        "for i, col in enumerate(X.columns[:-1], 1):\n",
        "  plt.subplot(6, 4, i)\n",
        "  plt.title(f'Distribution of {col} Data')\n",
        "  sns.histplot(data=X, x=col, kde=False, hue='stroke', legend=False)\n",
        "  # plt.tight_layout()\n",
        "  plt.plot()\n",
        "plt.show()"
      ],
      "metadata": {
        "colab": {
          "base_uri": "https://localhost:8080/",
          "height": 607
        },
        "id": "9gCKsgbmVsZF",
        "outputId": "6c8901cf-186b-41ed-abfc-d66ed4999f66"
      },
      "execution_count": null,
      "outputs": [
        {
          "output_type": "display_data",
          "data": {
            "text/plain": [
              "<Figure size 1080x1440 with 10 Axes>"
            ],
            "image/png": "[encoded data removed]"
          },
          "metadata": {
            "needs_background": "light"
          }
        }
      ]
    },
    {
      "cell_type": "code",
      "source": [
        ""
      ],
      "metadata": {
        "id": "qS-BAFN7zPOT"
      },
      "execution_count": null,
      "outputs": []
    },
    {
      "cell_type": "markdown",
      "source": [
        "Make `work_status` binary: 'self_employed' vs other?  \n",
        "Remove `Residence_type`?  \n"
      ],
      "metadata": {
        "id": "8MGmeKXuZCYG"
      }
    },
    {
      "cell_type": "code",
      "source": [
        "strokeDF.corrwith(strokeDF['stroke']).abs().sort_values(ascending=False)"
      ],
      "metadata": {
        "colab": {
          "base_uri": "https://localhost:8080/"
        },
        "id": "4Irzc5HYV-pe",
        "outputId": "04a8a68b-475c-43eb-a70d-2431314fa3ed"
      },
      "execution_count": null,
      "outputs": [
        {
          "output_type": "execute_result",
          "data": {
            "text/plain": [
              "stroke               1.000000\n",
              "age                  0.156049\n",
              "heart_disease        0.113763\n",
              "avg_glucose_level    0.078917\n",
              "hypertension         0.075332\n",
              "bmi                  0.020285\n",
              "dtype: float64"
            ]
          },
          "metadata": {},
          "execution_count": 83
        }
      ]
    },
    {
      "cell_type": "code",
      "source": [
        "# # df = strokeDF.copy()\n",
        "# df = noYoung.copy()\n",
        "# # encode Yes/No to 1/0\n",
        "# df.ever_married.replace(['Yes', 'No'], [1, 0], inplace=True)\n",
        "\n",
        "# # drop 'Other' from gender and encode to 1/0\n",
        "# df.gender.replace(['Male', 'Female'], [1, 0], inplace=True)\n",
        "\n",
        "# from sklearn.preprocessing import OneHotEncoder\n",
        "# from sklearn.compose import make_column_transformer\n",
        "\n",
        "# transformer = make_column_transformer(\n",
        "#     (OneHotEncoder(), ['work_type', 'Residence_type', 'smoking_status']), \n",
        "#     remainder='passthrough')\n",
        "\n",
        "# transformed = transformer.fit_transform(df)\n",
        "# df = pd.DataFrame(transformed, columns=transformer.get_feature_names_out(), \n",
        "#                   index=df.index)"
      ],
      "metadata": {
        "id": "7SjaaSW8W9Xa"
      },
      "execution_count": null,
      "outputs": []
    },
    {
      "cell_type": "code",
      "source": [
        "strokeDF[strokeDF['work_type'] == 'children'].describe()"
      ],
      "metadata": {
        "colab": {
          "base_uri": "https://localhost:8080/",
          "height": 300
        },
        "id": "QGlhnPJFYMZo",
        "outputId": "4508b45b-f0e9-4399-a27d-57252dfb462e"
      },
      "execution_count": null,
      "outputs": [
        {
          "output_type": "execute_result",
          "data": {
            "text/plain": [
              "               age  hypertension  heart_disease  avg_glucose_level  \\\n",
              "count  6156.000000   6156.000000    6156.000000        6156.000000   \n",
              "mean      6.699253      0.000325       0.000650          92.375713   \n",
              "std       4.507945      0.018023       0.025484          24.310400   \n",
              "min       0.080000      0.000000       0.000000          55.000000   \n",
              "25%       2.000000      0.000000       0.000000          75.857500   \n",
              "50%       6.000000      0.000000       0.000000          88.515000   \n",
              "75%      11.000000      0.000000       0.000000         104.165000   \n",
              "max      16.000000      1.000000       1.000000         243.840000   \n",
              "\n",
              "               bmi       stroke  \n",
              "count  6060.000000  6156.000000  \n",
              "mean     19.924076     0.000325  \n",
              "std       4.816241     0.018023  \n",
              "min      10.300000     0.000000  \n",
              "25%      16.900000     0.000000  \n",
              "50%      18.800000     0.000000  \n",
              "75%      21.500000     0.000000  \n",
              "max      96.100000     1.000000  "
            ],
            "text/html": [
              "\n",
              "  <div id=\"df-985775f8-9a48-4bed-bc66-3b81812eac6c\">\n",
              "    <div class=\"colab-df-container\">\n",
              "      <div>\n",
              "<style scoped>\n",
              "    .dataframe tbody tr th:only-of-type {\n",
              "        vertical-align: middle;\n",
              "    }\n",
              "\n",
              "    .dataframe tbody tr th {\n",
              "        vertical-align: top;\n",
              "    }\n",
              "\n",
              "    .dataframe thead th {\n",
              "        text-align: right;\n",
              "    }\n",
              "</style>\n",
              "<table border=\"1\" class=\"dataframe\">\n",
              "  <thead>\n",
              "    <tr style=\"text-align: right;\">\n",
              "      <th></th>\n",
              "      <th>age</th>\n",
              "      <th>hypertension</th>\n",
              "      <th>heart_disease</th>\n",
              "      <th>avg_glucose_level</th>\n",
              "      <th>bmi</th>\n",
              "      <th>stroke</th>\n",
              "    </tr>\n",
              "  </thead>\n",
              "  <tbody>\n",
              "    <tr>\n",
              "      <th>count</th>\n",
              "      <td>6156.000000</td>\n",
              "      <td>6156.000000</td>\n",
              "      <td>6156.000000</td>\n",
              "      <td>6156.000000</td>\n",
              "      <td>6060.000000</td>\n",
              "      <td>6156.000000</td>\n",
              "    </tr>\n",
              "    <tr>\n",
              "      <th>mean</th>\n",
              "      <td>6.699253</td>\n",
              "      <td>0.000325</td>\n",
              "      <td>0.000650</td>\n",
              "      <td>92.375713</td>\n",
              "      <td>19.924076</td>\n",
              "      <td>0.000325</td>\n",
              "    </tr>\n",
              "    <tr>\n",
              "      <th>std</th>\n",
              "      <td>4.507945</td>\n",
              "      <td>0.018023</td>\n",
              "      <td>0.025484</td>\n",
              "      <td>24.310400</td>\n",
              "      <td>4.816241</td>\n",
              "      <td>0.018023</td>\n",
              "    </tr>\n",
              "    <tr>\n",
              "      <th>min</th>\n",
              "      <td>0.080000</td>\n",
              "      <td>0.000000</td>\n",
              "      <td>0.000000</td>\n",
              "      <td>55.000000</td>\n",
              "      <td>10.300000</td>\n",
              "      <td>0.000000</td>\n",
              "    </tr>\n",
              "    <tr>\n",
              "      <th>25%</th>\n",
              "      <td>2.000000</td>\n",
              "      <td>0.000000</td>\n",
              "      <td>0.000000</td>\n",
              "      <td>75.857500</td>\n",
              "      <td>16.900000</td>\n",
              "      <td>0.000000</td>\n",
              "    </tr>\n",
              "    <tr>\n",
              "      <th>50%</th>\n",
              "      <td>6.000000</td>\n",
              "      <td>0.000000</td>\n",
              "      <td>0.000000</td>\n",
              "      <td>88.515000</td>\n",
              "      <td>18.800000</td>\n",
              "      <td>0.000000</td>\n",
              "    </tr>\n",
              "    <tr>\n",
              "      <th>75%</th>\n",
              "      <td>11.000000</td>\n",
              "      <td>0.000000</td>\n",
              "      <td>0.000000</td>\n",
              "      <td>104.165000</td>\n",
              "      <td>21.500000</td>\n",
              "      <td>0.000000</td>\n",
              "    </tr>\n",
              "    <tr>\n",
              "      <th>max</th>\n",
              "      <td>16.000000</td>\n",
              "      <td>1.000000</td>\n",
              "      <td>1.000000</td>\n",
              "      <td>243.840000</td>\n",
              "      <td>96.100000</td>\n",
              "      <td>1.000000</td>\n",
              "    </tr>\n",
              "  </tbody>\n",
              "</table>\n",
              "</div>\n",
              "      <button class=\"colab-df-convert\" onclick=\"convertToInteractive('df-985775f8-9a48-4bed-bc66-3b81812eac6c')\"\n",
              "              title=\"Convert this dataframe to an interactive table.\"\n",
              "              style=\"display:none;\">\n",
              "        \n",
              "  <svg xmlns=\"http://www.w3.org/2000/svg\" height=\"24px\"viewBox=\"0 0 24 24\"\n",
              "       width=\"24px\">\n",
              "    <path d=\"M0 0h24v24H0V0z\" fill=\"none\"/>\n",
              "    <path d=\"M18.56 5.44l.94 2.06.94-2.06 2.06-.94-2.06-.94-.94-2.06-.94 2.06-2.06.94zm-11 1L8.5 8.5l.94-2.06 2.06-.94-2.06-.94L8.5 2.5l-.94 2.06-2.06.94zm10 10l.94 2.06.94-2.06 2.06-.94-2.06-.94-.94-2.06-.94 2.06-2.06.94z\"/><path d=\"M17.41 7.96l-1.37-1.37c-.4-.4-.92-.59-1.43-.59-.52 0-1.04.2-1.43.59L10.3 9.45l-7.72 7.72c-.78.78-.78 2.05 0 2.83L4 21.41c.39.39.9.59 1.41.59.51 0 1.02-.2 1.41-.59l7.78-7.78 2.81-2.81c.8-.78.8-2.07 0-2.86zM5.41 20L4 18.59l7.72-7.72 1.47 1.35L5.41 20z\"/>\n",
              "  </svg>\n",
              "      </button>\n",
              "      \n",
              "  <style>\n",
              "    .colab-df-container {\n",
              "      display:flex;\n",
              "      flex-wrap:wrap;\n",
              "      gap: 12px;\n",
              "    }\n",
              "\n",
              "    .colab-df-convert {\n",
              "      background-color: #E8F0FE;\n",
              "      border: none;\n",
              "      border-radius: 50%;\n",
              "      cursor: pointer;\n",
              "      display: none;\n",
              "      fill: #1967D2;\n",
              "      height: 32px;\n",
              "      padding: 0 0 0 0;\n",
              "      width: 32px;\n",
              "    }\n",
              "\n",
              "    .colab-df-convert:hover {\n",
              "      background-color: #E2EBFA;\n",
              "      box-shadow: 0px 1px 2px rgba(60, 64, 67, 0.3), 0px 1px 3px 1px rgba(60, 64, 67, 0.15);\n",
              "      fill: #174EA6;\n",
              "    }\n",
              "\n",
              "    [theme=dark] .colab-df-convert {\n",
              "      background-color: #3B4455;\n",
              "      fill: #D2E3FC;\n",
              "    }\n",
              "\n",
              "    [theme=dark] .colab-df-convert:hover {\n",
              "      background-color: #434B5C;\n",
              "      box-shadow: 0px 1px 3px 1px rgba(0, 0, 0, 0.15);\n",
              "      filter: drop-shadow(0px 1px 2px rgba(0, 0, 0, 0.3));\n",
              "      fill: #FFFFFF;\n",
              "    }\n",
              "  </style>\n",
              "\n",
              "      <script>\n",
              "        const buttonEl =\n",
              "          document.querySelector('#df-985775f8-9a48-4bed-bc66-3b81812eac6c button.colab-df-convert');\n",
              "        buttonEl.style.display =\n",
              "          google.colab.kernel.accessAllowed ? 'block' : 'none';\n",
              "\n",
              "        async function convertToInteractive(key) {\n",
              "          const element = document.querySelector('#df-985775f8-9a48-4bed-bc66-3b81812eac6c');\n",
              "          const dataTable =\n",
              "            await google.colab.kernel.invokeFunction('convertToInteractive',\n",
              "                                                     [key], {});\n",
              "          if (!dataTable) return;\n",
              "\n",
              "          const docLinkHtml = 'Like what you see? Visit the ' +\n",
              "            '<a target=\"_blank\" href=https://colab.research.google.com/notebooks/data_table.ipynb>data table notebook</a>'\n",
              "            + ' to learn more about interactive tables.';\n",
              "          element.innerHTML = '';\n",
              "          dataTable['output_type'] = 'display_data';\n",
              "          await google.colab.output.renderOutput(dataTable, element);\n",
              "          const docLink = document.createElement('div');\n",
              "          docLink.innerHTML = docLinkHtml;\n",
              "          element.appendChild(docLink);\n",
              "        }\n",
              "      </script>\n",
              "    </div>\n",
              "  </div>\n",
              "  "
            ]
          },
          "metadata": {},
          "execution_count": 85
        }
      ]
    },
    {
      "cell_type": "code",
      "source": [
        "# # Check correlation of imbalanced data\n",
        "# df.corrwith(df['remainder__stroke']).sort_values(ascending=False)"
      ],
      "metadata": {
        "id": "dqM5kn3wXGML"
      },
      "execution_count": null,
      "outputs": []
    },
    {
      "cell_type": "code",
      "source": [
        "# # check correlation balanced data\n",
        "# X.corrwith(X['stroke']).sort_values(ascending=False)"
      ],
      "metadata": {
        "id": "fs2ZbAFUXlBL"
      },
      "execution_count": null,
      "outputs": []
    },
    {
      "cell_type": "code",
      "source": [
        "# # X, y = strokeDF.iloc[:,:-1], strokeDF.iloc[:,-1]\n",
        "# y = DF.stroke\n",
        "\n",
        "# ## BALANCE BASED ON TARGET (STROKE)\n",
        "# # define oversampling strategy\n",
        "# oversample = RandomOverSampler(sampling_strategy='minority', random_state=42)\n",
        "# # fit and apply the transform\n",
        "# X, y = oversample.fit_resample(DF, y)"
      ],
      "metadata": {
        "id": "_-DmU5PuOdHE"
      },
      "execution_count": null,
      "outputs": []
    },
    {
      "cell_type": "code",
      "source": [
        "# %%time\n",
        "# # Look at histograms by variable\n",
        "# plt.figure(figsize=(15, 20))\n",
        "# for i, col in enumerate(X.columns[:-1], 1):\n",
        "#   plt.subplot(6, 4, i)\n",
        "#   plt.title(f'Distribution of {col} Data')\n",
        "#   sns.histplot(data=X, x=col, kde=False, hue='stroke', legend=False)\n",
        "#   # plt.tight_layout()\n",
        "#   plt.plot()\n",
        "# plt.show()"
      ],
      "metadata": {
        "id": "PFZq9eyQPEHy"
      },
      "execution_count": null,
      "outputs": []
    },
    {
      "cell_type": "code",
      "source": [
        "# X.columns"
      ],
      "metadata": {
        "id": "JmnoCI6aRy9F"
      },
      "execution_count": null,
      "outputs": []
    },
    {
      "cell_type": "code",
      "source": [
        "# X.corrwith(X['stroke'])\n",
        "X.corrwith(X['stroke']).abs().sort_values(ascending=False)"
      ],
      "metadata": {
        "colab": {
          "base_uri": "https://localhost:8080/"
        },
        "id": "gTa8tiHaRHV-",
        "outputId": "5b383326-434d-4638-f5ae-0fe213fdd066"
      },
      "execution_count": null,
      "outputs": [
        {
          "output_type": "execute_result",
          "data": {
            "text/plain": [
              "stroke               1.000000\n",
              "age                  0.590729\n",
              "heart_disease        0.266613\n",
              "avg_glucose_level    0.233074\n",
              "hypertension         0.220504\n",
              "bmi                  0.089381\n",
              "dtype: float64"
            ]
          },
          "metadata": {},
          "execution_count": 91
        }
      ]
    },
    {
      "cell_type": "code",
      "source": [
        "strokeDF.work_type.unique()"
      ],
      "metadata": {
        "colab": {
          "base_uri": "https://localhost:8080/"
        },
        "id": "m77clU3OP9k-",
        "outputId": "a8d31a86-d15d-4374-d0f4-b9d054c64730"
      },
      "execution_count": null,
      "outputs": [
        {
          "output_type": "execute_result",
          "data": {
            "text/plain": [
              "array(['children', 'Private', 'Never_worked', 'Self-employed', 'Govt_job'],\n",
              "      dtype=object)"
            ]
          },
          "metadata": {},
          "execution_count": 92
        }
      ]
    },
    {
      "cell_type": "code",
      "source": [
        "strokeDF.gender.value_counts()"
      ],
      "metadata": {
        "colab": {
          "base_uri": "https://localhost:8080/"
        },
        "id": "bRmEhgBSJb_z",
        "outputId": "85ae2724-e088-4e6b-b316-2f8dafa757f5"
      },
      "execution_count": null,
      "outputs": [
        {
          "output_type": "execute_result",
          "data": {
            "text/plain": [
              "Female    25665\n",
              "Male      17724\n",
              "Other        11\n",
              "Name: gender, dtype: int64"
            ]
          },
          "metadata": {},
          "execution_count": 93
        }
      ]
    },
    {
      "cell_type": "code",
      "source": [
        "round(11/(len(strokeDF))*100, 2)"
      ],
      "metadata": {
        "colab": {
          "base_uri": "https://localhost:8080/"
        },
        "id": "y3TtlOo7JmnO",
        "outputId": "e01062b1-8355-4e4d-d23e-3a7c21d0ec6b"
      },
      "execution_count": null,
      "outputs": [
        {
          "output_type": "execute_result",
          "data": {
            "text/plain": [
              "0.03"
            ]
          },
          "metadata": {},
          "execution_count": 94
        }
      ]
    },
    {
      "cell_type": "code",
      "source": [
        "strokeDF[strokeDF.gender=='Other']"
      ],
      "metadata": {
        "colab": {
          "base_uri": "https://localhost:8080/",
          "height": 426
        },
        "id": "cKJ15vlqJ6Vz",
        "outputId": "69b922bc-3771-426b-8671-2a8f535a2b07"
      },
      "execution_count": null,
      "outputs": [
        {
          "output_type": "execute_result",
          "data": {
            "text/plain": [
              "      gender   age  hypertension  heart_disease ever_married work_type  \\\n",
              "id                                                                       \n",
              "56156  Other  26.0             0              0           No   Private   \n",
              "26188  Other  46.0             0              0           No   Private   \n",
              "52984  Other  27.0             0              0           No   Private   \n",
              "24893  Other  53.0             0              0          Yes   Private   \n",
              "13471  Other  39.0             0              0          Yes  Govt_job   \n",
              "31015  Other  19.0             0              0           No   Private   \n",
              "27043  Other  49.0             0              0          Yes   Private   \n",
              "51111  Other  51.0             0              0          Yes   Private   \n",
              "42452  Other  10.0             0              0           No  children   \n",
              "49812  Other  53.0             0              0          Yes  Govt_job   \n",
              "14986  Other  11.0             0              0           No  children   \n",
              "\n",
              "      Residence_type  avg_glucose_level   bmi smoking_status  stroke  \n",
              "id                                                                    \n",
              "56156          Rural             143.33  22.4         former       0  \n",
              "26188          Rural              83.28   NaN          never       0  \n",
              "52984          Urban              62.45   NaN         smoker       0  \n",
              "24893          Rural              89.65   NaN        unknown       0  \n",
              "13471          Urban              95.59  32.0         former       0  \n",
              "31015          Rural              75.76  32.2         former       0  \n",
              "27043          Urban              94.88  37.2          never       0  \n",
              "51111          Rural              91.75  32.2         former       0  \n",
              "42452          Rural              72.05  21.2         former       0  \n",
              "49812          Urban              65.29   NaN        unknown       0  \n",
              "14986          Urban             101.30  18.1         former       0  "
            ],
            "text/html": [
              "\n",
              "  <div id=\"df-7d914d85-5335-40f5-962a-7a0721445789\">\n",
              "    <div class=\"colab-df-container\">\n",
              "      <div>\n",
              "<style scoped>\n",
              "    .dataframe tbody tr th:only-of-type {\n",
              "        vertical-align: middle;\n",
              "    }\n",
              "\n",
              "    .dataframe tbody tr th {\n",
              "        vertical-align: top;\n",
              "    }\n",
              "\n",
              "    .dataframe thead th {\n",
              "        text-align: right;\n",
              "    }\n",
              "</style>\n",
              "<table border=\"1\" class=\"dataframe\">\n",
              "  <thead>\n",
              "    <tr style=\"text-align: right;\">\n",
              "      <th></th>\n",
              "      <th>gender</th>\n",
              "      <th>age</th>\n",
              "      <th>hypertension</th>\n",
              "      <th>heart_disease</th>\n",
              "      <th>ever_married</th>\n",
              "      <th>work_type</th>\n",
              "      <th>Residence_type</th>\n",
              "      <th>avg_glucose_level</th>\n",
              "      <th>bmi</th>\n",
              "      <th>smoking_status</th>\n",
              "      <th>stroke</th>\n",
              "    </tr>\n",
              "    <tr>\n",
              "      <th>id</th>\n",
              "      <th></th>\n",
              "      <th></th>\n",
              "      <th></th>\n",
              "      <th></th>\n",
              "      <th></th>\n",
              "      <th></th>\n",
              "      <th></th>\n",
              "      <th></th>\n",
              "      <th></th>\n",
              "      <th></th>\n",
              "      <th></th>\n",
              "    </tr>\n",
              "  </thead>\n",
              "  <tbody>\n",
              "    <tr>\n",
              "      <th>56156</th>\n",
              "      <td>Other</td>\n",
              "      <td>26.0</td>\n",
              "      <td>0</td>\n",
              "      <td>0</td>\n",
              "      <td>No</td>\n",
              "      <td>Private</td>\n",
              "      <td>Rural</td>\n",
              "      <td>143.33</td>\n",
              "      <td>22.4</td>\n",
              "      <td>former</td>\n",
              "      <td>0</td>\n",
              "    </tr>\n",
              "    <tr>\n",
              "      <th>26188</th>\n",
              "      <td>Other</td>\n",
              "      <td>46.0</td>\n",
              "      <td>0</td>\n",
              "      <td>0</td>\n",
              "      <td>No</td>\n",
              "      <td>Private</td>\n",
              "      <td>Rural</td>\n",
              "      <td>83.28</td>\n",
              "      <td>NaN</td>\n",
              "      <td>never</td>\n",
              "      <td>0</td>\n",
              "    </tr>\n",
              "    <tr>\n",
              "      <th>52984</th>\n",
              "      <td>Other</td>\n",
              "      <td>27.0</td>\n",
              "      <td>0</td>\n",
              "      <td>0</td>\n",
              "      <td>No</td>\n",
              "      <td>Private</td>\n",
              "      <td>Urban</td>\n",
              "      <td>62.45</td>\n",
              "      <td>NaN</td>\n",
              "      <td>smoker</td>\n",
              "      <td>0</td>\n",
              "    </tr>\n",
              "    <tr>\n",
              "      <th>24893</th>\n",
              "      <td>Other</td>\n",
              "      <td>53.0</td>\n",
              "      <td>0</td>\n",
              "      <td>0</td>\n",
              "      <td>Yes</td>\n",
              "      <td>Private</td>\n",
              "      <td>Rural</td>\n",
              "      <td>89.65</td>\n",
              "      <td>NaN</td>\n",
              "      <td>unknown</td>\n",
              "      <td>0</td>\n",
              "    </tr>\n",
              "    <tr>\n",
              "      <th>13471</th>\n",
              "      <td>Other</td>\n",
              "      <td>39.0</td>\n",
              "      <td>0</td>\n",
              "      <td>0</td>\n",
              "      <td>Yes</td>\n",
              "      <td>Govt_job</td>\n",
              "      <td>Urban</td>\n",
              "      <td>95.59</td>\n",
              "      <td>32.0</td>\n",
              "      <td>former</td>\n",
              "      <td>0</td>\n",
              "    </tr>\n",
              "    <tr>\n",
              "      <th>31015</th>\n",
              "      <td>Other</td>\n",
              "      <td>19.0</td>\n",
              "      <td>0</td>\n",
              "      <td>0</td>\n",
              "      <td>No</td>\n",
              "      <td>Private</td>\n",
              "      <td>Rural</td>\n",
              "      <td>75.76</td>\n",
              "      <td>32.2</td>\n",
              "      <td>former</td>\n",
              "      <td>0</td>\n",
              "    </tr>\n",
              "    <tr>\n",
              "      <th>27043</th>\n",
              "      <td>Other</td>\n",
              "      <td>49.0</td>\n",
              "      <td>0</td>\n",
              "      <td>0</td>\n",
              "      <td>Yes</td>\n",
              "      <td>Private</td>\n",
              "      <td>Urban</td>\n",
              "      <td>94.88</td>\n",
              "      <td>37.2</td>\n",
              "      <td>never</td>\n",
              "      <td>0</td>\n",
              "    </tr>\n",
              "    <tr>\n",
              "      <th>51111</th>\n",
              "      <td>Other</td>\n",
              "      <td>51.0</td>\n",
              "      <td>0</td>\n",
              "      <td>0</td>\n",
              "      <td>Yes</td>\n",
              "      <td>Private</td>\n",
              "      <td>Rural</td>\n",
              "      <td>91.75</td>\n",
              "      <td>32.2</td>\n",
              "      <td>former</td>\n",
              "      <td>0</td>\n",
              "    </tr>\n",
              "    <tr>\n",
              "      <th>42452</th>\n",
              "      <td>Other</td>\n",
              "      <td>10.0</td>\n",
              "      <td>0</td>\n",
              "      <td>0</td>\n",
              "      <td>No</td>\n",
              "      <td>children</td>\n",
              "      <td>Rural</td>\n",
              "      <td>72.05</td>\n",
              "      <td>21.2</td>\n",
              "      <td>former</td>\n",
              "      <td>0</td>\n",
              "    </tr>\n",
              "    <tr>\n",
              "      <th>49812</th>\n",
              "      <td>Other</td>\n",
              "      <td>53.0</td>\n",
              "      <td>0</td>\n",
              "      <td>0</td>\n",
              "      <td>Yes</td>\n",
              "      <td>Govt_job</td>\n",
              "      <td>Urban</td>\n",
              "      <td>65.29</td>\n",
              "      <td>NaN</td>\n",
              "      <td>unknown</td>\n",
              "      <td>0</td>\n",
              "    </tr>\n",
              "    <tr>\n",
              "      <th>14986</th>\n",
              "      <td>Other</td>\n",
              "      <td>11.0</td>\n",
              "      <td>0</td>\n",
              "      <td>0</td>\n",
              "      <td>No</td>\n",
              "      <td>children</td>\n",
              "      <td>Urban</td>\n",
              "      <td>101.30</td>\n",
              "      <td>18.1</td>\n",
              "      <td>former</td>\n",
              "      <td>0</td>\n",
              "    </tr>\n",
              "  </tbody>\n",
              "</table>\n",
              "</div>\n",
              "      <button class=\"colab-df-convert\" onclick=\"convertToInteractive('df-7d914d85-5335-40f5-962a-7a0721445789')\"\n",
              "              title=\"Convert this dataframe to an interactive table.\"\n",
              "              style=\"display:none;\">\n",
              "        \n",
              "  <svg xmlns=\"http://www.w3.org/2000/svg\" height=\"24px\"viewBox=\"0 0 24 24\"\n",
              "       width=\"24px\">\n",
              "    <path d=\"M0 0h24v24H0V0z\" fill=\"none\"/>\n",
              "    <path d=\"M18.56 5.44l.94 2.06.94-2.06 2.06-.94-2.06-.94-.94-2.06-.94 2.06-2.06.94zm-11 1L8.5 8.5l.94-2.06 2.06-.94-2.06-.94L8.5 2.5l-.94 2.06-2.06.94zm10 10l.94 2.06.94-2.06 2.06-.94-2.06-.94-.94-2.06-.94 2.06-2.06.94z\"/><path d=\"M17.41 7.96l-1.37-1.37c-.4-.4-.92-.59-1.43-.59-.52 0-1.04.2-1.43.59L10.3 9.45l-7.72 7.72c-.78.78-.78 2.05 0 2.83L4 21.41c.39.39.9.59 1.41.59.51 0 1.02-.2 1.41-.59l7.78-7.78 2.81-2.81c.8-.78.8-2.07 0-2.86zM5.41 20L4 18.59l7.72-7.72 1.47 1.35L5.41 20z\"/>\n",
              "  </svg>\n",
              "      </button>\n",
              "      \n",
              "  <style>\n",
              "    .colab-df-container {\n",
              "      display:flex;\n",
              "      flex-wrap:wrap;\n",
              "      gap: 12px;\n",
              "    }\n",
              "\n",
              "    .colab-df-convert {\n",
              "      background-color: #E8F0FE;\n",
              "      border: none;\n",
              "      border-radius: 50%;\n",
              "      cursor: pointer;\n",
              "      display: none;\n",
              "      fill: #1967D2;\n",
              "      height: 32px;\n",
              "      padding: 0 0 0 0;\n",
              "      width: 32px;\n",
              "    }\n",
              "\n",
              "    .colab-df-convert:hover {\n",
              "      background-color: #E2EBFA;\n",
              "      box-shadow: 0px 1px 2px rgba(60, 64, 67, 0.3), 0px 1px 3px 1px rgba(60, 64, 67, 0.15);\n",
              "      fill: #174EA6;\n",
              "    }\n",
              "\n",
              "    [theme=dark] .colab-df-convert {\n",
              "      background-color: #3B4455;\n",
              "      fill: #D2E3FC;\n",
              "    }\n",
              "\n",
              "    [theme=dark] .colab-df-convert:hover {\n",
              "      background-color: #434B5C;\n",
              "      box-shadow: 0px 1px 3px 1px rgba(0, 0, 0, 0.15);\n",
              "      filter: drop-shadow(0px 1px 2px rgba(0, 0, 0, 0.3));\n",
              "      fill: #FFFFFF;\n",
              "    }\n",
              "  </style>\n",
              "\n",
              "      <script>\n",
              "        const buttonEl =\n",
              "          document.querySelector('#df-7d914d85-5335-40f5-962a-7a0721445789 button.colab-df-convert');\n",
              "        buttonEl.style.display =\n",
              "          google.colab.kernel.accessAllowed ? 'block' : 'none';\n",
              "\n",
              "        async function convertToInteractive(key) {\n",
              "          const element = document.querySelector('#df-7d914d85-5335-40f5-962a-7a0721445789');\n",
              "          const dataTable =\n",
              "            await google.colab.kernel.invokeFunction('convertToInteractive',\n",
              "                                                     [key], {});\n",
              "          if (!dataTable) return;\n",
              "\n",
              "          const docLinkHtml = 'Like what you see? Visit the ' +\n",
              "            '<a target=\"_blank\" href=https://colab.research.google.com/notebooks/data_table.ipynb>data table notebook</a>'\n",
              "            + ' to learn more about interactive tables.';\n",
              "          element.innerHTML = '';\n",
              "          dataTable['output_type'] = 'display_data';\n",
              "          await google.colab.output.renderOutput(dataTable, element);\n",
              "          const docLink = document.createElement('div');\n",
              "          docLink.innerHTML = docLinkHtml;\n",
              "          element.appendChild(docLink);\n",
              "        }\n",
              "      </script>\n",
              "    </div>\n",
              "  </div>\n",
              "  "
            ]
          },
          "metadata": {},
          "execution_count": 95
        }
      ]
    },
    {
      "cell_type": "markdown",
      "source": [
        "Okay, none of the 'Other' gender had a stroke and it's only 0.03% of the dataset, so I'm going to remove those 11 in the interest of reducing overall complexity. Maybe this is an ethical concern to consider."
      ],
      "metadata": {
        "id": "4gXXp495KERD"
      }
    },
    {
      "cell_type": "code",
      "source": [
        "%%time\n",
        "# Look at box plots by variable\n",
        "plt.figure(figsize=(15, 20))\n",
        "for i, col in enumerate(strokeDF.columns[:-1], 1):\n",
        "  plt.subplot(6, 4, i)\n",
        "  plt.title(f'{col} Dist. by Stroke')\n",
        "  sns.violinplot(y=strokeDF[col], x=strokeDF['stroke'])\n",
        "  plt.tight_layout()\n",
        "  plt.plot()\n",
        "plt.show()"
      ],
      "metadata": {
        "colab": {
          "base_uri": "https://localhost:8080/",
          "height": 785
        },
        "id": "oANY6FkvOlXj",
        "outputId": "f3306e2c-22c1-4a79-be7a-84b29c94737e"
      },
      "execution_count": null,
      "outputs": [
        {
          "output_type": "display_data",
          "data": {
            "text/plain": [
              "<Figure size 1080x1440 with 10 Axes>"
            ],
            "image/png": "[encoded data removed]"
          },
          "metadata": {
            "needs_background": "light"
          }
        },
        {
          "output_type": "stream",
          "name": "stdout",
          "text": [
            "CPU times: user 5.69 s, sys: 839 ms, total: 6.53 s\n",
            "Wall time: 7.24 s\n"
          ]
        }
      ]
    },
    {
      "cell_type": "code",
      "source": [
        "strokeDF.stroke.value_counts()"
      ],
      "metadata": {
        "colab": {
          "base_uri": "https://localhost:8080/"
        },
        "id": "8-tgh01UP8so",
        "outputId": "06ed58c9-83e2-4e9b-b537-879f7f4a7758"
      },
      "execution_count": null,
      "outputs": [
        {
          "output_type": "execute_result",
          "data": {
            "text/plain": [
              "0    42617\n",
              "1      783\n",
              "Name: stroke, dtype: int64"
            ]
          },
          "metadata": {},
          "execution_count": 97
        }
      ]
    },
    {
      "cell_type": "code",
      "source": [
        "round(783/43400*100, 2)"
      ],
      "metadata": {
        "colab": {
          "base_uri": "https://localhost:8080/"
        },
        "id": "PNWL2W0dQg6x",
        "outputId": "e7cbc60a-6c01-48aa-9357-5c96b2f3a56a"
      },
      "execution_count": null,
      "outputs": [
        {
          "output_type": "execute_result",
          "data": {
            "text/plain": [
              "1.8"
            ]
          },
          "metadata": {},
          "execution_count": 98
        }
      ]
    },
    {
      "cell_type": "code",
      "source": [
        "strokeDF.work_type.value_counts()"
      ],
      "metadata": {
        "colab": {
          "base_uri": "https://localhost:8080/"
        },
        "id": "bur0hJNlR2Jc",
        "outputId": "1cc8ead5-8cf6-42f9-9375-4506302c38f0"
      },
      "execution_count": null,
      "outputs": [
        {
          "output_type": "execute_result",
          "data": {
            "text/plain": [
              "Private          24834\n",
              "Self-employed     6793\n",
              "children          6156\n",
              "Govt_job          5440\n",
              "Never_worked       177\n",
              "Name: work_type, dtype: int64"
            ]
          },
          "metadata": {},
          "execution_count": 99
        }
      ]
    },
    {
      "cell_type": "markdown",
      "source": [
        "Sigh, this explains the 98% accuracy from earlier."
      ],
      "metadata": {
        "id": "WtaRPUVeRQ24"
      }
    },
    {
      "cell_type": "markdown",
      "source": [
        "## Balance target classes"
      ],
      "metadata": {
        "id": "u237YS1hSUT-"
      }
    },
    {
      "cell_type": "code",
      "source": [
        "# def load_dataset(DF):\n",
        "#   # retrieve numpy array\n",
        "#   dataset = DF.values\n",
        "#   # split into input (X) and output (y) variables\n",
        "#   X, y = dataset[:, :-1], dataset[:,-1]\n",
        "#   # ensure inputs are floats and output is an integer label\n",
        "#   # X = X.astype('float64')\n",
        "#   return X, y"
      ],
      "metadata": {
        "id": "4JauxwVUTSxv"
      },
      "execution_count": null,
      "outputs": []
    },
    {
      "cell_type": "code",
      "source": [
        "# df = strokeDF.copy()\n",
        "# df.update(testdf)"
      ],
      "metadata": {
        "id": "oM4zA8zsZPlf"
      },
      "execution_count": null,
      "outputs": []
    },
    {
      "cell_type": "code",
      "source": [
        "# # load the dataset\n",
        "# X, y = load_dataset(df)\n",
        "\n",
        "# from sklearn.model_selection import train_test_split\n",
        "# X_train, X_test, y_train, y_test = train_test_split(\n",
        "#     X, y, test_size=0.33, random_state=42)"
      ],
      "metadata": {
        "id": "m8VBUMmRST5W"
      },
      "execution_count": null,
      "outputs": []
    },
    {
      "cell_type": "code",
      "source": [
        "# # random oversampling to balance the class distribution\n",
        "# from collections import Counter\n",
        "\n",
        "# # summarize class distribution\n",
        "# print(Counter(y_train))\n",
        "\n",
        "# # get an average class size\n",
        "# balancedNum = int(round(len(y_train)/2, 0))\n",
        "# balancedNum"
      ],
      "metadata": {
        "id": "0dl7rMY6TjUf"
      },
      "execution_count": null,
      "outputs": []
    },
    {
      "cell_type": "code",
      "source": [
        "# df.info()"
      ],
      "metadata": {
        "id": "sWdjga19XTgM"
      },
      "execution_count": null,
      "outputs": []
    },
    {
      "cell_type": "code",
      "source": [
        "# # summarize\n",
        "# print('Train:', X_train.shape, y_train.shape)\n",
        "# print('Test: ', X_test.shape, y_test.shape)"
      ],
      "metadata": {
        "id": "H4coTRSGX4zj"
      },
      "execution_count": null,
      "outputs": []
    },
    {
      "cell_type": "code",
      "source": [
        "# X_train"
      ],
      "metadata": {
        "id": "4wGkuYBtXwKQ"
      },
      "execution_count": null,
      "outputs": []
    },
    {
      "cell_type": "markdown",
      "source": [
        "Apparently this just doesn't work with both strings *and* floats:"
      ],
      "metadata": {
        "id": "NiABq25XZ3S4"
      }
    },
    {
      "cell_type": "code",
      "source": [
        "# from imblearn.over_sampling import SMOTENC\n",
        "# sm = SMOTENC(random_state=42, categorical_features=[0, 4, 5, 6, 9])\n",
        "# X_res, y_res = sm.fit_resample(X_train, y_train.astype('int'))\n",
        "# print(f'Resampled dataset samples per class {Counter(y_res)}')"
      ],
      "metadata": {
        "id": "dzn5VBnrXLR7"
      },
      "execution_count": null,
      "outputs": []
    },
    {
      "cell_type": "code",
      "source": [
        "# # random oversampling to balance the class distribution\n",
        "# from collections import Counter\n",
        "\n",
        "# # summarize class distribution\n",
        "# print(Counter(y_train))\n",
        "\n",
        "# # get an average class size\n",
        "# balancedNum = int(round(len(y_train)/10, 0))\n",
        "# balancedNum\n",
        "\n",
        "# # set up dictionary of classes to resample (< average number of samples)\n",
        "# resampleDict = {}\n",
        "# for i in np.unique(y_train):\n",
        "#   if Counter(y_train)[i] < balancedNum:\n",
        "#     resampleDict[i] = balancedNum\n",
        "\n",
        "# ## Oversampling\n",
        "# from imblearn.over_sampling import RandomOverSampler\n",
        "# # define oversampling strategy\n",
        "# oversample = RandomOverSampler(sampling_strategy=resampleDict)\n",
        "# # fit and apply the transform\n",
        "# X_over, y_over = oversample.fit_resample(X_train, y_train)\n",
        "# # summarize class distribution\n",
        "# print(Counter(y_over))\n",
        "\n",
        "# ## Undersampling\n",
        "# from imblearn.under_sampling import RandomUnderSampler\n",
        "# # define oversampling strategy\n",
        "# undersample = RandomUnderSampler(sampling_strategy='auto')\n",
        "# # fit and apply the transform\n",
        "# # X_under, y_under = undersample.fit_resample(X_over, y_over)\n",
        "# X_train, y_train = undersample.fit_resample(X_over, y_over)\n",
        "# # summarize class distribution\n",
        "# # print(Counter(y_under))\n",
        "# print(Counter(y_train))"
      ],
      "metadata": {
        "id": "Plah-8zhQpRo"
      },
      "execution_count": null,
      "outputs": []
    },
    {
      "cell_type": "code",
      "source": [
        "# load and summarize the dataset\n",
        "from pandas import read_csv\n",
        "from collections import Counter\n",
        "from matplotlib import pyplot\n",
        "from sklearn.preprocessing import LabelEncoder\n",
        "# define the dataset location\n",
        "# url = 'https://raw.githubusercontent.com/jbrownlee/Datasets/master/glass.csv'\n",
        "# load the csv file as a data frame\n",
        "# df = read_csv(url, header=None)\n",
        "data = df.values\n",
        "# split into input and output elements\n",
        "X, y = df.iloc[:,:-1], df.iloc[:,-1]\n",
        "# label encode the target variable\n",
        "# y = LabelEncoder().fit_transform(y)\n",
        "# summarize distribution\n",
        "counter = Counter(y)\n",
        "counter"
      ],
      "metadata": {
        "id": "S1nCEx3eZ_tU",
        "colab": {
          "base_uri": "https://localhost:8080/"
        },
        "outputId": "68a1b30a-0d09-4c75-85b8-59cb58b3b0f4"
      },
      "execution_count": null,
      "outputs": [
        {
          "output_type": "execute_result",
          "data": {
            "text/plain": [
              "Counter({0: 42617, 1: 783})"
            ]
          },
          "metadata": {},
          "execution_count": 109
        }
      ]
    },
    {
      "cell_type": "code",
      "source": [
        "for k,v in counter.items():\n",
        "\tper = v / len(y) * 100\n",
        "\tprint('Class=%d, n=%d (%.3f%%)' % (k, v, per))\n",
        "# plot the distribution\n",
        "pyplot.bar(counter.keys(), counter.values())\n",
        "pyplot.show()"
      ],
      "metadata": {
        "colab": {
          "base_uri": "https://localhost:8080/",
          "height": 300
        },
        "id": "_3fZaTk-irbp",
        "outputId": "c033f0fb-7306-4b7d-d2d0-6bd409c51aa1"
      },
      "execution_count": null,
      "outputs": [
        {
          "output_type": "stream",
          "name": "stdout",
          "text": [
            "Class=0, n=42617 (98.196%)\n",
            "Class=1, n=783 (1.804%)\n"
          ]
        },
        {
          "output_type": "display_data",
          "data": {
            "text/plain": [
              "<Figure size 432x288 with 1 Axes>"
            ],
            "image/png": "[encoded data removed]"
          },
          "metadata": {
            "needs_background": "light"
          }
        }
      ]
    },
    {
      "cell_type": "code",
      "source": [
        "# from imblearn.over_sampling import SMOTE\n",
        "# # transform the dataset\n",
        "# oversample = SMOTE()\n",
        "# X, y = oversample.fit_resample(X, y)\n",
        "# # summarize distribution\n",
        "# counter = Counter(y)\n",
        "# for k,v in counter.items():\n",
        "# \tper = v / len(y) * 100\n",
        "# \tprint('Class=%d, n=%d (%.3f%%)' % (k, v, per))\n",
        "# # plot the distribution\n",
        "# pyplot.bar(counter.keys(), counter.values())\n",
        "# pyplot.show()"
      ],
      "metadata": {
        "id": "G3nM7p4RjTnC"
      },
      "execution_count": null,
      "outputs": []
    },
    {
      "cell_type": "code",
      "source": [
        "from imblearn.over_sampling import RandomOverSampler\n",
        "# define oversampling strategy\n",
        "oversample = RandomOverSampler(sampling_strategy='minority', random_state=42)\n",
        "\n",
        "# fit and apply the transform\n",
        "X_over, y_over = oversample.fit_resample(X, y)"
      ],
      "metadata": {
        "id": "E2vhYLA4jl7x"
      },
      "execution_count": null,
      "outputs": []
    },
    {
      "cell_type": "code",
      "source": [
        "X, y = df.iloc[:,:-1], df.iloc[:,-1]"
      ],
      "metadata": {
        "id": "9fdCZsZMoHpN"
      },
      "execution_count": null,
      "outputs": []
    },
    {
      "cell_type": "code",
      "source": [
        "from imblearn.over_sampling import RandomOverSampler\n",
        "# define oversampling strategy\n",
        "oversample = RandomOverSampler(sampling_strategy='minority', random_state=42)\n",
        "\n",
        "# fit and apply the transform\n",
        "X_over, y_over = oversample.fit_resample(X, y)"
      ],
      "metadata": {
        "id": "sLP5569wqJbY"
      },
      "execution_count": null,
      "outputs": []
    },
    {
      "cell_type": "code",
      "source": [
        "counter = Counter(y_over)\n",
        "counter\n",
        "\n",
        "for k,v in counter.items():\n",
        "\tper = v / len(y_over) * 100\n",
        "\tprint('Class=%d, n=%d (%.3f%%)' % (k, v, per))\n",
        "# plot the distribution\n",
        "pyplot.bar(counter.keys(), counter.values())\n",
        "pyplot.show()"
      ],
      "metadata": {
        "colab": {
          "base_uri": "https://localhost:8080/",
          "height": 300
        },
        "id": "kGhdzfqsq0qg",
        "outputId": "0405bad3-c11a-4334-b41a-5557b173969e"
      },
      "execution_count": null,
      "outputs": [
        {
          "output_type": "stream",
          "name": "stdout",
          "text": [
            "Class=0, n=42617 (50.000%)\n",
            "Class=1, n=42617 (50.000%)\n"
          ]
        },
        {
          "output_type": "display_data",
          "data": {
            "text/plain": [
              "<Figure size 432x288 with 1 Axes>"
            ],
            "image/png": "[encoded data removed]"
          },
          "metadata": {
            "needs_background": "light"
          }
        }
      ]
    },
    {
      "cell_type": "markdown",
      "source": [
        "# Train/Test split"
      ],
      "metadata": {
        "id": "qHvjXK69rLpY"
      }
    },
    {
      "cell_type": "code",
      "source": [
        "strokeDF = strokeDF[strokeDF['gender'] != 'Other']"
      ],
      "metadata": {
        "id": "4SdDlxw2N3ID"
      },
      "execution_count": null,
      "outputs": []
    },
    {
      "cell_type": "code",
      "source": [
        "df = strokeDF.copy()"
      ],
      "metadata": {
        "id": "HdQT-F0h8GSV"
      },
      "execution_count": null,
      "outputs": []
    },
    {
      "cell_type": "code",
      "source": [
        "len(df)"
      ],
      "metadata": {
        "colab": {
          "base_uri": "https://localhost:8080/"
        },
        "id": "VB_YaQXUNYdX",
        "outputId": "751e49bf-6bbd-48bb-db0c-2512ab3dc7e4"
      },
      "execution_count": null,
      "outputs": [
        {
          "output_type": "execute_result",
          "data": {
            "text/plain": [
              "43389"
            ]
          },
          "metadata": {},
          "execution_count": 118
        }
      ]
    },
    {
      "cell_type": "code",
      "source": [
        "# df.isna().sum()"
      ],
      "metadata": {
        "id": "pEZ2HOTyH51n"
      },
      "execution_count": null,
      "outputs": []
    },
    {
      "cell_type": "code",
      "source": [
        "# df.loc[429]"
      ],
      "metadata": {
        "id": "LHDN7Qi-Mm1e"
      },
      "execution_count": null,
      "outputs": []
    },
    {
      "cell_type": "markdown",
      "source": [
        "## Encode categorical variables"
      ],
      "metadata": {
        "id": "wpPaAJhfC2MB"
      }
    },
    {
      "cell_type": "code",
      "source": [
        "strokeDF.columns"
      ],
      "metadata": {
        "colab": {
          "base_uri": "https://localhost:8080/"
        },
        "id": "k4f5gHoqT4BZ",
        "outputId": "82828d13-9d2d-4b98-8bfd-d9d6ba83d9e4"
      },
      "execution_count": null,
      "outputs": [
        {
          "output_type": "execute_result",
          "data": {
            "text/plain": [
              "Index(['gender', 'age', 'hypertension', 'heart_disease', 'ever_married',\n",
              "       'work_type', 'Residence_type', 'avg_glucose_level', 'bmi',\n",
              "       'smoking_status', 'stroke'],\n",
              "      dtype='object')"
            ]
          },
          "metadata": {},
          "execution_count": 121
        }
      ]
    },
    {
      "cell_type": "code",
      "source": [
        "df = strokeDF.copy()\n",
        "# encode Yes/No to 1/0\n",
        "df.ever_married.replace(['Yes', 'No'], [1, 0], inplace=True)\n",
        "\n",
        "# drop 'Other' from gender and encode to 1/0\n",
        "df.gender.replace(['Male', 'Female'], [1, 0], inplace=True)\n",
        "\n",
        "# encode Urban/Rural to 1/0\n",
        "df.Residence_type.replace(['Rural', 'Urban'], [1, 0], inplace=True)\n",
        "\n",
        "from sklearn.preprocessing import OneHotEncoder\n",
        "from sklearn.compose import make_column_transformer\n",
        "\n",
        "transformer = make_column_transformer(\n",
        "    (OneHotEncoder(), ['work_type', 'smoking_status']), \n",
        "    remainder='passthrough')\n",
        "\n",
        "transformed = transformer.fit_transform(df)\n",
        "df = pd.DataFrame(transformed, columns=transformer.get_feature_names_out(), \n",
        "                  index=df.index)"
      ],
      "metadata": {
        "id": "KNvTFsjdWtT9"
      },
      "execution_count": null,
      "outputs": []
    },
    {
      "cell_type": "markdown",
      "source": [
        "For some reason this step is resetting my index..."
      ],
      "metadata": {
        "id": "5NyzBRHxOTO2"
      }
    },
    {
      "cell_type": "code",
      "source": [
        "# df.head()"
      ],
      "metadata": {
        "id": "e2APCGUqOs3j"
      },
      "execution_count": null,
      "outputs": []
    },
    {
      "cell_type": "code",
      "source": [
        "# strokeDF.head()"
      ],
      "metadata": {
        "id": "ebTNf-SwPKcL"
      },
      "execution_count": null,
      "outputs": []
    },
    {
      "cell_type": "markdown",
      "source": [
        "Fixed!"
      ],
      "metadata": {
        "id": "9EcRm-BnQYH0"
      }
    },
    {
      "cell_type": "code",
      "source": [
        "# df.loc[429]"
      ],
      "metadata": {
        "id": "K2XVhBibMtoh"
      },
      "execution_count": null,
      "outputs": []
    },
    {
      "cell_type": "code",
      "source": [
        "df.rename(columns={'remainder__bmi': 'bmi'}, inplace=True)"
      ],
      "metadata": {
        "id": "5_Ztm4S2GzbI"
      },
      "execution_count": null,
      "outputs": []
    },
    {
      "cell_type": "code",
      "source": [
        "X, y = df.iloc[:,:-1], df.iloc[:,-1]"
      ],
      "metadata": {
        "id": "vRS_KiAr-OJe"
      },
      "execution_count": null,
      "outputs": []
    },
    {
      "cell_type": "code",
      "source": [
        "from sklearn.model_selection import train_test_split\n",
        "X_train, X_test, y_train, y_test = train_test_split(\n",
        "    X, y, test_size=0.33, random_state=42)"
      ],
      "metadata": {
        "id": "w7u_RNfbrDy_"
      },
      "execution_count": null,
      "outputs": []
    },
    {
      "cell_type": "markdown",
      "source": [
        "## impute `bmi` using LogReg"
      ],
      "metadata": {
        "id": "8R8xjbf98PcH"
      }
    },
    {
      "cell_type": "code",
      "source": [
        "df = strokeDF.copy()"
      ],
      "metadata": {
        "id": "eTlR1kPrEHNc"
      },
      "execution_count": null,
      "outputs": []
    },
    {
      "cell_type": "code",
      "source": [
        "from sklearn.linear_model import LinearRegression\n",
        "lr = LinearRegression()\n",
        "# df = strokeDF.copy()\n",
        "# df.drop('stroke', axis=1, inplace=True)\n",
        "# df.head()\n",
        "testdf = X_train[X_train['bmi'].isnull()==True]\n",
        "traindf = X_train[X_train['bmi'].isnull()==False]\n",
        "y_bmi = traindf['bmi']\n",
        "traindf.drop(\"bmi\",axis=1,inplace=True)\n",
        "lr.fit(traindf,y_bmi)\n",
        "testdf.drop(\"bmi\",axis=1,inplace=True)\n",
        "pred = lr.predict(testdf)\n",
        "testdf['bmi'] = pred"
      ],
      "metadata": {
        "colab": {
          "base_uri": "https://localhost:8080/"
        },
        "id": "-2x0-eR3Abgq",
        "outputId": "76611153-6d42-44e9-a81a-2f218c7cc165"
      },
      "execution_count": null,
      "outputs": [
        {
          "output_type": "stream",
          "name": "stderr",
          "text": [
            "/usr/local/lib/python3.7/dist-packages/pandas/core/frame.py:4913: SettingWithCopyWarning: \n",
            "A value is trying to be set on a copy of a slice from a DataFrame\n",
            "\n",
            "See the caveats in the documentation: https://pandas.pydata.org/pandas-docs/stable/user_guide/indexing.html#returning-a-view-versus-a-copy\n",
            "  errors=errors,\n",
            "/usr/local/lib/python3.7/dist-packages/pandas/core/frame.py:4913: SettingWithCopyWarning: \n",
            "A value is trying to be set on a copy of a slice from a DataFrame\n",
            "\n",
            "See the caveats in the documentation: https://pandas.pydata.org/pandas-docs/stable/user_guide/indexing.html#returning-a-view-versus-a-copy\n",
            "  errors=errors,\n",
            "/usr/local/lib/python3.7/dist-packages/ipykernel_launcher.py:13: SettingWithCopyWarning: \n",
            "A value is trying to be set on a copy of a slice from a DataFrame.\n",
            "Try using .loc[row_indexer,col_indexer] = value instead\n",
            "\n",
            "See the caveats in the documentation: https://pandas.pydata.org/pandas-docs/stable/user_guide/indexing.html#returning-a-view-versus-a-copy\n",
            "  del sys.path[0]\n"
          ]
        }
      ]
    },
    {
      "cell_type": "code",
      "source": [
        "testdf.info()"
      ],
      "metadata": {
        "colab": {
          "base_uri": "https://localhost:8080/"
        },
        "id": "_CbuAe4JHuaM",
        "outputId": "b78f85c6-5fce-4b2b-a939-b2f6e5c8eeb6"
      },
      "execution_count": null,
      "outputs": [
        {
          "output_type": "stream",
          "name": "stdout",
          "text": [
            "<class 'pandas.core.frame.DataFrame'>\n",
            "Int64Index: 956 entries, 18472 to 756\n",
            "Data columns (total 17 columns):\n",
            " #   Column                                  Non-Null Count  Dtype  \n",
            "---  ------                                  --------------  -----  \n",
            " 0   onehotencoder__work_type_Govt_job       956 non-null    float64\n",
            " 1   onehotencoder__work_type_Never_worked   956 non-null    float64\n",
            " 2   onehotencoder__work_type_Private        956 non-null    float64\n",
            " 3   onehotencoder__work_type_Self-employed  956 non-null    float64\n",
            " 4   onehotencoder__work_type_children       956 non-null    float64\n",
            " 5   onehotencoder__smoking_status_former    956 non-null    float64\n",
            " 6   onehotencoder__smoking_status_never     956 non-null    float64\n",
            " 7   onehotencoder__smoking_status_smoker    956 non-null    float64\n",
            " 8   onehotencoder__smoking_status_unknown   956 non-null    float64\n",
            " 9   remainder__gender                       956 non-null    float64\n",
            " 10  remainder__age                          956 non-null    float64\n",
            " 11  remainder__hypertension                 956 non-null    float64\n",
            " 12  remainder__heart_disease                956 non-null    float64\n",
            " 13  remainder__ever_married                 956 non-null    float64\n",
            " 14  remainder__Residence_type               956 non-null    float64\n",
            " 15  remainder__avg_glucose_level            956 non-null    float64\n",
            " 16  bmi                                     956 non-null    float64\n",
            "dtypes: float64(17)\n",
            "memory usage: 134.4 KB\n"
          ]
        }
      ]
    },
    {
      "cell_type": "code",
      "source": [
        "df.info()"
      ],
      "metadata": {
        "colab": {
          "base_uri": "https://localhost:8080/"
        },
        "id": "42vIHcqOFtb4",
        "outputId": "6301c90f-5948-4c87-cd14-afff9e1dcae7"
      },
      "execution_count": null,
      "outputs": [
        {
          "output_type": "stream",
          "name": "stdout",
          "text": [
            "<class 'pandas.core.frame.DataFrame'>\n",
            "Int64Index: 43389 entries, 30669 to 36271\n",
            "Data columns (total 11 columns):\n",
            " #   Column             Non-Null Count  Dtype  \n",
            "---  ------             --------------  -----  \n",
            " 0   gender             43389 non-null  object \n",
            " 1   age                43389 non-null  float64\n",
            " 2   hypertension       43389 non-null  int64  \n",
            " 3   heart_disease      43389 non-null  int64  \n",
            " 4   ever_married       43389 non-null  object \n",
            " 5   work_type          43389 non-null  object \n",
            " 6   Residence_type     43389 non-null  object \n",
            " 7   avg_glucose_level  43389 non-null  float64\n",
            " 8   bmi                41931 non-null  float64\n",
            " 9   smoking_status     43389 non-null  object \n",
            " 10  stroke             43389 non-null  int64  \n",
            "dtypes: float64(3), int64(3), object(5)\n",
            "memory usage: 4.0+ MB\n"
          ]
        }
      ]
    },
    {
      "cell_type": "code",
      "source": [
        "# X_train.update(testdf)"
      ],
      "metadata": {
        "id": "b5hdqLJpGJzv"
      },
      "execution_count": null,
      "outputs": []
    },
    {
      "cell_type": "code",
      "source": [
        "# df.update(X_train)"
      ],
      "metadata": {
        "id": "owuqZxca9wUC"
      },
      "execution_count": null,
      "outputs": []
    },
    {
      "cell_type": "code",
      "source": [
        "df.update(testdf)"
      ],
      "metadata": {
        "id": "y0JF1GpjHCpm"
      },
      "execution_count": null,
      "outputs": []
    },
    {
      "cell_type": "code",
      "source": [
        "df.info()"
      ],
      "metadata": {
        "colab": {
          "base_uri": "https://localhost:8080/"
        },
        "id": "luzjFbYsFvr6",
        "outputId": "00915269-66a3-4067-85f6-c37564f00d15"
      },
      "execution_count": null,
      "outputs": [
        {
          "output_type": "stream",
          "name": "stdout",
          "text": [
            "<class 'pandas.core.frame.DataFrame'>\n",
            "Int64Index: 43389 entries, 30669 to 36271\n",
            "Data columns (total 11 columns):\n",
            " #   Column             Non-Null Count  Dtype  \n",
            "---  ------             --------------  -----  \n",
            " 0   gender             43389 non-null  object \n",
            " 1   age                43389 non-null  float64\n",
            " 2   hypertension       43389 non-null  int64  \n",
            " 3   heart_disease      43389 non-null  int64  \n",
            " 4   ever_married       43389 non-null  object \n",
            " 5   work_type          43389 non-null  object \n",
            " 6   Residence_type     43389 non-null  object \n",
            " 7   avg_glucose_level  43389 non-null  float64\n",
            " 8   bmi                42887 non-null  float64\n",
            " 9   smoking_status     43389 non-null  object \n",
            " 10  stroke             43389 non-null  int64  \n",
            "dtypes: float64(3), int64(3), object(5)\n",
            "memory usage: 4.0+ MB\n"
          ]
        }
      ]
    },
    {
      "cell_type": "code",
      "source": [
        "testdf = X_test[X_test['bmi'].isnull()==True]\n",
        "testdf.drop(\"bmi\",axis=1,inplace=True)\n",
        "pred = lr.predict(testdf)\n",
        "testdf['bmi'] = pred"
      ],
      "metadata": {
        "colab": {
          "base_uri": "https://localhost:8080/"
        },
        "id": "xtxIM_e--Hb3",
        "outputId": "d903a4f4-0eeb-49b1-89c2-7a37fb52bd75"
      },
      "execution_count": null,
      "outputs": [
        {
          "output_type": "stream",
          "name": "stderr",
          "text": [
            "/usr/local/lib/python3.7/dist-packages/pandas/core/frame.py:4913: SettingWithCopyWarning: \n",
            "A value is trying to be set on a copy of a slice from a DataFrame\n",
            "\n",
            "See the caveats in the documentation: https://pandas.pydata.org/pandas-docs/stable/user_guide/indexing.html#returning-a-view-versus-a-copy\n",
            "  errors=errors,\n",
            "/usr/local/lib/python3.7/dist-packages/ipykernel_launcher.py:4: SettingWithCopyWarning: \n",
            "A value is trying to be set on a copy of a slice from a DataFrame.\n",
            "Try using .loc[row_indexer,col_indexer] = value instead\n",
            "\n",
            "See the caveats in the documentation: https://pandas.pydata.org/pandas-docs/stable/user_guide/indexing.html#returning-a-view-versus-a-copy\n",
            "  after removing the cwd from sys.path.\n"
          ]
        }
      ]
    },
    {
      "cell_type": "markdown",
      "source": [
        "Why is the index different??"
      ],
      "metadata": {
        "id": "G1W4S4bqMgB3"
      }
    },
    {
      "cell_type": "code",
      "source": [
        "# X_test.update(testdf)"
      ],
      "metadata": {
        "id": "hc2bineIGQ4t"
      },
      "execution_count": null,
      "outputs": []
    },
    {
      "cell_type": "code",
      "source": [
        "# df.update(X_test)"
      ],
      "metadata": {
        "id": "HYNTAqaHCkPa"
      },
      "execution_count": null,
      "outputs": []
    },
    {
      "cell_type": "code",
      "source": [
        "df.update(testdf)"
      ],
      "metadata": {
        "id": "V6eLIToeHGMG"
      },
      "execution_count": null,
      "outputs": []
    },
    {
      "cell_type": "code",
      "source": [
        "df.info()"
      ],
      "metadata": {
        "colab": {
          "base_uri": "https://localhost:8080/"
        },
        "id": "cK0_0s3aDzI1",
        "outputId": "9999d1a7-c20f-4f20-86fa-73745a025bf1"
      },
      "execution_count": null,
      "outputs": [
        {
          "output_type": "stream",
          "name": "stdout",
          "text": [
            "<class 'pandas.core.frame.DataFrame'>\n",
            "Int64Index: 43389 entries, 30669 to 36271\n",
            "Data columns (total 11 columns):\n",
            " #   Column             Non-Null Count  Dtype  \n",
            "---  ------             --------------  -----  \n",
            " 0   gender             43389 non-null  object \n",
            " 1   age                43389 non-null  float64\n",
            " 2   hypertension       43389 non-null  int64  \n",
            " 3   heart_disease      43389 non-null  int64  \n",
            " 4   ever_married       43389 non-null  object \n",
            " 5   work_type          43389 non-null  object \n",
            " 6   Residence_type     43389 non-null  object \n",
            " 7   avg_glucose_level  43389 non-null  float64\n",
            " 8   bmi                43389 non-null  float64\n",
            " 9   smoking_status     43389 non-null  object \n",
            " 10  stroke             43389 non-null  int64  \n",
            "dtypes: float64(3), int64(3), object(5)\n",
            "memory usage: 4.0+ MB\n"
          ]
        }
      ]
    },
    {
      "cell_type": "markdown",
      "source": [
        "BMI filled using Logistic Regression:"
      ],
      "metadata": {
        "id": "JMejv2sDOeDJ"
      }
    },
    {
      "cell_type": "code",
      "source": [
        "bmiLR = df.copy()\n",
        "bmiLR.name = 'LogReg'"
      ],
      "metadata": {
        "id": "nO_lUr6cOdoF"
      },
      "execution_count": null,
      "outputs": []
    },
    {
      "cell_type": "markdown",
      "source": [
        "BMI filled using mean:"
      ],
      "metadata": {
        "id": "FbQd3psrOpVh"
      }
    },
    {
      "cell_type": "code",
      "source": [
        "bmiAvg = strokeDF.copy()\n",
        "bmiAvg.bmi = bmiAvg.bmi.fillna(bmiAvg.bmi.mean())\n",
        "bmiAvg.name = 'Mean'"
      ],
      "metadata": {
        "id": "bF-k5dGwJyRe"
      },
      "execution_count": null,
      "outputs": []
    },
    {
      "cell_type": "markdown",
      "source": [
        "BMI filled using median:"
      ],
      "metadata": {
        "id": "MB8I6t2KPOjK"
      }
    },
    {
      "cell_type": "code",
      "source": [
        "bmiMed = strokeDF.copy()\n",
        "bmiMed.bmi = bmiMed.bmi.fillna(bmiMed.bmi.median())\n",
        "bmiMed.name = 'Median'"
      ],
      "metadata": {
        "id": "NOG56SK8PN3b"
      },
      "execution_count": null,
      "outputs": []
    },
    {
      "cell_type": "markdown",
      "source": [
        "## Compare imputation methods"
      ],
      "metadata": {
        "id": "3RgRLK_OSZdV"
      }
    },
    {
      "cell_type": "code",
      "source": [
        "from sklearn.linear_model import LogisticRegression\n",
        "from imblearn.over_sampling import RandomOverSampler\n",
        "from sklearn import metrics\n",
        "\n",
        "def compare_lr_accuracy(DF):\n",
        "  ## ENCODE BINARY VALUES\n",
        "  # encode Yes/No to 1/0\n",
        "  DF.ever_married.replace(['Yes', 'No'], [1, 0], inplace=True)\n",
        "  # encode gender to 1/0\n",
        "  DF.gender.replace(['Male', 'Female'], [1, 0], inplace=True)\n",
        "  # encode Urban/Rural to 1/0\n",
        "  DF.Residence_type.replace(['Rural', 'Urban'], [1, 0], inplace=True)\n",
        "  \n",
        "  ## ONE HOT ENCODE CATEGORICAL VALUES\n",
        "  # one hot encode remaining categorical variables\n",
        "  transformer = make_column_transformer(\n",
        "      (OneHotEncoder(), ['work_type', 'smoking_status']), \n",
        "      remainder='passthrough')\n",
        "  transformed = transformer.fit_transform(DF)\n",
        "  DF = pd.DataFrame(transformed, columns=transformer.get_feature_names_out(), \n",
        "                    index=DF.index) # fix index that was reset\n",
        "  \n",
        "  ## SEPARATE DATA FROM TARGET\n",
        "  X, y = DF.iloc[:,:-1], DF.iloc[:,-1]\n",
        "\n",
        "  ## SPLIT TRAINING AND TEST SETS\n",
        "  X_train, X_test, y_train, y_test = train_test_split(\n",
        "    X, y, test_size=0.33, random_state=42)\n",
        "  \n",
        "  ## BALANCE BASED ON TARGET (STROKE)\n",
        "  # define oversampling strategy\n",
        "  oversample = RandomOverSampler(sampling_strategy='minority', random_state=42)\n",
        "  # fit and apply the transform\n",
        "  X_over, y_over = oversample.fit_resample(X_train, y_train)\n",
        "\n",
        "  ## SET UP AND FIT LOG REG MODEL\n",
        "  lr = LogisticRegression(solver='liblinear')\n",
        "  lr.fit(X_over, y_over)\n",
        "\n",
        "  ## GENERATE PREDICTONS AND DISPLAY MODEL ACCURACY\n",
        "  pred = lr.predict(X_test)\n",
        "  score = metrics.accuracy_score(pred, y_test)\n",
        "  print(f' Accuracy {round(score*100, 2)} %\\n')"
      ],
      "metadata": {
        "id": "rurDVvS6WPSx"
      },
      "execution_count": null,
      "outputs": []
    },
    {
      "cell_type": "code",
      "source": [
        "methods = [bmiLR, bmiAvg, bmiMed]\n",
        "for i in methods:\n",
        "  print(f'Imputation Method: {i.name}')\n",
        "  compare_lr_accuracy(i)"
      ],
      "metadata": {
        "colab": {
          "base_uri": "https://localhost:8080/"
        },
        "id": "fzpVoZAReJL3",
        "outputId": "a1e55314-82a0-4977-ea56-922ea412dece"
      },
      "execution_count": null,
      "outputs": [
        {
          "output_type": "stream",
          "name": "stdout",
          "text": [
            "Imputation Method: LogReg\n",
            " Accuracy 74.13 %\n",
            "\n",
            "Imputation Method: Mean\n",
            " Accuracy 74.22 %\n",
            "\n",
            "Imputation Method: Median\n",
            " Accuracy 74.31 %\n",
            "\n"
          ]
        }
      ]
    },
    {
      "cell_type": "markdown",
      "source": [
        "All pretty similar. Proceed with imputation using Median."
      ],
      "metadata": {
        "id": "zVRQUmPJnckc"
      }
    },
    {
      "cell_type": "code",
      "source": [
        "strokeDF.age.max()"
      ],
      "metadata": {
        "colab": {
          "base_uri": "https://localhost:8080/"
        },
        "id": "tQx-CRiQp20m",
        "outputId": "d32adf5e-71db-40c1-d44a-3dd99881ceaf"
      },
      "execution_count": null,
      "outputs": [
        {
          "output_type": "execute_result",
          "data": {
            "text/plain": [
              "82.0"
            ]
          },
          "metadata": {},
          "execution_count": 147
        }
      ]
    },
    {
      "cell_type": "code",
      "source": [
        "strokeDF.age.hist(bins=82)"
      ],
      "metadata": {
        "colab": {
          "base_uri": "https://localhost:8080/",
          "height": 282
        },
        "id": "1O-kLpXoWsun",
        "outputId": "0b773dbf-22f2-48c4-e1a0-bb82d6ee4673"
      },
      "execution_count": null,
      "outputs": [
        {
          "output_type": "execute_result",
          "data": {
            "text/plain": [
              "<matplotlib.axes._subplots.AxesSubplot at 0x7eff19f97650>"
            ]
          },
          "metadata": {},
          "execution_count": 148
        },
        {
          "output_type": "display_data",
          "data": {
            "text/plain": [
              "<Figure size 432x288 with 1 Axes>"
            ],
            "image/png": "[encoded data removed]"
          },
          "metadata": {
            "needs_background": "light"
          }
        }
      ]
    },
    {
      "cell_type": "code",
      "source": [
        "strokeDF[strokeDF.age < 10].age.hist(bins=9)"
      ],
      "metadata": {
        "colab": {
          "base_uri": "https://localhost:8080/",
          "height": 282
        },
        "id": "JHQ9gkeon-1Y",
        "outputId": "4b658d6c-263c-4985-fa03-6a15aa850154"
      },
      "execution_count": null,
      "outputs": [
        {
          "output_type": "execute_result",
          "data": {
            "text/plain": [
              "<matplotlib.axes._subplots.AxesSubplot at 0x7eff14cf2990>"
            ]
          },
          "metadata": {},
          "execution_count": 149
        },
        {
          "output_type": "display_data",
          "data": {
            "text/plain": [
              "<Figure size 432x288 with 1 Axes>"
            ],
            "image/png": "[encoded data removed]"
          },
          "metadata": {
            "needs_background": "light"
          }
        }
      ]
    },
    {
      "cell_type": "code",
      "source": [
        "strokeDF[strokeDF.age <= 2]"
      ],
      "metadata": {
        "colab": {
          "base_uri": "https://localhost:8080/",
          "height": 455
        },
        "id": "Gyd-MLnnodQ3",
        "outputId": "fd8eccfe-c4fd-4f3a-c62e-597c11b96398"
      },
      "execution_count": null,
      "outputs": [
        {
          "output_type": "execute_result",
          "data": {
            "text/plain": [
              "       gender   age  hypertension  heart_disease ever_married work_type  \\\n",
              "id                                                                        \n",
              "7559   Female  0.64             0              0           No  children   \n",
              "22706  Female  0.88             0              0           No  children   \n",
              "5010   Female  2.00             0              0           No  children   \n",
              "45238  Female  1.80             0              0           No  children   \n",
              "61511  Female  0.32             0              0           No  children   \n",
              "...       ...   ...           ...            ...          ...       ...   \n",
              "18634  Female  0.72             0              0           No  children   \n",
              "57592    Male  1.72             0              0           No  children   \n",
              "25684    Male  2.00             0              0           No  children   \n",
              "25158  Female  1.40             0              0           No  children   \n",
              "62703    Male  1.72             0              0           No  children   \n",
              "\n",
              "      Residence_type  avg_glucose_level   bmi smoking_status  stroke  \n",
              "id                                                                    \n",
              "7559           Urban              83.82  24.9        unknown       0  \n",
              "22706          Rural              88.11  15.5        unknown       0  \n",
              "5010           Rural              92.48  18.0        unknown       0  \n",
              "45238          Urban              58.26  16.5        unknown       0  \n",
              "61511          Rural              73.71  16.2        unknown       0  \n",
              "...              ...                ...   ...            ...     ...  \n",
              "18634          Urban              87.74  16.6        unknown       0  \n",
              "57592          Urban             107.51  16.0        unknown       0  \n",
              "25684          Rural              75.76  38.0        unknown       0  \n",
              "25158          Rural              82.93  18.4        unknown       0  \n",
              "62703          Rural              81.38  17.8        unknown       0  \n",
              "\n",
              "[1604 rows x 11 columns]"
            ],
            "text/html": [
              "\n",
              "  <div id=\"df-1c8ec949-93a5-4da7-b253-a21d79ed14f2\">\n",
              "    <div class=\"colab-df-container\">\n",
              "      <div>\n",
              "<style scoped>\n",
              "    .dataframe tbody tr th:only-of-type {\n",
              "        vertical-align: middle;\n",
              "    }\n",
              "\n",
              "    .dataframe tbody tr th {\n",
              "        vertical-align: top;\n",
              "    }\n",
              "\n",
              "    .dataframe thead th {\n",
              "        text-align: right;\n",
              "    }\n",
              "</style>\n",
              "<table border=\"1\" class=\"dataframe\">\n",
              "  <thead>\n",
              "    <tr style=\"text-align: right;\">\n",
              "      <th></th>\n",
              "      <th>gender</th>\n",
              "      <th>age</th>\n",
              "      <th>hypertension</th>\n",
              "      <th>heart_disease</th>\n",
              "      <th>ever_married</th>\n",
              "      <th>work_type</th>\n",
              "      <th>Residence_type</th>\n",
              "      <th>avg_glucose_level</th>\n",
              "      <th>bmi</th>\n",
              "      <th>smoking_status</th>\n",
              "      <th>stroke</th>\n",
              "    </tr>\n",
              "    <tr>\n",
              "      <th>id</th>\n",
              "      <th></th>\n",
              "      <th></th>\n",
              "      <th></th>\n",
              "      <th></th>\n",
              "      <th></th>\n",
              "      <th></th>\n",
              "      <th></th>\n",
              "      <th></th>\n",
              "      <th></th>\n",
              "      <th></th>\n",
              "      <th></th>\n",
              "    </tr>\n",
              "  </thead>\n",
              "  <tbody>\n",
              "    <tr>\n",
              "      <th>7559</th>\n",
              "      <td>Female</td>\n",
              "      <td>0.64</td>\n",
              "      <td>0</td>\n",
              "      <td>0</td>\n",
              "      <td>No</td>\n",
              "      <td>children</td>\n",
              "      <td>Urban</td>\n",
              "      <td>83.82</td>\n",
              "      <td>24.9</td>\n",
              "      <td>unknown</td>\n",
              "      <td>0</td>\n",
              "    </tr>\n",
              "    <tr>\n",
              "      <th>22706</th>\n",
              "      <td>Female</td>\n",
              "      <td>0.88</td>\n",
              "      <td>0</td>\n",
              "      <td>0</td>\n",
              "      <td>No</td>\n",
              "      <td>children</td>\n",
              "      <td>Rural</td>\n",
              "      <td>88.11</td>\n",
              "      <td>15.5</td>\n",
              "      <td>unknown</td>\n",
              "      <td>0</td>\n",
              "    </tr>\n",
              "    <tr>\n",
              "      <th>5010</th>\n",
              "      <td>Female</td>\n",
              "      <td>2.00</td>\n",
              "      <td>0</td>\n",
              "      <td>0</td>\n",
              "      <td>No</td>\n",
              "      <td>children</td>\n",
              "      <td>Rural</td>\n",
              "      <td>92.48</td>\n",
              "      <td>18.0</td>\n",
              "      <td>unknown</td>\n",
              "      <td>0</td>\n",
              "    </tr>\n",
              "    <tr>\n",
              "      <th>45238</th>\n",
              "      <td>Female</td>\n",
              "      <td>1.80</td>\n",
              "      <td>0</td>\n",
              "      <td>0</td>\n",
              "      <td>No</td>\n",
              "      <td>children</td>\n",
              "      <td>Urban</td>\n",
              "      <td>58.26</td>\n",
              "      <td>16.5</td>\n",
              "      <td>unknown</td>\n",
              "      <td>0</td>\n",
              "    </tr>\n",
              "    <tr>\n",
              "      <th>61511</th>\n",
              "      <td>Female</td>\n",
              "      <td>0.32</td>\n",
              "      <td>0</td>\n",
              "      <td>0</td>\n",
              "      <td>No</td>\n",
              "      <td>children</td>\n",
              "      <td>Rural</td>\n",
              "      <td>73.71</td>\n",
              "      <td>16.2</td>\n",
              "      <td>unknown</td>\n",
              "      <td>0</td>\n",
              "    </tr>\n",
              "    <tr>\n",
              "      <th>...</th>\n",
              "      <td>...</td>\n",
              "      <td>...</td>\n",
              "      <td>...</td>\n",
              "      <td>...</td>\n",
              "      <td>...</td>\n",
              "      <td>...</td>\n",
              "      <td>...</td>\n",
              "      <td>...</td>\n",
              "      <td>...</td>\n",
              "      <td>...</td>\n",
              "      <td>...</td>\n",
              "    </tr>\n",
              "    <tr>\n",
              "      <th>18634</th>\n",
              "      <td>Female</td>\n",
              "      <td>0.72</td>\n",
              "      <td>0</td>\n",
              "      <td>0</td>\n",
              "      <td>No</td>\n",
              "      <td>children</td>\n",
              "      <td>Urban</td>\n",
              "      <td>87.74</td>\n",
              "      <td>16.6</td>\n",
              "      <td>unknown</td>\n",
              "      <td>0</td>\n",
              "    </tr>\n",
              "    <tr>\n",
              "      <th>57592</th>\n",
              "      <td>Male</td>\n",
              "      <td>1.72</td>\n",
              "      <td>0</td>\n",
              "      <td>0</td>\n",
              "      <td>No</td>\n",
              "      <td>children</td>\n",
              "      <td>Urban</td>\n",
              "      <td>107.51</td>\n",
              "      <td>16.0</td>\n",
              "      <td>unknown</td>\n",
              "      <td>0</td>\n",
              "    </tr>\n",
              "    <tr>\n",
              "      <th>25684</th>\n",
              "      <td>Male</td>\n",
              "      <td>2.00</td>\n",
              "      <td>0</td>\n",
              "      <td>0</td>\n",
              "      <td>No</td>\n",
              "      <td>children</td>\n",
              "      <td>Rural</td>\n",
              "      <td>75.76</td>\n",
              "      <td>38.0</td>\n",
              "      <td>unknown</td>\n",
              "      <td>0</td>\n",
              "    </tr>\n",
              "    <tr>\n",
              "      <th>25158</th>\n",
              "      <td>Female</td>\n",
              "      <td>1.40</td>\n",
              "      <td>0</td>\n",
              "      <td>0</td>\n",
              "      <td>No</td>\n",
              "      <td>children</td>\n",
              "      <td>Rural</td>\n",
              "      <td>82.93</td>\n",
              "      <td>18.4</td>\n",
              "      <td>unknown</td>\n",
              "      <td>0</td>\n",
              "    </tr>\n",
              "    <tr>\n",
              "      <th>62703</th>\n",
              "      <td>Male</td>\n",
              "      <td>1.72</td>\n",
              "      <td>0</td>\n",
              "      <td>0</td>\n",
              "      <td>No</td>\n",
              "      <td>children</td>\n",
              "      <td>Rural</td>\n",
              "      <td>81.38</td>\n",
              "      <td>17.8</td>\n",
              "      <td>unknown</td>\n",
              "      <td>0</td>\n",
              "    </tr>\n",
              "  </tbody>\n",
              "</table>\n",
              "<p>1604 rows × 11 columns</p>\n",
              "</div>\n",
              "      <button class=\"colab-df-convert\" onclick=\"convertToInteractive('df-1c8ec949-93a5-4da7-b253-a21d79ed14f2')\"\n",
              "              title=\"Convert this dataframe to an interactive table.\"\n",
              "              style=\"display:none;\">\n",
              "        \n",
              "  <svg xmlns=\"http://www.w3.org/2000/svg\" height=\"24px\"viewBox=\"0 0 24 24\"\n",
              "       width=\"24px\">\n",
              "    <path d=\"M0 0h24v24H0V0z\" fill=\"none\"/>\n",
              "    <path d=\"M18.56 5.44l.94 2.06.94-2.06 2.06-.94-2.06-.94-.94-2.06-.94 2.06-2.06.94zm-11 1L8.5 8.5l.94-2.06 2.06-.94-2.06-.94L8.5 2.5l-.94 2.06-2.06.94zm10 10l.94 2.06.94-2.06 2.06-.94-2.06-.94-.94-2.06-.94 2.06-2.06.94z\"/><path d=\"M17.41 7.96l-1.37-1.37c-.4-.4-.92-.59-1.43-.59-.52 0-1.04.2-1.43.59L10.3 9.45l-7.72 7.72c-.78.78-.78 2.05 0 2.83L4 21.41c.39.39.9.59 1.41.59.51 0 1.02-.2 1.41-.59l7.78-7.78 2.81-2.81c.8-.78.8-2.07 0-2.86zM5.41 20L4 18.59l7.72-7.72 1.47 1.35L5.41 20z\"/>\n",
              "  </svg>\n",
              "      </button>\n",
              "      \n",
              "  <style>\n",
              "    .colab-df-container {\n",
              "      display:flex;\n",
              "      flex-wrap:wrap;\n",
              "      gap: 12px;\n",
              "    }\n",
              "\n",
              "    .colab-df-convert {\n",
              "      background-color: #E8F0FE;\n",
              "      border: none;\n",
              "      border-radius: 50%;\n",
              "      cursor: pointer;\n",
              "      display: none;\n",
              "      fill: #1967D2;\n",
              "      height: 32px;\n",
              "      padding: 0 0 0 0;\n",
              "      width: 32px;\n",
              "    }\n",
              "\n",
              "    .colab-df-convert:hover {\n",
              "      background-color: #E2EBFA;\n",
              "      box-shadow: 0px 1px 2px rgba(60, 64, 67, 0.3), 0px 1px 3px 1px rgba(60, 64, 67, 0.15);\n",
              "      fill: #174EA6;\n",
              "    }\n",
              "\n",
              "    [theme=dark] .colab-df-convert {\n",
              "      background-color: #3B4455;\n",
              "      fill: #D2E3FC;\n",
              "    }\n",
              "\n",
              "    [theme=dark] .colab-df-convert:hover {\n",
              "      background-color: #434B5C;\n",
              "      box-shadow: 0px 1px 3px 1px rgba(0, 0, 0, 0.15);\n",
              "      filter: drop-shadow(0px 1px 2px rgba(0, 0, 0, 0.3));\n",
              "      fill: #FFFFFF;\n",
              "    }\n",
              "  </style>\n",
              "\n",
              "      <script>\n",
              "        const buttonEl =\n",
              "          document.querySelector('#df-1c8ec949-93a5-4da7-b253-a21d79ed14f2 button.colab-df-convert');\n",
              "        buttonEl.style.display =\n",
              "          google.colab.kernel.accessAllowed ? 'block' : 'none';\n",
              "\n",
              "        async function convertToInteractive(key) {\n",
              "          const element = document.querySelector('#df-1c8ec949-93a5-4da7-b253-a21d79ed14f2');\n",
              "          const dataTable =\n",
              "            await google.colab.kernel.invokeFunction('convertToInteractive',\n",
              "                                                     [key], {});\n",
              "          if (!dataTable) return;\n",
              "\n",
              "          const docLinkHtml = 'Like what you see? Visit the ' +\n",
              "            '<a target=\"_blank\" href=https://colab.research.google.com/notebooks/data_table.ipynb>data table notebook</a>'\n",
              "            + ' to learn more about interactive tables.';\n",
              "          element.innerHTML = '';\n",
              "          dataTable['output_type'] = 'display_data';\n",
              "          await google.colab.output.renderOutput(dataTable, element);\n",
              "          const docLink = document.createElement('div');\n",
              "          docLink.innerHTML = docLinkHtml;\n",
              "          element.appendChild(docLink);\n",
              "        }\n",
              "      </script>\n",
              "    </div>\n",
              "  </div>\n",
              "  "
            ]
          },
          "metadata": {},
          "execution_count": 150
        }
      ]
    },
    {
      "cell_type": "code",
      "source": [
        "strokeDF[strokeDF.stroke == 1].age.hist(bins=82)"
      ],
      "metadata": {
        "colab": {
          "base_uri": "https://localhost:8080/",
          "height": 282
        },
        "id": "_-qyP1pkqEsJ",
        "outputId": "cabb7656-0ba3-4656-f400-5c580a874baf"
      },
      "execution_count": null,
      "outputs": [
        {
          "output_type": "execute_result",
          "data": {
            "text/plain": [
              "<matplotlib.axes._subplots.AxesSubplot at 0x7eff19b3a0d0>"
            ]
          },
          "metadata": {},
          "execution_count": 151
        },
        {
          "output_type": "display_data",
          "data": {
            "text/plain": [
              "<Figure size 432x288 with 1 Axes>"
            ],
            "image/png": "[encoded data removed]"
          },
          "metadata": {
            "needs_background": "light"
          }
        }
      ]
    },
    {
      "cell_type": "code",
      "source": [
        "temp = strokeDF[strokeDF.stroke == 1]"
      ],
      "metadata": {
        "id": "poxymqiTqMbx"
      },
      "execution_count": null,
      "outputs": []
    },
    {
      "cell_type": "code",
      "source": [
        "temp[temp.age < 30]"
      ],
      "metadata": {
        "colab": {
          "base_uri": "https://localhost:8080/",
          "height": 206
        },
        "id": "oOHu4Nbeqj74",
        "outputId": "b29650d7-8dcf-4e60-c683-fc5038addb74"
      },
      "execution_count": null,
      "outputs": [
        {
          "output_type": "execute_result",
          "data": {
            "text/plain": [
              "       gender    age  hypertension  heart_disease ever_married work_type  \\\n",
              "id                                                                         \n",
              "69768  Female   1.32             0              0           No  children   \n",
              "49669  Female  14.00             0              0           No  children   \n",
              "71866    Male  21.00             0              0           No   Private   \n",
              "38112    Male  29.00             0              0          Yes   Private   \n",
              "\n",
              "      Residence_type  avg_glucose_level   bmi smoking_status  stroke  \n",
              "id                                                                    \n",
              "69768          Urban              70.37   NaN        unknown       1  \n",
              "49669          Rural              57.93  30.9        unknown       1  \n",
              "71866          Rural              67.42  25.7          never       1  \n",
              "38112          Rural              60.72   NaN         former       1  "
            ],
            "text/html": [
              "\n",
              "  <div id=\"df-7c98282a-fe9b-47fc-b873-09c6284590ef\">\n",
              "    <div class=\"colab-df-container\">\n",
              "      <div>\n",
              "<style scoped>\n",
              "    .dataframe tbody tr th:only-of-type {\n",
              "        vertical-align: middle;\n",
              "    }\n",
              "\n",
              "    .dataframe tbody tr th {\n",
              "        vertical-align: top;\n",
              "    }\n",
              "\n",
              "    .dataframe thead th {\n",
              "        text-align: right;\n",
              "    }\n",
              "</style>\n",
              "<table border=\"1\" class=\"dataframe\">\n",
              "  <thead>\n",
              "    <tr style=\"text-align: right;\">\n",
              "      <th></th>\n",
              "      <th>gender</th>\n",
              "      <th>age</th>\n",
              "      <th>hypertension</th>\n",
              "      <th>heart_disease</th>\n",
              "      <th>ever_married</th>\n",
              "      <th>work_type</th>\n",
              "      <th>Residence_type</th>\n",
              "      <th>avg_glucose_level</th>\n",
              "      <th>bmi</th>\n",
              "      <th>smoking_status</th>\n",
              "      <th>stroke</th>\n",
              "    </tr>\n",
              "    <tr>\n",
              "      <th>id</th>\n",
              "      <th></th>\n",
              "      <th></th>\n",
              "      <th></th>\n",
              "      <th></th>\n",
              "      <th></th>\n",
              "      <th></th>\n",
              "      <th></th>\n",
              "      <th></th>\n",
              "      <th></th>\n",
              "      <th></th>\n",
              "      <th></th>\n",
              "    </tr>\n",
              "  </thead>\n",
              "  <tbody>\n",
              "    <tr>\n",
              "      <th>69768</th>\n",
              "      <td>Female</td>\n",
              "      <td>1.32</td>\n",
              "      <td>0</td>\n",
              "      <td>0</td>\n",
              "      <td>No</td>\n",
              "      <td>children</td>\n",
              "      <td>Urban</td>\n",
              "      <td>70.37</td>\n",
              "      <td>NaN</td>\n",
              "      <td>unknown</td>\n",
              "      <td>1</td>\n",
              "    </tr>\n",
              "    <tr>\n",
              "      <th>49669</th>\n",
              "      <td>Female</td>\n",
              "      <td>14.00</td>\n",
              "      <td>0</td>\n",
              "      <td>0</td>\n",
              "      <td>No</td>\n",
              "      <td>children</td>\n",
              "      <td>Rural</td>\n",
              "      <td>57.93</td>\n",
              "      <td>30.9</td>\n",
              "      <td>unknown</td>\n",
              "      <td>1</td>\n",
              "    </tr>\n",
              "    <tr>\n",
              "      <th>71866</th>\n",
              "      <td>Male</td>\n",
              "      <td>21.00</td>\n",
              "      <td>0</td>\n",
              "      <td>0</td>\n",
              "      <td>No</td>\n",
              "      <td>Private</td>\n",
              "      <td>Rural</td>\n",
              "      <td>67.42</td>\n",
              "      <td>25.7</td>\n",
              "      <td>never</td>\n",
              "      <td>1</td>\n",
              "    </tr>\n",
              "    <tr>\n",
              "      <th>38112</th>\n",
              "      <td>Male</td>\n",
              "      <td>29.00</td>\n",
              "      <td>0</td>\n",
              "      <td>0</td>\n",
              "      <td>Yes</td>\n",
              "      <td>Private</td>\n",
              "      <td>Rural</td>\n",
              "      <td>60.72</td>\n",
              "      <td>NaN</td>\n",
              "      <td>former</td>\n",
              "      <td>1</td>\n",
              "    </tr>\n",
              "  </tbody>\n",
              "</table>\n",
              "</div>\n",
              "      <button class=\"colab-df-convert\" onclick=\"convertToInteractive('df-7c98282a-fe9b-47fc-b873-09c6284590ef')\"\n",
              "              title=\"Convert this dataframe to an interactive table.\"\n",
              "              style=\"display:none;\">\n",
              "        \n",
              "  <svg xmlns=\"http://www.w3.org/2000/svg\" height=\"24px\"viewBox=\"0 0 24 24\"\n",
              "       width=\"24px\">\n",
              "    <path d=\"M0 0h24v24H0V0z\" fill=\"none\"/>\n",
              "    <path d=\"M18.56 5.44l.94 2.06.94-2.06 2.06-.94-2.06-.94-.94-2.06-.94 2.06-2.06.94zm-11 1L8.5 8.5l.94-2.06 2.06-.94-2.06-.94L8.5 2.5l-.94 2.06-2.06.94zm10 10l.94 2.06.94-2.06 2.06-.94-2.06-.94-.94-2.06-.94 2.06-2.06.94z\"/><path d=\"M17.41 7.96l-1.37-1.37c-.4-.4-.92-.59-1.43-.59-.52 0-1.04.2-1.43.59L10.3 9.45l-7.72 7.72c-.78.78-.78 2.05 0 2.83L4 21.41c.39.39.9.59 1.41.59.51 0 1.02-.2 1.41-.59l7.78-7.78 2.81-2.81c.8-.78.8-2.07 0-2.86zM5.41 20L4 18.59l7.72-7.72 1.47 1.35L5.41 20z\"/>\n",
              "  </svg>\n",
              "      </button>\n",
              "      \n",
              "  <style>\n",
              "    .colab-df-container {\n",
              "      display:flex;\n",
              "      flex-wrap:wrap;\n",
              "      gap: 12px;\n",
              "    }\n",
              "\n",
              "    .colab-df-convert {\n",
              "      background-color: #E8F0FE;\n",
              "      border: none;\n",
              "      border-radius: 50%;\n",
              "      cursor: pointer;\n",
              "      display: none;\n",
              "      fill: #1967D2;\n",
              "      height: 32px;\n",
              "      padding: 0 0 0 0;\n",
              "      width: 32px;\n",
              "    }\n",
              "\n",
              "    .colab-df-convert:hover {\n",
              "      background-color: #E2EBFA;\n",
              "      box-shadow: 0px 1px 2px rgba(60, 64, 67, 0.3), 0px 1px 3px 1px rgba(60, 64, 67, 0.15);\n",
              "      fill: #174EA6;\n",
              "    }\n",
              "\n",
              "    [theme=dark] .colab-df-convert {\n",
              "      background-color: #3B4455;\n",
              "      fill: #D2E3FC;\n",
              "    }\n",
              "\n",
              "    [theme=dark] .colab-df-convert:hover {\n",
              "      background-color: #434B5C;\n",
              "      box-shadow: 0px 1px 3px 1px rgba(0, 0, 0, 0.15);\n",
              "      filter: drop-shadow(0px 1px 2px rgba(0, 0, 0, 0.3));\n",
              "      fill: #FFFFFF;\n",
              "    }\n",
              "  </style>\n",
              "\n",
              "      <script>\n",
              "        const buttonEl =\n",
              "          document.querySelector('#df-7c98282a-fe9b-47fc-b873-09c6284590ef button.colab-df-convert');\n",
              "        buttonEl.style.display =\n",
              "          google.colab.kernel.accessAllowed ? 'block' : 'none';\n",
              "\n",
              "        async function convertToInteractive(key) {\n",
              "          const element = document.querySelector('#df-7c98282a-fe9b-47fc-b873-09c6284590ef');\n",
              "          const dataTable =\n",
              "            await google.colab.kernel.invokeFunction('convertToInteractive',\n",
              "                                                     [key], {});\n",
              "          if (!dataTable) return;\n",
              "\n",
              "          const docLinkHtml = 'Like what you see? Visit the ' +\n",
              "            '<a target=\"_blank\" href=https://colab.research.google.com/notebooks/data_table.ipynb>data table notebook</a>'\n",
              "            + ' to learn more about interactive tables.';\n",
              "          element.innerHTML = '';\n",
              "          dataTable['output_type'] = 'display_data';\n",
              "          await google.colab.output.renderOutput(dataTable, element);\n",
              "          const docLink = document.createElement('div');\n",
              "          docLink.innerHTML = docLinkHtml;\n",
              "          element.appendChild(docLink);\n",
              "        }\n",
              "      </script>\n",
              "    </div>\n",
              "  </div>\n",
              "  "
            ]
          },
          "metadata": {},
          "execution_count": 153
        }
      ]
    },
    {
      "cell_type": "code",
      "source": [
        "len(temp[temp.age < 40])"
      ],
      "metadata": {
        "colab": {
          "base_uri": "https://localhost:8080/"
        },
        "id": "MIvISdJLqvng",
        "outputId": "ae934ede-8c45-44c2-b818-eccc3742020c"
      },
      "execution_count": null,
      "outputs": [
        {
          "output_type": "execute_result",
          "data": {
            "text/plain": [
              "24"
            ]
          },
          "metadata": {},
          "execution_count": 154
        }
      ]
    },
    {
      "cell_type": "code",
      "source": [
        "4/40000*100"
      ],
      "metadata": {
        "colab": {
          "base_uri": "https://localhost:8080/"
        },
        "id": "UUY-sK_cq9-w",
        "outputId": "833974e7-6dc4-42d1-a1d4-8373a9000efc"
      },
      "execution_count": null,
      "outputs": [
        {
          "output_type": "execute_result",
          "data": {
            "text/plain": [
              "0.01"
            ]
          },
          "metadata": {},
          "execution_count": 155
        }
      ]
    },
    {
      "cell_type": "code",
      "source": [
        "len(strokeDF[strokeDF.age < 30])"
      ],
      "metadata": {
        "colab": {
          "base_uri": "https://localhost:8080/"
        },
        "id": "8vxW2gBNrTh5",
        "outputId": "52e9dbc5-eaf1-4d7a-9804-6ab7b4b9cba6"
      },
      "execution_count": null,
      "outputs": [
        {
          "output_type": "execute_result",
          "data": {
            "text/plain": [
              "13706"
            ]
          },
          "metadata": {},
          "execution_count": 156
        }
      ]
    },
    {
      "cell_type": "code",
      "source": [
        "13706/(len(strokeDF))*100"
      ],
      "metadata": {
        "colab": {
          "base_uri": "https://localhost:8080/"
        },
        "id": "kHAHmwjBrZgV",
        "outputId": "1ee7c95b-f194-4e3f-c509-40d35643d231"
      },
      "execution_count": null,
      "outputs": [
        {
          "output_type": "execute_result",
          "data": {
            "text/plain": [
              "31.588651501532645"
            ]
          },
          "metadata": {},
          "execution_count": 157
        }
      ]
    },
    {
      "cell_type": "markdown",
      "source": [
        "## only > 30"
      ],
      "metadata": {
        "id": "vw2ufMectAsg"
      }
    },
    {
      "cell_type": "markdown",
      "source": [
        "Lets see if removing the under 30 crowd helps with accuracy:"
      ],
      "metadata": {
        "id": "bAcE7d5nsXQD"
      }
    },
    {
      "cell_type": "code",
      "source": [
        "noYoung = strokeDF[strokeDF.age > 30]"
      ],
      "metadata": {
        "id": "KIHCVRzxrdMw"
      },
      "execution_count": null,
      "outputs": []
    },
    {
      "cell_type": "code",
      "source": [
        "noYoung.bmi = noYoung.bmi.fillna(noYoung.bmi.median())"
      ],
      "metadata": {
        "colab": {
          "base_uri": "https://localhost:8080/"
        },
        "id": "GAFLZx5rsoer",
        "outputId": "e00898a5-bb14-4f01-b800-5c837603322a"
      },
      "execution_count": null,
      "outputs": [
        {
          "output_type": "stream",
          "name": "stderr",
          "text": [
            "/usr/local/lib/python3.7/dist-packages/pandas/core/generic.py:5516: SettingWithCopyWarning: \n",
            "A value is trying to be set on a copy of a slice from a DataFrame.\n",
            "Try using .loc[row_indexer,col_indexer] = value instead\n",
            "\n",
            "See the caveats in the documentation: https://pandas.pydata.org/pandas-docs/stable/user_guide/indexing.html#returning-a-view-versus-a-copy\n",
            "  self[name] = value\n"
          ]
        }
      ]
    },
    {
      "cell_type": "code",
      "source": [
        "compare_lr_accuracy(noYoung)"
      ],
      "metadata": {
        "colab": {
          "base_uri": "https://localhost:8080/"
        },
        "id": "AAfQBXHGtKu7",
        "outputId": "8c79f9e8-c51c-4b04-d941-38c185282b93"
      },
      "execution_count": null,
      "outputs": [
        {
          "output_type": "stream",
          "name": "stderr",
          "text": [
            "/usr/local/lib/python3.7/dist-packages/pandas/core/generic.py:6619: SettingWithCopyWarning: \n",
            "A value is trying to be set on a copy of a slice from a DataFrame\n",
            "\n",
            "See the caveats in the documentation: https://pandas.pydata.org/pandas-docs/stable/user_guide/indexing.html#returning-a-view-versus-a-copy\n",
            "  return self._update_inplace(result)\n"
          ]
        },
        {
          "output_type": "stream",
          "name": "stdout",
          "text": [
            " Accuracy 70.96 %\n",
            "\n"
          ]
        }
      ]
    },
    {
      "cell_type": "markdown",
      "source": [
        "Mild improvement there. I think I'll keep it"
      ],
      "metadata": {
        "id": "YeZ8shPVtWts"
      }
    },
    {
      "cell_type": "markdown",
      "source": [
        "## Transform 'age', 'avg_glucose_level', and 'bmi'"
      ],
      "metadata": {
        "id": "KDpdzTiavpb5"
      }
    },
    {
      "cell_type": "code",
      "source": [
        "DF = noYoung.copy()"
      ],
      "metadata": {
        "id": "IKuRKK9-tVxu"
      },
      "execution_count": null,
      "outputs": []
    },
    {
      "cell_type": "code",
      "source": [
        "  ## ENCODE BINARY VALUES\n",
        "  # encode Yes/No to 1/0\n",
        "  DF.ever_married.replace(['Yes', 'No'], [1, 0], inplace=True)\n",
        "  # encode gender to 1/0\n",
        "  DF.gender.replace(['Male', 'Female'], [1, 0], inplace=True)\n",
        "  # encode Urban/Rural to 1/0\n",
        "  DF.Residence_type.replace(['Rural', 'Urban'], [1, 0], inplace=True)\n",
        "  \n",
        "  ## ONE HOT ENCODE CATEGORICAL VALUES\n",
        "  # one hot encode remaining categorical variables\n",
        "  transformer = make_column_transformer(\n",
        "      (OneHotEncoder(), ['work_type', 'smoking_status']), \n",
        "      remainder='passthrough')\n",
        "  transformed = transformer.fit_transform(DF)\n",
        "  DF = pd.DataFrame(transformed, columns=transformer.get_feature_names_out(), \n",
        "                    index=DF.index) # fix index that was reset"
      ],
      "metadata": {
        "id": "_PZgJXX624Lc"
      },
      "execution_count": null,
      "outputs": []
    },
    {
      "cell_type": "code",
      "source": [
        "# DF.columns"
      ],
      "metadata": {
        "id": "8uLg77sA2-Pi"
      },
      "execution_count": null,
      "outputs": []
    },
    {
      "cell_type": "markdown",
      "source": [
        "### Compare imputation methods"
      ],
      "metadata": {
        "id": "2HPNlScSaqFx"
      }
    },
    {
      "cell_type": "code",
      "source": [
        "# methods = [bmiLR, bmiAvg, bmiMed]\n",
        "DF = bmiMed.copy()"
      ],
      "metadata": {
        "id": "r5RkNQ0GZVMW"
      },
      "execution_count": null,
      "outputs": []
    },
    {
      "cell_type": "code",
      "source": [
        "  ## ONE HOT ENCODE CATEGORICAL VALUES\n",
        "  # one hot encode remaining categorical variables\n",
        "  transformer = make_column_transformer(\n",
        "      (OneHotEncoder(), ['work_type', 'smoking_status']), \n",
        "      remainder='passthrough')\n",
        "  transformed = transformer.fit_transform(DF)\n",
        "  DF = pd.DataFrame(transformed, columns=transformer.get_feature_names_out(), \n",
        "                    index=DF.index) # fix index that was reset"
      ],
      "metadata": {
        "id": "LfUFI6feZgo4"
      },
      "execution_count": null,
      "outputs": []
    },
    {
      "cell_type": "code",
      "source": [
        "rename_cols = {'remainder__gender': 'gender',\n",
        "               'remainder__age': 'age', \n",
        "               'remainder__hypertension': 'hypertension',\n",
        "               'remainder__heart_disease': 'heart_disease',\n",
        "               'remainder__avg_glucose_level': 'avg_glucose_level',\n",
        "               'remainder__bmi': 'bmi',\n",
        "               'remainder__stroke': 'stroke'}\n",
        "\n",
        "DF.rename(columns=rename_cols, inplace=True)"
      ],
      "metadata": {
        "id": "HTIjd2OP3LtF"
      },
      "execution_count": null,
      "outputs": []
    },
    {
      "cell_type": "markdown",
      "source": [
        "Note: No MinMax scaling required b/c all values are > 0:"
      ],
      "metadata": {
        "id": "A4U_UyQ8vNmt"
      }
    },
    {
      "cell_type": "code",
      "source": [
        "## SEPARATE DATA FROM TARGET\n",
        "X, y = DF.iloc[:,:-1], DF.iloc[:,-1]\n",
        "\n",
        "## SPLIT TRAINING AND TEST SETS\n",
        "X_train, X_test, y_train, y_test = train_test_split(\n",
        "  X, y, test_size=0.33, random_state=42)"
      ],
      "metadata": {
        "id": "wcp6X8vQvaoy"
      },
      "execution_count": null,
      "outputs": []
    },
    {
      "cell_type": "code",
      "source": [
        "# Look at distributions pre-transformation\n",
        "# dataset = pd.DataFrame(df, columns=df.columns[:-1])\n",
        "X_train.hist()\n",
        "plt.show()"
      ],
      "metadata": {
        "colab": {
          "base_uri": "https://localhost:8080/",
          "height": 281
        },
        "id": "mCk1zckitRog",
        "outputId": "72924840-726f-48cb-da4d-2d596da8aa39"
      },
      "execution_count": null,
      "outputs": [
        {
          "output_type": "display_data",
          "data": {
            "text/plain": [
              "<Figure size 432x288 with 20 Axes>"
            ],
            "image/png": "[encoded data removed]"
          },
          "metadata": {
            "needs_background": "light"
          }
        }
      ]
    },
    {
      "cell_type": "code",
      "source": [
        "# from sklearn.preprocessing import PowerTransformer\n",
        "# power = PowerTransformer(method='box-cox')"
      ],
      "metadata": {
        "id": "tH4y__dky6CX"
      },
      "execution_count": null,
      "outputs": []
    },
    {
      "cell_type": "code",
      "source": [
        "from sklearn.preprocessing import PowerTransformer\n",
        "from sklearn.preprocessing import MinMaxScaler\n",
        "from sklearn.pipeline import Pipeline\n",
        "\n",
        "## Transform features:\n",
        "\n",
        "# define the pipeline\n",
        "power = PowerTransformer(method='box-cox')\n",
        "# scaler = MinMaxScaler(feature_range=(0, 1))\n",
        "pipeline = Pipeline(steps=[('p', power)])\n",
        "\n",
        "# # define the pipeline\n",
        "# power = PowerTransformer(method='box-cox')\n",
        "# scaler = MinMaxScaler(feature_range=(0, 1))\n",
        "# pipeline = Pipeline(steps=[('p', power), ('s', scaler)])\n",
        "\n",
        "# # data = pipeline.fit_transform(data)\n",
        "# X_train.age = pipeline.fit_transform(X_train_raw)\n",
        "# X_test = pipeline.transform(X_test_raw)"
      ],
      "metadata": {
        "id": "9AzwJzbxu_pn"
      },
      "execution_count": null,
      "outputs": []
    },
    {
      "cell_type": "code",
      "source": [
        "cols_to_transform = ['age', 'avg_glucose_level', 'bmi']\n",
        "\n",
        "for i in cols_to_transform:\n",
        "  X_train[i] = pipeline.fit_transform(X_train[i].values.reshape(-1,1))\n",
        "  X_test[i] = pipeline.transform(X_test[i].values.reshape(-1,1))"
      ],
      "metadata": {
        "id": "Lx5lU1XFy-Jc"
      },
      "execution_count": null,
      "outputs": []
    },
    {
      "cell_type": "code",
      "source": [
        "# from sklearn.preprocessing import StandardScaler\n",
        "# scaler = StandardScaler()\n",
        "# X_train = scaler.fit_transform(X_train)\n",
        "# X_test = scaler.transform(X_test)\n",
        "# # scaler.fit_transform(X_train.values.reshape(-1, 1))"
      ],
      "metadata": {
        "id": "mHFSJpDu8NcW"
      },
      "execution_count": null,
      "outputs": []
    },
    {
      "cell_type": "code",
      "source": [
        "from sklearn.preprocessing import MinMaxScaler\n",
        "scaler = MinMaxScaler(feature_range=(-1, 1))\n",
        "X_train = scaler.fit_transform(X_train)\n",
        "X_test = scaler.transform(X_test)\n",
        "# scaler.fit_transform(X_train.values.reshape(-1, 1))"
      ],
      "metadata": {
        "id": "LgFfWeva99oM"
      },
      "execution_count": null,
      "outputs": []
    },
    {
      "cell_type": "code",
      "source": [
        "# X_train.columns"
      ],
      "metadata": {
        "id": "2wF4nNXDyAav"
      },
      "execution_count": null,
      "outputs": []
    },
    {
      "cell_type": "code",
      "source": [
        "# from sklearn.compose import ColumnTransformer\n",
        "# from sklearn.preprocessing import PowerTransformer\n",
        "\n",
        "# ct = ColumnTransformer(\n",
        "#     [(\"bc1\", PowerTransformer(method='box-cox'), ['age']),\n",
        "#      (\"bc2\", PowerTransformer(method='box-cox'), ['avg_glucose_level']),\n",
        "#      (\"bc3\", PowerTransformer(method='box-cox'), ['bmi'])])\n",
        "\n",
        "# temp = ct.fit_transform(X_train)"
      ],
      "metadata": {
        "id": "sXyazHTqwjkm"
      },
      "execution_count": null,
      "outputs": []
    },
    {
      "cell_type": "code",
      "source": [
        "# X_train.age = temp[:,0]\n",
        "# X_train.avg_glucose_level = temp[:,1]\n",
        "# X_train.bmi = temp[:,2]"
      ],
      "metadata": {
        "id": "LdA4kgtMyWFu"
      },
      "execution_count": null,
      "outputs": []
    },
    {
      "cell_type": "code",
      "source": [
        "# Look at distributions pre-transformation\n",
        "dataset = pd.DataFrame(X_train, columns=DF.columns[:-1])\n",
        "dataset.hist(figsize=(10,10))\n",
        "plt.show()"
      ],
      "metadata": {
        "colab": {
          "base_uri": "https://localhost:8080/",
          "height": 607
        },
        "id": "LYTUv2Y4xoEZ",
        "outputId": "c3c6b407-644c-419f-8cf9-d85e01590103"
      },
      "execution_count": null,
      "outputs": [
        {
          "output_type": "display_data",
          "data": {
            "text/plain": [
              "<Figure size 720x720 with 20 Axes>"
            ],
            "image/png": "[encoded data removed]"
          },
          "metadata": {
            "needs_background": "light"
          }
        }
      ]
    },
    {
      "cell_type": "markdown",
      "source": [
        "Check accuracy w/scaled/transformed data"
      ],
      "metadata": {
        "id": "FGVqk6Pw2hgj"
      }
    },
    {
      "cell_type": "code",
      "source": [
        "  ## BALANCE BASED ON TARGET (STROKE)\n",
        "  # define oversampling strategy\n",
        "  oversample = RandomOverSampler(sampling_strategy='minority', random_state=42)\n",
        "  # fit and apply the transform\n",
        "  X_over, y_over = oversample.fit_resample(X_train, y_train)\n",
        "\n",
        "  ## SET UP AND FIT LOG REG MODEL\n",
        "  lr = LogisticRegression(solver='liblinear')\n",
        "  lr.fit(X_over, y_over)\n",
        "\n",
        "  ## GENERATE PREDICTONS AND DISPLAY MODEL ACCURACY\n",
        "  pred = lr.predict(X_test)\n",
        "  score = metrics.accuracy_score(pred, y_test)\n",
        "  print(f' Accuracy {round(score*100, 2)} %\\n')"
      ],
      "metadata": {
        "colab": {
          "base_uri": "https://localhost:8080/"
        },
        "id": "IY9j7I1Qu_ga",
        "outputId": "655b5557-3258-4148-bcaf-376e8b014a99"
      },
      "execution_count": null,
      "outputs": [
        {
          "output_type": "stream",
          "name": "stdout",
          "text": [
            " Accuracy 73.69 %\n",
            "\n"
          ]
        }
      ]
    },
    {
      "cell_type": "markdown",
      "source": [
        "Hmm... 69.85% that's worse.Maybe rescaling isn't ideal for LogReg? Let me try -1 to 1 scaling  \n",
        "69.59% but only those 3 were scaled -1 to 1. Lemme try all -1 to 1  \n",
        "69.66% with all scaled -1 to 1\n",
        "StandardScaler: 69.52%  \n",
        "\n",
        "Ugh, maybe leave unscaled?"
      ],
      "metadata": {
        "id": "BfJh8jyp4DvR"
      }
    },
    {
      "cell_type": "code",
      "source": [
        "len(X_train) + len(X_test)"
      ],
      "metadata": {
        "colab": {
          "base_uri": "https://localhost:8080/"
        },
        "id": "vQkVJSNXu_Xq",
        "outputId": "366725e4-171a-4d3a-e5d6-63fa596168b0"
      },
      "execution_count": null,
      "outputs": [
        {
          "output_type": "execute_result",
          "data": {
            "text/plain": [
              "43389"
            ]
          },
          "metadata": {},
          "execution_count": 179
        }
      ]
    },
    {
      "cell_type": "code",
      "source": [
        "y_test.sum()"
      ],
      "metadata": {
        "id": "B6jnlpNj_nXs",
        "colab": {
          "base_uri": "https://localhost:8080/"
        },
        "outputId": "b694f0fe-6f0d-4fe4-d300-19c5e1b82554"
      },
      "execution_count": null,
      "outputs": [
        {
          "output_type": "execute_result",
          "data": {
            "text/plain": [
              "251.0"
            ]
          },
          "metadata": {},
          "execution_count": 180
        }
      ]
    },
    {
      "cell_type": "markdown",
      "source": [
        "# [Compare Classification Methods](https://scikit-learn.org/stable/auto_examples/classification/plot_classifier_comparison.html)"
      ],
      "metadata": {
        "id": "837dg7v5trcj"
      }
    },
    {
      "cell_type": "code",
      "source": [
        "from sklearn.neural_network import MLPClassifier\n",
        "from sklearn.neighbors import KNeighborsClassifier\n",
        "from sklearn.svm import SVC\n",
        "from sklearn.gaussian_process import GaussianProcessClassifier\n",
        "from sklearn.gaussian_process.kernels import RBF\n",
        "from sklearn.tree import DecisionTreeClassifier\n",
        "from sklearn.ensemble import RandomForestClassifier, AdaBoostClassifier\n",
        "from sklearn.naive_bayes import GaussianNB"
      ],
      "metadata": {
        "id": "JAdvALIgtv24"
      },
      "execution_count": null,
      "outputs": []
    },
    {
      "cell_type": "code",
      "source": [
        "from sklearn.metrics import classification_report\n",
        "from sklearn.metrics import confusion_matrix, ConfusionMatrixDisplay\n",
        "\n",
        "# Set up DataFrame to store comparisons\n",
        "model_compare = pd.DataFrame()\n",
        "\n",
        "def get_model_metrics(name, model):\n",
        "  '''Prints confusion matrix and some metrics; returns metrics in a DF'''\n",
        "  cols = ['Model', 'Accuracy', 'F1_Score', 'Precision', 'Recall']\n",
        "    # get predictions\n",
        "  predictions = model.predict(X_test)\n",
        "  \n",
        "  # print confusion matrix\n",
        "  cm = confusion_matrix(y_test, predictions)\n",
        "  disp = ConfusionMatrixDisplay(confusion_matrix=cm, \n",
        "                                display_labels=model.classes_)\n",
        "  print(cm)\n",
        "  disp.plot()\n",
        "  plt.show()\n",
        "  \n",
        "  # get accuracy, f1-score, precision, and recall\n",
        "  accuracy = round(model.score(X_test, y_test)*100, 2)\n",
        "  print('Accuracy: ', accuracy)\n",
        "  cr = classification_report(y_test, predictions, output_dict=True)\n",
        "  f1Score = round(cr['weighted avg']['f1-score'], 4)\n",
        "  print('F1-Score: ', f1Score)\n",
        "  precision = round(cr['weighted avg']['precision'], 4)\n",
        "  print('Precision:', precision)\n",
        "  recall = round(cr['weighted avg']['recall'], 4)\n",
        "  print('Recall:   ', recall)\n",
        "\n",
        "  df = pd.DataFrame([[name, accuracy, f1Score, precision, recall]],\n",
        "                    columns=cols)\n",
        "  return df"
      ],
      "metadata": {
        "id": "PAayqJ5gI-Mh"
      },
      "execution_count": null,
      "outputs": []
    },
    {
      "cell_type": "markdown",
      "source": [
        "## Random Forest"
      ],
      "metadata": {
        "id": "kuzy5OPGH5si"
      }
    },
    {
      "cell_type": "code",
      "source": [
        "%%time\n",
        "# Load libraries\n",
        "from sklearn.ensemble import RandomForestClassifier\n",
        "\n",
        "# Create classifier\n",
        "rfClass = RandomForestClassifier()#class_weight='balanced')\n",
        "\n",
        "# Train model\n",
        "rfClass.fit(X_over, y_over)"
      ],
      "metadata": {
        "colab": {
          "base_uri": "https://localhost:8080/"
        },
        "id": "Q6M5Zn4xHrWt",
        "outputId": "b81d3b24-8b63-4259-f3cf-c9db4e798169"
      },
      "execution_count": null,
      "outputs": [
        {
          "output_type": "stream",
          "name": "stdout",
          "text": [
            "CPU times: user 6.11 s, sys: 37.8 ms, total: 6.15 s\n",
            "Wall time: 8.4 s\n"
          ]
        }
      ]
    },
    {
      "cell_type": "code",
      "source": [
        "# Evaluate model\n",
        "tempDF = get_model_metrics('RandomForest', rfClass)\n",
        "# Store metrics\n",
        "model_compare = pd.concat([model_compare, tempDF], ignore_index=True)"
      ],
      "metadata": {
        "colab": {
          "base_uri": "https://localhost:8080/",
          "height": 387
        },
        "id": "thEyjWgYJK_y",
        "outputId": "e7ffef47-ad17-4288-bc5a-c7abd6633974"
      },
      "execution_count": null,
      "outputs": [
        {
          "output_type": "stream",
          "name": "stdout",
          "text": [
            "[[14046    22]\n",
            " [  247     4]]\n"
          ]
        },
        {
          "output_type": "display_data",
          "data": {
            "text/plain": [
              "<Figure size 432x288 with 2 Axes>"
            ],
            "image/png": "[encoded data removed]"
          },
          "metadata": {
            "needs_background": "light"
          }
        },
        {
          "output_type": "stream",
          "name": "stdout",
          "text": [
            "Accuracy:  98.12\n",
            "F1-Score:  0.9737\n",
            "Precision: 0.9682\n",
            "Recall:    0.9812\n"
          ]
        }
      ]
    },
    {
      "cell_type": "markdown",
      "source": [
        "## Decision Tree"
      ],
      "metadata": {
        "id": "F_XR-1KgJuYJ"
      }
    },
    {
      "cell_type": "code",
      "source": [
        "%%time\n",
        "# Load libraries\n",
        "from sklearn.tree import DecisionTreeClassifier\n",
        "\n",
        "# Create decision tree regressor object\n",
        "decisiontree = DecisionTreeClassifier()#class_weight='balanced')\n",
        "\n",
        "# Train model\n",
        "decisiontree.fit(X_over, y_over)"
      ],
      "metadata": {
        "colab": {
          "base_uri": "https://localhost:8080/"
        },
        "id": "nIquT7KDJogk",
        "outputId": "1f035c85-4586-4ac6-a1af-2973169a9146"
      },
      "execution_count": null,
      "outputs": [
        {
          "output_type": "stream",
          "name": "stdout",
          "text": [
            "CPU times: user 186 ms, sys: 0 ns, total: 186 ms\n",
            "Wall time: 186 ms\n"
          ]
        }
      ]
    },
    {
      "cell_type": "code",
      "source": [
        "# Evaluate model\n",
        "tempDF = get_model_metrics('DecisionTree', decisiontree)\n",
        "# Store metrics\n",
        "model_compare = pd.concat([model_compare, tempDF], ignore_index=True)"
      ],
      "metadata": {
        "colab": {
          "base_uri": "https://localhost:8080/",
          "height": 383
        },
        "id": "nxLuN4lsJzFt",
        "outputId": "fefbb5be-c93f-491b-a3da-8cd1789f4e87"
      },
      "execution_count": null,
      "outputs": [
        {
          "output_type": "stream",
          "name": "stdout",
          "text": [
            "[[13848   220]\n",
            " [  238    13]]\n"
          ]
        },
        {
          "output_type": "display_data",
          "data": {
            "text/plain": [
              "<Figure size 432x288 with 2 Axes>"
            ],
            "image/png": "[encoded data removed]"
          },
          "metadata": {
            "needs_background": "light"
          }
        },
        {
          "output_type": "stream",
          "name": "stdout",
          "text": [
            "Accuracy:  96.8\n",
            "F1-Score:  0.9674\n",
            "Precision: 0.9668\n",
            "Recall:    0.968\n"
          ]
        }
      ]
    },
    {
      "cell_type": "markdown",
      "source": [
        "## Logistic Regression"
      ],
      "metadata": {
        "id": "bolosyilJ4QR"
      }
    },
    {
      "cell_type": "code",
      "source": [
        "%%time\n",
        "# Load libraries\n",
        "from sklearn.linear_model import LogisticRegression\n",
        "\n",
        "# Create logistic regression\n",
        "logit = LogisticRegression()\n",
        "\n",
        "# Train model\n",
        "logit.fit(X_over, y_over)"
      ],
      "metadata": {
        "colab": {
          "base_uri": "https://localhost:8080/"
        },
        "id": "ob33CoUlJ38g",
        "outputId": "10ec2575-2ecb-4dd9-dbee-f6ccd64ca1ec"
      },
      "execution_count": null,
      "outputs": [
        {
          "output_type": "stream",
          "name": "stdout",
          "text": [
            "CPU times: user 605 ms, sys: 370 ms, total: 975 ms\n",
            "Wall time: 509 ms\n"
          ]
        }
      ]
    },
    {
      "cell_type": "code",
      "source": [
        "# Evaluate model\n",
        "tempDF = get_model_metrics('LogReg', logit)\n",
        "# Store metrics\n",
        "model_compare = pd.concat([model_compare, tempDF], ignore_index=True)"
      ],
      "metadata": {
        "colab": {
          "base_uri": "https://localhost:8080/",
          "height": 383
        },
        "id": "VVJRwZ6wJ1q6",
        "outputId": "a882e3bb-b6e0-4b9c-82fd-12d519b2828e"
      },
      "execution_count": null,
      "outputs": [
        {
          "output_type": "stream",
          "name": "stdout",
          "text": [
            "[[10349  3719]\n",
            " [   48   203]]\n"
          ]
        },
        {
          "output_type": "display_data",
          "data": {
            "text/plain": [
              "<Figure size 432x288 with 2 Axes>"
            ],
            "image/png": "[encoded data removed]"
          },
          "metadata": {
            "needs_background": "light"
          }
        },
        {
          "output_type": "stream",
          "name": "stdout",
          "text": [
            "Accuracy:  73.69\n",
            "F1-Score:  0.8329\n",
            "Precision: 0.9788\n",
            "Recall:    0.7369\n"
          ]
        }
      ]
    },
    {
      "cell_type": "markdown",
      "source": [
        "## Gaussian Naive Bayes Classifier"
      ],
      "metadata": {
        "id": "WnDZjeJiKKag"
      }
    },
    {
      "cell_type": "code",
      "source": [
        "%%time\n",
        "# Load libraries\n",
        "from sklearn.naive_bayes import GaussianNB\n",
        "\n",
        "# Create Gaussian naive Bayes object\n",
        "nBayes = GaussianNB()\n",
        "\n",
        "# Fit model\n",
        "nBayes.fit(X_over, y_over)"
      ],
      "metadata": {
        "colab": {
          "base_uri": "https://localhost:8080/"
        },
        "id": "IAcc_3OkKBaA",
        "outputId": "d86efce4-e122-4f9c-85fd-5da14a521530"
      },
      "execution_count": null,
      "outputs": [
        {
          "output_type": "stream",
          "name": "stdout",
          "text": [
            "CPU times: user 25.3 ms, sys: 11 µs, total: 25.3 ms\n",
            "Wall time: 27.2 ms\n"
          ]
        }
      ]
    },
    {
      "cell_type": "code",
      "source": [
        "# Evaluate model\n",
        "tempDF = get_model_metrics('GaussianNB', nBayes)\n",
        "# Store metrics\n",
        "model_compare = pd.concat([model_compare, tempDF], ignore_index=True)"
      ],
      "metadata": {
        "colab": {
          "base_uri": "https://localhost:8080/",
          "height": 383
        },
        "id": "vS3Kfjq6KQd0",
        "outputId": "aaf24572-4e09-4d5a-b81d-90e943451cf4"
      },
      "execution_count": null,
      "outputs": [
        {
          "output_type": "stream",
          "name": "stdout",
          "text": [
            "[[ 3837 10231]\n",
            " [    2   249]]\n"
          ]
        },
        {
          "output_type": "display_data",
          "data": {
            "text/plain": [
              "<Figure size 432x288 with 2 Axes>"
            ],
            "image/png": "[encoded data removed]"
          },
          "metadata": {
            "needs_background": "light"
          }
        },
        {
          "output_type": "stream",
          "name": "stdout",
          "text": [
            "Accuracy:  28.54\n",
            "F1-Score:  0.4218\n",
            "Precision: 0.9824\n",
            "Recall:    0.2854\n"
          ]
        }
      ]
    },
    {
      "cell_type": "markdown",
      "source": [
        "## Support Vector Classifier (SVC)"
      ],
      "metadata": {
        "id": "nicScJxJKY1g"
      }
    },
    {
      "cell_type": "code",
      "source": [
        "%%time\n",
        "# Load libraries\n",
        "from sklearn.svm import SVC\n",
        "\n",
        "# Create classification model\n",
        "svc = SVC()#class_weight='balanced')\n",
        "\n",
        "# Fit model\n",
        "svc.fit(X_over, y_over)"
      ],
      "metadata": {
        "colab": {
          "base_uri": "https://localhost:8080/"
        },
        "id": "cun21uG1KXBJ",
        "outputId": "95e2df45-4429-4643-f8a8-d07997cad974"
      },
      "execution_count": null,
      "outputs": [
        {
          "output_type": "stream",
          "name": "stdout",
          "text": [
            "CPU times: user 2min 7s, sys: 467 ms, total: 2min 7s\n",
            "Wall time: 2min 7s\n"
          ]
        }
      ]
    },
    {
      "cell_type": "code",
      "source": [
        "# Evaluate model\n",
        "tempDF = get_model_metrics('SVC', svc)\n",
        "# Store metrics\n",
        "model_compare = pd.concat([model_compare, tempDF], ignore_index=True)"
      ],
      "metadata": {
        "colab": {
          "base_uri": "https://localhost:8080/",
          "height": 383
        },
        "id": "k_O_kK46KSHn",
        "outputId": "35d897f2-83bd-44ee-a5d7-c618165f331b"
      },
      "execution_count": null,
      "outputs": [
        {
          "output_type": "stream",
          "name": "stdout",
          "text": [
            "[[10670  3398]\n",
            " [   60   191]]\n"
          ]
        },
        {
          "output_type": "display_data",
          "data": {
            "text/plain": [
              "<Figure size 432x288 with 2 Axes>"
            ],
            "image/png": "[encoded data removed]"
          },
          "metadata": {
            "needs_background": "light"
          }
        },
        {
          "output_type": "stream",
          "name": "stdout",
          "text": [
            "Accuracy:  75.85\n",
            "F1-Score:  0.8472\n",
            "Precision: 0.9779\n",
            "Recall:    0.7585\n"
          ]
        }
      ]
    },
    {
      "cell_type": "markdown",
      "source": [
        "## Linear SVC"
      ],
      "metadata": {
        "id": "bu-oxWqfKqEU"
      }
    },
    {
      "cell_type": "code",
      "source": [
        "%%time\n",
        "# Load libraries\n",
        "from sklearn.svm import LinearSVC\n",
        "\n",
        "# Create classification model\n",
        "linSVC = LinearSVC()#class_weight='balanced')\n",
        "\n",
        "# Fit model\n",
        "linSVC.fit(X_over, y_over)"
      ],
      "metadata": {
        "colab": {
          "base_uri": "https://localhost:8080/"
        },
        "id": "Xc0C_0UZKogq",
        "outputId": "1942bc3c-e47e-49b1-992d-cb9fd5db504e"
      },
      "execution_count": null,
      "outputs": [
        {
          "output_type": "stream",
          "name": "stdout",
          "text": [
            "CPU times: user 8.26 s, sys: 8.65 ms, total: 8.27 s\n",
            "Wall time: 8.27 s\n"
          ]
        }
      ]
    },
    {
      "cell_type": "code",
      "source": [
        "# Evaluate model\n",
        "tempDF = get_model_metrics('LinearSVC', linSVC)\n",
        "# Store metrics\n",
        "model_compare = pd.concat([model_compare, tempDF], ignore_index=True)"
      ],
      "metadata": {
        "colab": {
          "base_uri": "https://localhost:8080/",
          "height": 383
        },
        "id": "8M6s17kwKwti",
        "outputId": "76a8a60e-94ec-458a-bbd0-7078e55ef8bf"
      },
      "execution_count": null,
      "outputs": [
        {
          "output_type": "stream",
          "name": "stdout",
          "text": [
            "[[10247  3821]\n",
            " [   48   203]]\n"
          ]
        },
        {
          "output_type": "display_data",
          "data": {
            "text/plain": [
              "<Figure size 432x288 with 2 Axes>"
            ],
            "image/png": "[encoded data removed]"
          },
          "metadata": {
            "needs_background": "light"
          }
        },
        {
          "output_type": "stream",
          "name": "stdout",
          "text": [
            "Accuracy:  72.98\n",
            "F1-Score:  0.8281\n",
            "Precision: 0.9788\n",
            "Recall:    0.7298\n"
          ]
        }
      ]
    },
    {
      "cell_type": "markdown",
      "source": [
        "## Ada Boost Classifier"
      ],
      "metadata": {
        "id": "GbsDGDFAK2Gu"
      }
    },
    {
      "cell_type": "code",
      "source": [
        "%%time\n",
        "# Load libraries\n",
        "from sklearn.ensemble import AdaBoostClassifier\n",
        "\n",
        "# Create classifier\n",
        "adaboost = AdaBoostClassifier()\n",
        "\n",
        "# Train model\n",
        "adaboost.fit(X_over, y_over)"
      ],
      "metadata": {
        "colab": {
          "base_uri": "https://localhost:8080/"
        },
        "id": "V9HS0slNKzD5",
        "outputId": "b02882aa-51e1-471f-c9eb-98e416279520"
      },
      "execution_count": null,
      "outputs": [
        {
          "output_type": "stream",
          "name": "stdout",
          "text": [
            "CPU times: user 2.16 s, sys: 48 ms, total: 2.2 s\n",
            "Wall time: 2.17 s\n"
          ]
        }
      ]
    },
    {
      "cell_type": "code",
      "source": [
        "# Evaluate model\n",
        "tempDF = get_model_metrics('AdaBoost', adaboost)\n",
        "# Store metrics\n",
        "model_compare = pd.concat([model_compare, tempDF], ignore_index=True)"
      ],
      "metadata": {
        "colab": {
          "base_uri": "https://localhost:8080/",
          "height": 383
        },
        "id": "vMM8g-NlK_7H",
        "outputId": "147c01b6-2275-4df6-dee2-366ab8a7bffb"
      },
      "execution_count": null,
      "outputs": [
        {
          "output_type": "stream",
          "name": "stdout",
          "text": [
            "[[10719  3349]\n",
            " [   52   199]]\n"
          ]
        },
        {
          "output_type": "display_data",
          "data": {
            "text/plain": [
              "<Figure size 432x288 with 2 Axes>"
            ],
            "image/png": "[encoded data removed]"
          },
          "metadata": {
            "needs_background": "light"
          }
        },
        {
          "output_type": "stream",
          "name": "stdout",
          "text": [
            "Accuracy:  76.25\n",
            "F1-Score:  0.8498\n",
            "Precision: 0.9787\n",
            "Recall:    0.7625\n"
          ]
        }
      ]
    },
    {
      "cell_type": "markdown",
      "source": [
        "## MLP Classifier"
      ],
      "metadata": {
        "id": "HSCDX0BYLDlC"
      }
    },
    {
      "cell_type": "code",
      "source": [
        "%%time\n",
        "# Load libraries\n",
        "from sklearn.neural_network import MLPClassifier\n",
        "\n",
        "# Create classification model\n",
        "mlp = MLPClassifier(early_stopping=True)\n",
        "\n",
        "# Fit model\n",
        "mlp.fit(X_over, y_over)"
      ],
      "metadata": {
        "colab": {
          "base_uri": "https://localhost:8080/"
        },
        "id": "DyF_45mHLBQe",
        "outputId": "7ace3098-841f-491e-fe30-00640d35a2ae"
      },
      "execution_count": null,
      "outputs": [
        {
          "output_type": "stream",
          "name": "stdout",
          "text": [
            "CPU times: user 33.4 s, sys: 24.2 s, total: 57.7 s\n",
            "Wall time: 29.6 s\n"
          ]
        }
      ]
    },
    {
      "cell_type": "code",
      "source": [
        "# Evaluate model\n",
        "tempDF = get_model_metrics('MLP', mlp)\n",
        "# Store metrics\n",
        "model_compare = pd.concat([model_compare, tempDF], ignore_index=True)"
      ],
      "metadata": {
        "colab": {
          "base_uri": "https://localhost:8080/",
          "height": 383
        },
        "id": "oNxWjJsGLKl-",
        "outputId": "aa997677-0e1b-476a-c539-7892f7e19ecd"
      },
      "execution_count": null,
      "outputs": [
        {
          "output_type": "stream",
          "name": "stdout",
          "text": [
            "[[11623  2445]\n",
            " [  110   141]]\n"
          ]
        },
        {
          "output_type": "display_data",
          "data": {
            "text/plain": [
              "<Figure size 432x288 with 2 Axes>"
            ],
            "image/png": "[encoded data removed]"
          },
          "metadata": {
            "needs_background": "light"
          }
        },
        {
          "output_type": "stream",
          "name": "stdout",
          "text": [
            "Accuracy:  82.16\n",
            "F1-Score:  0.8869\n",
            "Precision: 0.9742\n",
            "Recall:    0.8216\n"
          ]
        }
      ]
    },
    {
      "cell_type": "markdown",
      "source": [
        "## Gradient Boosting Classifier"
      ],
      "metadata": {
        "id": "Ldhr08xxLN1T"
      }
    },
    {
      "cell_type": "code",
      "source": [
        "%%time\n",
        "# Load libraries\n",
        "from sklearn.ensemble import GradientBoostingClassifier\n",
        "\n",
        "# Create classification model\n",
        "gbc = GradientBoostingClassifier()\n",
        "\n",
        "# Fit model\n",
        "gbc.fit(X_over, y_over)"
      ],
      "metadata": {
        "colab": {
          "base_uri": "https://localhost:8080/"
        },
        "id": "NdFnbkQULLRK",
        "outputId": "14ef2888-dd4a-4b9a-fe91-69ab9ce1352e"
      },
      "execution_count": null,
      "outputs": [
        {
          "output_type": "stream",
          "name": "stdout",
          "text": [
            "CPU times: user 7.63 s, sys: 68.7 ms, total: 7.7 s\n",
            "Wall time: 8.37 s\n"
          ]
        }
      ]
    },
    {
      "cell_type": "code",
      "source": [
        "# Evaluate model\n",
        "tempDF = get_model_metrics('GBC', gbc)\n",
        "# Store metrics\n",
        "model_compare = pd.concat([model_compare, tempDF], ignore_index=True)"
      ],
      "metadata": {
        "colab": {
          "base_uri": "https://localhost:8080/",
          "height": 383
        },
        "id": "Cnvzp74pLUoN",
        "outputId": "d24de7be-3b71-4615-ed43-9572fb8446ce"
      },
      "execution_count": null,
      "outputs": [
        {
          "output_type": "stream",
          "name": "stdout",
          "text": [
            "[[11071  2997]\n",
            " [   57   194]]\n"
          ]
        },
        {
          "output_type": "display_data",
          "data": {
            "text/plain": [
              "<Figure size 432x288 with 2 Axes>"
            ],
            "image/png": "[encoded data removed]"
          },
          "metadata": {
            "needs_background": "light"
          }
        },
        {
          "output_type": "stream",
          "name": "stdout",
          "text": [
            "Accuracy:  78.67\n",
            "F1-Score:  0.8654\n",
            "Precision: 0.9785\n",
            "Recall:    0.7867\n"
          ]
        }
      ]
    },
    {
      "cell_type": "markdown",
      "source": [
        "## K-Nearest Neighbor"
      ],
      "metadata": {
        "id": "F3Oyuu5kL0kH"
      }
    },
    {
      "cell_type": "code",
      "source": [
        "%%time\n",
        "# Load libraries\n",
        "from sklearn.neighbors import KNeighborsClassifier\n",
        "\n",
        "# Create classification model\n",
        "knn = KNeighborsClassifier(2)\n",
        "\n",
        "# Fit model\n",
        "knn.fit(X_over, y_over)"
      ],
      "metadata": {
        "colab": {
          "base_uri": "https://localhost:8080/"
        },
        "id": "yhNEx8EALV_p",
        "outputId": "781229dd-9b54-40e5-b6b4-eed66a359b2f"
      },
      "execution_count": null,
      "outputs": [
        {
          "output_type": "stream",
          "name": "stdout",
          "text": [
            "CPU times: user 7.56 ms, sys: 0 ns, total: 7.56 ms\n",
            "Wall time: 10.6 ms\n"
          ]
        }
      ]
    },
    {
      "cell_type": "code",
      "source": [
        "# Evaluate model\n",
        "tempDF = get_model_metrics('KNN', knn)\n",
        "# Store metrics\n",
        "model_compare = pd.concat([model_compare, tempDF], ignore_index=True)"
      ],
      "metadata": {
        "colab": {
          "base_uri": "https://localhost:8080/",
          "height": 383
        },
        "id": "Y6oA52RnL7FA",
        "outputId": "2b865a96-a75f-465e-9590-e40ced758f82"
      },
      "execution_count": null,
      "outputs": [
        {
          "output_type": "stream",
          "name": "stdout",
          "text": [
            "[[13863   205]\n",
            " [  235    16]]\n"
          ]
        },
        {
          "output_type": "display_data",
          "data": {
            "text/plain": [
              "<Figure size 432x288 with 2 Axes>"
            ],
            "image/png": "[encoded data removed]"
          },
          "metadata": {
            "needs_background": "light"
          }
        },
        {
          "output_type": "stream",
          "name": "stdout",
          "text": [
            "Accuracy:  96.93\n",
            "F1-Score:  0.9683\n",
            "Precision: 0.9674\n",
            "Recall:    0.9693\n"
          ]
        }
      ]
    },
    {
      "cell_type": "markdown",
      "source": [
        "## Stochastic Gradient Descent"
      ],
      "metadata": {
        "id": "3ZbQbcvtOa1T"
      }
    },
    {
      "cell_type": "code",
      "source": [
        "%%time\n",
        "# Load libraries\n",
        "from sklearn.linear_model import SGDClassifier\n",
        "\n",
        "# Create classification model\n",
        "sgd = SGDClassifier()\n",
        "\n",
        "# Fit model\n",
        "sgd.fit(X_over, y_over)"
      ],
      "metadata": {
        "colab": {
          "base_uri": "https://localhost:8080/"
        },
        "id": "kJ3QbGCgOG03",
        "outputId": "7f087b31-8f76-410b-ff9c-b799e2118412"
      },
      "execution_count": null,
      "outputs": [
        {
          "output_type": "stream",
          "name": "stdout",
          "text": [
            "CPU times: user 178 ms, sys: 88 µs, total: 179 ms\n",
            "Wall time: 179 ms\n"
          ]
        }
      ]
    },
    {
      "cell_type": "code",
      "source": [
        "# Evaluate model\n",
        "tempDF = get_model_metrics('SGD', sgd)\n",
        "# Store metrics\n",
        "model_compare = pd.concat([model_compare, tempDF], ignore_index=True)"
      ],
      "metadata": {
        "colab": {
          "base_uri": "https://localhost:8080/",
          "height": 383
        },
        "id": "BD5F4qjFOquP",
        "outputId": "d71ef52c-c569-4da7-c298-af375cddb708"
      },
      "execution_count": null,
      "outputs": [
        {
          "output_type": "stream",
          "name": "stdout",
          "text": [
            "[[10516  3552]\n",
            " [   56   195]]\n"
          ]
        },
        {
          "output_type": "display_data",
          "data": {
            "text/plain": [
              "<Figure size 432x288 with 2 Axes>"
            ],
            "image/png": "[encoded data removed]"
          },
          "metadata": {
            "needs_background": "light"
          }
        },
        {
          "output_type": "stream",
          "name": "stdout",
          "text": [
            "Accuracy:  74.8\n",
            "F1-Score:  0.8403\n",
            "Precision: 0.9782\n",
            "Recall:    0.748\n"
          ]
        }
      ]
    },
    {
      "cell_type": "markdown",
      "source": [
        "## LGBM Classifier"
      ],
      "metadata": {
        "id": "9Tv_7MyNPRNS"
      }
    },
    {
      "cell_type": "code",
      "source": [
        "%%time\n",
        "# Load libraries\n",
        "from lightgbm import LGBMClassifier\n",
        "\n",
        "# Create classification model\n",
        "lgbm = LGBMClassifier()\n",
        "\n",
        "# Fit model\n",
        "lgbm.fit(X_over, y_over)"
      ],
      "metadata": {
        "colab": {
          "base_uri": "https://localhost:8080/"
        },
        "id": "u4yrEIcuOtlx",
        "outputId": "215f2aa6-dc70-4e6f-939f-00a8d22ca808"
      },
      "execution_count": null,
      "outputs": [
        {
          "output_type": "stream",
          "name": "stdout",
          "text": [
            "CPU times: user 1.63 s, sys: 65.2 ms, total: 1.69 s\n",
            "Wall time: 931 ms\n"
          ]
        }
      ]
    },
    {
      "cell_type": "code",
      "source": [
        "# Evaluate model\n",
        "tempDF = get_model_metrics('LGBM', lgbm)\n",
        "# Store metrics\n",
        "model_compare = pd.concat([model_compare, tempDF], ignore_index=True)"
      ],
      "metadata": {
        "colab": {
          "base_uri": "https://localhost:8080/",
          "height": 383
        },
        "id": "aFwVMwbXPhbk",
        "outputId": "ac4a6ee3-f085-4892-d4b6-f01e37263d60"
      },
      "execution_count": null,
      "outputs": [
        {
          "output_type": "stream",
          "name": "stdout",
          "text": [
            "[[12438  1630]\n",
            " [  129   122]]\n"
          ]
        },
        {
          "output_type": "display_data",
          "data": {
            "text/plain": [
              "<Figure size 432x288 with 2 Axes>"
            ],
            "image/png": "[encoded data removed]"
          },
          "metadata": {
            "needs_background": "light"
          }
        },
        {
          "output_type": "stream",
          "name": "stdout",
          "text": [
            "Accuracy:  87.72\n",
            "F1-Score:  0.9197\n",
            "Precision: 0.9736\n",
            "Recall:    0.8772\n"
          ]
        }
      ]
    },
    {
      "cell_type": "markdown",
      "source": [
        "## XGBoost Classifier"
      ],
      "metadata": {
        "id": "Xo7kK7kTPoEK"
      }
    },
    {
      "cell_type": "code",
      "source": [
        "%%time\n",
        "# Load libraries\n",
        "from xgboost.sklearn import XGBClassifier\n",
        "\n",
        "# Create classification model\n",
        "xgbc = XGBClassifier()\n",
        "\n",
        "# Fit model\n",
        "xgbc.fit(X_over, y_over)"
      ],
      "metadata": {
        "colab": {
          "base_uri": "https://localhost:8080/"
        },
        "id": "q1lMvNYBPl4I",
        "outputId": "462df2f8-fd81-464f-b405-d6052f14f6c7"
      },
      "execution_count": null,
      "outputs": [
        {
          "output_type": "stream",
          "name": "stdout",
          "text": [
            "CPU times: user 3.48 s, sys: 21.5 ms, total: 3.51 s\n",
            "Wall time: 3.62 s\n"
          ]
        }
      ]
    },
    {
      "cell_type": "code",
      "source": [
        "# Evaluate model\n",
        "tempDF = get_model_metrics('XGBC', xgbc)\n",
        "# Store metrics\n",
        "model_compare = pd.concat([model_compare, tempDF], ignore_index=True)"
      ],
      "metadata": {
        "colab": {
          "base_uri": "https://localhost:8080/",
          "height": 383
        },
        "id": "lzh0ts4FPzTc",
        "outputId": "d826ed68-c91d-4178-fed2-f5ea353496f3"
      },
      "execution_count": null,
      "outputs": [
        {
          "output_type": "stream",
          "name": "stdout",
          "text": [
            "[[10963  3105]\n",
            " [   56   195]]\n"
          ]
        },
        {
          "output_type": "display_data",
          "data": {
            "text/plain": [
              "<Figure size 432x288 with 2 Axes>"
            ],
            "image/png": "[encoded data removed]"
          },
          "metadata": {
            "needs_background": "light"
          }
        },
        {
          "output_type": "stream",
          "name": "stdout",
          "text": [
            "Accuracy:  77.92\n",
            "F1-Score:  0.8606\n",
            "Precision: 0.9785\n",
            "Recall:    0.7792\n"
          ]
        }
      ]
    },
    {
      "cell_type": "markdown",
      "source": [
        "## Linear Discriminant Analysis"
      ],
      "metadata": {
        "id": "S4IlXWkNQTyF"
      }
    },
    {
      "cell_type": "code",
      "source": [
        "%%time\n",
        "# Load libraries\n",
        "from sklearn.discriminant_analysis import LinearDiscriminantAnalysis\n",
        "\n",
        "# Create classification model\n",
        "lda = LinearDiscriminantAnalysis()\n",
        "\n",
        "# Fit model\n",
        "lda.fit(X_over, y_over)"
      ],
      "metadata": {
        "colab": {
          "base_uri": "https://localhost:8080/"
        },
        "id": "wJV7LjayP4lo",
        "outputId": "30f1634a-0a0f-4170-dcc3-3cd521929380"
      },
      "execution_count": null,
      "outputs": [
        {
          "output_type": "stream",
          "name": "stdout",
          "text": [
            "CPU times: user 157 ms, sys: 8.78 ms, total: 166 ms\n",
            "Wall time: 153 ms\n"
          ]
        }
      ]
    },
    {
      "cell_type": "code",
      "source": [
        "# Evaluate model\n",
        "tempDF = get_model_metrics('LDA', lda)\n",
        "# Store metrics\n",
        "model_compare = pd.concat([model_compare, tempDF], ignore_index=True)"
      ],
      "metadata": {
        "colab": {
          "base_uri": "https://localhost:8080/",
          "height": 383
        },
        "id": "nACBvI2CQdDP",
        "outputId": "45ebef8d-2db1-4b3e-c93f-83670a50ef0b"
      },
      "execution_count": null,
      "outputs": [
        {
          "output_type": "stream",
          "name": "stdout",
          "text": [
            "[[10198  3870]\n",
            " [   48   203]]\n"
          ]
        },
        {
          "output_type": "display_data",
          "data": {
            "text/plain": [
              "<Figure size 432x288 with 2 Axes>"
            ],
            "image/png": "[encoded data removed]"
          },
          "metadata": {
            "needs_background": "light"
          }
        },
        {
          "output_type": "stream",
          "name": "stdout",
          "text": [
            "Accuracy:  72.64\n",
            "F1-Score:  0.8258\n",
            "Precision: 0.9787\n",
            "Recall:    0.7264\n"
          ]
        }
      ]
    },
    {
      "cell_type": "markdown",
      "source": [
        "## Compare Model Performance"
      ],
      "metadata": {
        "id": "R1_apllXVF3X"
      }
    },
    {
      "cell_type": "code",
      "source": [
        "model_compare.sort_values('Accuracy', ascending=False, ignore_index=True)"
      ],
      "metadata": {
        "colab": {
          "base_uri": "https://localhost:8080/",
          "height": 488
        },
        "id": "CO_u9ElRQf5s",
        "outputId": "2190d4cf-6bb7-47e0-845c-f02ba2776c29"
      },
      "execution_count": null,
      "outputs": [
        {
          "output_type": "execute_result",
          "data": {
            "text/plain": [
              "           Model  Accuracy  F1_Score  Precision  Recall\n",
              "0   RandomForest     98.12    0.9737     0.9682  0.9812\n",
              "1            KNN     96.93    0.9683     0.9674  0.9693\n",
              "2   DecisionTree     96.80    0.9674     0.9668  0.9680\n",
              "3           LGBM     87.72    0.9197     0.9736  0.8772\n",
              "4            MLP     82.16    0.8869     0.9742  0.8216\n",
              "5            GBC     78.67    0.8654     0.9785  0.7867\n",
              "6           XGBC     77.92    0.8606     0.9785  0.7792\n",
              "7       AdaBoost     76.25    0.8498     0.9787  0.7625\n",
              "8            SVC     75.85    0.8472     0.9779  0.7585\n",
              "9            SGD     74.80    0.8403     0.9782  0.7480\n",
              "10        LogReg     73.69    0.8329     0.9788  0.7369\n",
              "11     LinearSVC     72.98    0.8281     0.9788  0.7298\n",
              "12           LDA     72.64    0.8258     0.9787  0.7264\n",
              "13    GaussianNB     28.54    0.4218     0.9824  0.2854"
            ],
            "text/html": [
              "\n",
              "  <div id=\"df-23d6fb13-0a3e-4262-a3ef-7d2f1f0e35da\">\n",
              "    <div class=\"colab-df-container\">\n",
              "      <div>\n",
              "<style scoped>\n",
              "    .dataframe tbody tr th:only-of-type {\n",
              "        vertical-align: middle;\n",
              "    }\n",
              "\n",
              "    .dataframe tbody tr th {\n",
              "        vertical-align: top;\n",
              "    }\n",
              "\n",
              "    .dataframe thead th {\n",
              "        text-align: right;\n",
              "    }\n",
              "</style>\n",
              "<table border=\"1\" class=\"dataframe\">\n",
              "  <thead>\n",
              "    <tr style=\"text-align: right;\">\n",
              "      <th></th>\n",
              "      <th>Model</th>\n",
              "      <th>Accuracy</th>\n",
              "      <th>F1_Score</th>\n",
              "      <th>Precision</th>\n",
              "      <th>Recall</th>\n",
              "    </tr>\n",
              "  </thead>\n",
              "  <tbody>\n",
              "    <tr>\n",
              "      <th>0</th>\n",
              "      <td>RandomForest</td>\n",
              "      <td>98.12</td>\n",
              "      <td>0.9737</td>\n",
              "      <td>0.9682</td>\n",
              "      <td>0.9812</td>\n",
              "    </tr>\n",
              "    <tr>\n",
              "      <th>1</th>\n",
              "      <td>KNN</td>\n",
              "      <td>96.93</td>\n",
              "      <td>0.9683</td>\n",
              "      <td>0.9674</td>\n",
              "      <td>0.9693</td>\n",
              "    </tr>\n",
              "    <tr>\n",
              "      <th>2</th>\n",
              "      <td>DecisionTree</td>\n",
              "      <td>96.80</td>\n",
              "      <td>0.9674</td>\n",
              "      <td>0.9668</td>\n",
              "      <td>0.9680</td>\n",
              "    </tr>\n",
              "    <tr>\n",
              "      <th>3</th>\n",
              "      <td>LGBM</td>\n",
              "      <td>87.72</td>\n",
              "      <td>0.9197</td>\n",
              "      <td>0.9736</td>\n",
              "      <td>0.8772</td>\n",
              "    </tr>\n",
              "    <tr>\n",
              "      <th>4</th>\n",
              "      <td>MLP</td>\n",
              "      <td>82.16</td>\n",
              "      <td>0.8869</td>\n",
              "      <td>0.9742</td>\n",
              "      <td>0.8216</td>\n",
              "    </tr>\n",
              "    <tr>\n",
              "      <th>5</th>\n",
              "      <td>GBC</td>\n",
              "      <td>78.67</td>\n",
              "      <td>0.8654</td>\n",
              "      <td>0.9785</td>\n",
              "      <td>0.7867</td>\n",
              "    </tr>\n",
              "    <tr>\n",
              "      <th>6</th>\n",
              "      <td>XGBC</td>\n",
              "      <td>77.92</td>\n",
              "      <td>0.8606</td>\n",
              "      <td>0.9785</td>\n",
              "      <td>0.7792</td>\n",
              "    </tr>\n",
              "    <tr>\n",
              "      <th>7</th>\n",
              "      <td>AdaBoost</td>\n",
              "      <td>76.25</td>\n",
              "      <td>0.8498</td>\n",
              "      <td>0.9787</td>\n",
              "      <td>0.7625</td>\n",
              "    </tr>\n",
              "    <tr>\n",
              "      <th>8</th>\n",
              "      <td>SVC</td>\n",
              "      <td>75.85</td>\n",
              "      <td>0.8472</td>\n",
              "      <td>0.9779</td>\n",
              "      <td>0.7585</td>\n",
              "    </tr>\n",
              "    <tr>\n",
              "      <th>9</th>\n",
              "      <td>SGD</td>\n",
              "      <td>74.80</td>\n",
              "      <td>0.8403</td>\n",
              "      <td>0.9782</td>\n",
              "      <td>0.7480</td>\n",
              "    </tr>\n",
              "    <tr>\n",
              "      <th>10</th>\n",
              "      <td>LogReg</td>\n",
              "      <td>73.69</td>\n",
              "      <td>0.8329</td>\n",
              "      <td>0.9788</td>\n",
              "      <td>0.7369</td>\n",
              "    </tr>\n",
              "    <tr>\n",
              "      <th>11</th>\n",
              "      <td>LinearSVC</td>\n",
              "      <td>72.98</td>\n",
              "      <td>0.8281</td>\n",
              "      <td>0.9788</td>\n",
              "      <td>0.7298</td>\n",
              "    </tr>\n",
              "    <tr>\n",
              "      <th>12</th>\n",
              "      <td>LDA</td>\n",
              "      <td>72.64</td>\n",
              "      <td>0.8258</td>\n",
              "      <td>0.9787</td>\n",
              "      <td>0.7264</td>\n",
              "    </tr>\n",
              "    <tr>\n",
              "      <th>13</th>\n",
              "      <td>GaussianNB</td>\n",
              "      <td>28.54</td>\n",
              "      <td>0.4218</td>\n",
              "      <td>0.9824</td>\n",
              "      <td>0.2854</td>\n",
              "    </tr>\n",
              "  </tbody>\n",
              "</table>\n",
              "</div>\n",
              "      <button class=\"colab-df-convert\" onclick=\"convertToInteractive('df-23d6fb13-0a3e-4262-a3ef-7d2f1f0e35da')\"\n",
              "              title=\"Convert this dataframe to an interactive table.\"\n",
              "              style=\"display:none;\">\n",
              "        \n",
              "  <svg xmlns=\"http://www.w3.org/2000/svg\" height=\"24px\"viewBox=\"0 0 24 24\"\n",
              "       width=\"24px\">\n",
              "    <path d=\"M0 0h24v24H0V0z\" fill=\"none\"/>\n",
              "    <path d=\"M18.56 5.44l.94 2.06.94-2.06 2.06-.94-2.06-.94-.94-2.06-.94 2.06-2.06.94zm-11 1L8.5 8.5l.94-2.06 2.06-.94-2.06-.94L8.5 2.5l-.94 2.06-2.06.94zm10 10l.94 2.06.94-2.06 2.06-.94-2.06-.94-.94-2.06-.94 2.06-2.06.94z\"/><path d=\"M17.41 7.96l-1.37-1.37c-.4-.4-.92-.59-1.43-.59-.52 0-1.04.2-1.43.59L10.3 9.45l-7.72 7.72c-.78.78-.78 2.05 0 2.83L4 21.41c.39.39.9.59 1.41.59.51 0 1.02-.2 1.41-.59l7.78-7.78 2.81-2.81c.8-.78.8-2.07 0-2.86zM5.41 20L4 18.59l7.72-7.72 1.47 1.35L5.41 20z\"/>\n",
              "  </svg>\n",
              "      </button>\n",
              "      \n",
              "  <style>\n",
              "    .colab-df-container {\n",
              "      display:flex;\n",
              "      flex-wrap:wrap;\n",
              "      gap: 12px;\n",
              "    }\n",
              "\n",
              "    .colab-df-convert {\n",
              "      background-color: #E8F0FE;\n",
              "      border: none;\n",
              "      border-radius: 50%;\n",
              "      cursor: pointer;\n",
              "      display: none;\n",
              "      fill: #1967D2;\n",
              "      height: 32px;\n",
              "      padding: 0 0 0 0;\n",
              "      width: 32px;\n",
              "    }\n",
              "\n",
              "    .colab-df-convert:hover {\n",
              "      background-color: #E2EBFA;\n",
              "      box-shadow: 0px 1px 2px rgba(60, 64, 67, 0.3), 0px 1px 3px 1px rgba(60, 64, 67, 0.15);\n",
              "      fill: #174EA6;\n",
              "    }\n",
              "\n",
              "    [theme=dark] .colab-df-convert {\n",
              "      background-color: #3B4455;\n",
              "      fill: #D2E3FC;\n",
              "    }\n",
              "\n",
              "    [theme=dark] .colab-df-convert:hover {\n",
              "      background-color: #434B5C;\n",
              "      box-shadow: 0px 1px 3px 1px rgba(0, 0, 0, 0.15);\n",
              "      filter: drop-shadow(0px 1px 2px rgba(0, 0, 0, 0.3));\n",
              "      fill: #FFFFFF;\n",
              "    }\n",
              "  </style>\n",
              "\n",
              "      <script>\n",
              "        const buttonEl =\n",
              "          document.querySelector('#df-23d6fb13-0a3e-4262-a3ef-7d2f1f0e35da button.colab-df-convert');\n",
              "        buttonEl.style.display =\n",
              "          google.colab.kernel.accessAllowed ? 'block' : 'none';\n",
              "\n",
              "        async function convertToInteractive(key) {\n",
              "          const element = document.querySelector('#df-23d6fb13-0a3e-4262-a3ef-7d2f1f0e35da');\n",
              "          const dataTable =\n",
              "            await google.colab.kernel.invokeFunction('convertToInteractive',\n",
              "                                                     [key], {});\n",
              "          if (!dataTable) return;\n",
              "\n",
              "          const docLinkHtml = 'Like what you see? Visit the ' +\n",
              "            '<a target=\"_blank\" href=https://colab.research.google.com/notebooks/data_table.ipynb>data table notebook</a>'\n",
              "            + ' to learn more about interactive tables.';\n",
              "          element.innerHTML = '';\n",
              "          dataTable['output_type'] = 'display_data';\n",
              "          await google.colab.output.renderOutput(dataTable, element);\n",
              "          const docLink = document.createElement('div');\n",
              "          docLink.innerHTML = docLinkHtml;\n",
              "          element.appendChild(docLink);\n",
              "        }\n",
              "      </script>\n",
              "    </div>\n",
              "  </div>\n",
              "  "
            ]
          },
          "metadata": {},
          "execution_count": 213
        }
      ]
    },
    {
      "cell_type": "code",
      "source": [
        "y_test.sum()"
      ],
      "metadata": {
        "colab": {
          "base_uri": "https://localhost:8080/"
        },
        "id": "hlAe8u3_UsZ7",
        "outputId": "b1a2f511-d95d-40ad-a1d2-0cad6dc4eed6"
      },
      "execution_count": null,
      "outputs": [
        {
          "output_type": "execute_result",
          "data": {
            "text/plain": [
              "251.0"
            ]
          },
          "metadata": {},
          "execution_count": 368
        }
      ]
    },
    {
      "cell_type": "code",
      "source": [
        "len(y_test)"
      ],
      "metadata": {
        "colab": {
          "base_uri": "https://localhost:8080/"
        },
        "id": "no5W440C_S9U",
        "outputId": "c2d48de9-c5dc-4ef6-8015-5641c14d1d1b"
      },
      "execution_count": null,
      "outputs": [
        {
          "output_type": "execute_result",
          "data": {
            "text/plain": [
              "14319"
            ]
          },
          "metadata": {},
          "execution_count": 214
        }
      ]
    },
    {
      "cell_type": "markdown",
      "source": [
        "# Hyperparameter Tuning"
      ],
      "metadata": {
        "id": "5OPHyzkARnC6"
      }
    },
    {
      "cell_type": "code",
      "source": [
        "np.arange(10, 15)"
      ],
      "metadata": {
        "colab": {
          "base_uri": "https://localhost:8080/"
        },
        "id": "sDbqxtOpMVcJ",
        "outputId": "329f3e0c-35ab-4fa4-8b5b-fa6f98a318d8"
      },
      "execution_count": null,
      "outputs": [
        {
          "output_type": "execute_result",
          "data": {
            "text/plain": [
              "array([10, 11, 12, 13, 14])"
            ]
          },
          "metadata": {},
          "execution_count": 370
        }
      ]
    },
    {
      "cell_type": "code",
      "source": [
        "import itertools"
      ],
      "metadata": {
        "id": "0EDZfOh380yT"
      },
      "execution_count": null,
      "outputs": []
    },
    {
      "cell_type": "code",
      "source": [
        "[x for x in itertools.product((30,100),repeat=3)]"
      ],
      "metadata": {
        "colab": {
          "base_uri": "https://localhost:8080/"
        },
        "id": "gRuJjaxI76vX",
        "outputId": "61df8683-7f02-466d-908a-1f0c86028dfa"
      },
      "execution_count": null,
      "outputs": [
        {
          "output_type": "execute_result",
          "data": {
            "text/plain": [
              "[(30, 30, 30),\n",
              " (30, 30, 100),\n",
              " (30, 100, 30),\n",
              " (30, 100, 100),\n",
              " (100, 30, 30),\n",
              " (100, 30, 100),\n",
              " (100, 100, 30),\n",
              " (100, 100, 100)]"
            ]
          },
          "metadata": {},
          "execution_count": 377
        }
      ]
    },
    {
      "cell_type": "code",
      "source": [
        "1e-4"
      ],
      "metadata": {
        "colab": {
          "base_uri": "https://localhost:8080/"
        },
        "id": "f2I44Grz8r6Z",
        "outputId": "4167912d-0c24-4b99-c18e-dd94e9f65a13"
      },
      "execution_count": null,
      "outputs": [
        {
          "output_type": "execute_result",
          "data": {
            "text/plain": [
              "0.0001"
            ]
          },
          "metadata": {},
          "execution_count": 378
        }
      ]
    },
    {
      "cell_type": "code",
      "source": [
        "8*4*3*3*3*3"
      ],
      "metadata": {
        "colab": {
          "base_uri": "https://localhost:8080/"
        },
        "id": "3R5_lfP1-LvO",
        "outputId": "952d6c09-1830-41c8-ccb5-f9b972ddf46e"
      },
      "execution_count": null,
      "outputs": [
        {
          "output_type": "execute_result",
          "data": {
            "text/plain": [
              "2592"
            ]
          },
          "metadata": {},
          "execution_count": 379
        }
      ]
    },
    {
      "cell_type": "code",
      "source": [
        "2592/60"
      ],
      "metadata": {
        "colab": {
          "base_uri": "https://localhost:8080/"
        },
        "id": "tdI0AU4b_btd",
        "outputId": "6ace5282-a72f-4cbb-c8fd-3496f51dc3ac"
      },
      "execution_count": null,
      "outputs": [
        {
          "output_type": "execute_result",
          "data": {
            "text/plain": [
              "43.2"
            ]
          },
          "metadata": {},
          "execution_count": 380
        }
      ]
    },
    {
      "cell_type": "code",
      "source": [
        ""
      ],
      "metadata": {
        "id": "ntmWN6J1CDli"
      },
      "execution_count": null,
      "outputs": []
    }
  ]
}